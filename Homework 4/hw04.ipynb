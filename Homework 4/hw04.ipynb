{
 "cells": [
  {
   "cell_type": "code",
   "execution_count": 36,
   "metadata": {
    "deletable": false,
    "editable": false
   },
   "outputs": [],
   "source": [
    "# Initialize Otter\n",
    "import otter\n",
    "grader = otter.Notebook(\"hw04.ipynb\")"
   ]
  },
  {
   "cell_type": "markdown",
   "metadata": {
    "nbgrader": {
     "grade": false,
     "grade_id": "introduction",
     "locked": true,
     "schema_version": 2,
     "solution": false
    }
   },
   "source": [
    "# 🚴‍♂️ Homework 4: Bike Sharing\n",
    "\n",
    "### Due Date: Thursday, February 27, 11:59 PM\n",
    "You must submit this assignment to Gradescope by the on-time deadline, Thursday, February 27, 11:59 PM. Please read the syllabus for the Slip Day policy. No late submissions beyond what is outlined in the Slip Day policy will be accepted. **We strongly encourage you to submit your work to Gradescope several hours before the deadline.** This way, you will have ample time to reach out to staff for support if you encounter difficulties with submission. While course staff is happy to help guide you with submitting your assignment ahead of the deadline, we will not respond to last-minute requests for assistance (TAs need to sleep, after all!).\n",
    "\n",
    "Please read the instructions carefully when submitting your work to Gradescope. \n",
    "\n",
    "## 👥 Collaboration Policy\n",
    "\n",
    "Data science is a collaborative activity. While you may talk with others about the homework, we ask that you **write your solutions individually**. If you discuss the assignments with others, please **include their names** below."
   ]
  },
  {
   "cell_type": "markdown",
   "metadata": {},
   "source": [
    "**Collaborators**: *list collaborators here*"
   ]
  },
  {
   "cell_type": "markdown",
   "metadata": {},
   "source": [
    "## 📜 Introduction\n",
    "\n",
    "Bike-sharing systems are a new(ish!) generation of traditional bike rentals where the process of signing up, renting, and returning is automated. Using these systems, users can easily rent a bike from one location and return it to another. \n",
    "\n",
    "In this assignment, you will clean, visualize, explore, and analyze bike-sharing data from Washington, D.C. You will also investigate open-ended questions. These open-ended questions ask you to think critically about how the plots you have created provide insight into the data.\n",
    "\n",
    "After completing this assignment, you should be comfortable with:\n",
    "\n",
    "* Reading plain text delimited data into `pandas`,\n",
    "* Wrangling data for analysis,\n",
    "* Using EDA to learn about your data, and \n",
    "* Making informative plots.\n",
    "\n",
    "## ✅ Grading\n",
    "Grading is broken down into auto-graded answers and free responses. For auto-graded answers, the results of your code are compared to provided and/or hidden tests. For free response, readers will evaluate how well you answered the question and/or fulfilled the requirements of the question. Most of the plots will be manually graded. Your plots should be *similar* to the given examples. We will accept small variations, such as color differences or slight variations in scale. However, it is in your best interest to make the plots as similar as possible, as similarity is subject to the readers. \n",
    "\n",
    "**Note that for ALL plotting questions from here on out, we will expect descriptive titles, axis labels, legends, etc. The following question serves as a good guideline on what is \"enough\": If I directly downloaded the plot and viewed it, would I be able to tell what was being visualized without knowing the question?** \n",
    "\n",
    "### Score breakdown\n",
    "\n",
    "\n",
    "\n",
    "Question | Manual | Points\n",
    "--- |---| ---\n",
    "1a |Yes |2\n",
    "2a |No |3\n",
    "2b |No |3\n",
    "3a |Yes |2\n",
    "3b |Yes |2\n",
    "3c |Yes |2\n",
    "3d |Yes |2\n",
    "4a |Yes |3\n",
    "4b |Yes |1\n",
    "4c |Yes |3\n",
    "5a |No |1\n",
    "5b |Yes |2\n",
    "5c |Yes |2\n",
    "5d |Yes |1\n",
    "6a |No |1\n",
    "6b |Yes |4\n",
    "6c |Yes |2\n",
    "7a |Yes |2\n",
    "7b |Yes |2\n",
    "Total |19 |40"
   ]
  },
  {
   "cell_type": "markdown",
   "metadata": {},
   "source": [
    "## 🏎️ Before You Start\n",
    "\n",
    "For each question in the assignment, please write down your answer in the answer cell(s) right below the question. \n",
    "\n",
    "We understand that it is helpful to have extra cells breaking down the process towards reaching your final answer. If you happen to create new cells below your answer to run code, **NEVER** add cells between a question cell and the answer cell below it. It will cause errors when we run the autograder, and it will sometimes cause a failure to generate the PDF file.\n",
    "\n",
    "**Important note: The local autograder tests will not be comprehensive. You can pass the automated tests in your notebook but still fail tests in the autograder.** Please be sure to check your results carefully.\n",
    "\n",
    "Finally, unless we state otherwise, **do not use for loops or list comprehensions**. The majority of this assignment can be done using built-in commands in `pandas` and `NumPy`.  Our autograder isn't smart enough to check, but you're depriving yourself of key learning objectives if you write loops / comprehensions, and you also won't be ready for the midterm.\n",
    "\n",
    "### Debugging Guide\n",
    "If you run into any technical issues, we highly recommend checking out the [Data 100 Debugging Guide](https://ds100.org/debugging-guide/). In this guide, you can find general questions about Jupyter notebooks / Datahub, Gradescope, and common `pandas` errors."
   ]
  },
  {
   "cell_type": "code",
   "execution_count": 37,
   "metadata": {
    "ExecuteTime": {
     "end_time": "2018-09-12T05:50:17.975391Z",
     "start_time": "2018-09-12T05:50:17.067217Z"
    },
    "nbgrader": {
     "grade": false,
     "grade_id": "setup",
     "locked": true,
     "schema_version": 2,
     "solution": false
    }
   },
   "outputs": [],
   "source": [
    "# Run this cell to set up your notebook. Make sure ds100_utils.py is in this assignment's folder\n",
    "import csv\n",
    "import numpy as np\n",
    "import pandas as pd\n",
    "import matplotlib.pyplot as plt\n",
    "import seaborn as sns\n",
    "import zipfile\n",
    "from pathlib import Path\n",
    "import ds100_utils\n",
    "\n",
    "# Default plot configurations\n",
    "%matplotlib inline\n",
    "plt.rcParams['figure.figsize'] = (16,8)\n",
    "plt.rcParams['figure.dpi'] = 150\n",
    "sns.set()\n",
    "\n",
    "import warnings\n",
    "warnings.filterwarnings(\"ignore\")\n",
    "\n",
    "from IPython.display import display, Latex, Markdown"
   ]
  },
  {
   "cell_type": "markdown",
   "metadata": {
    "nbgrader": {
     "grade": false,
     "grade_id": "codebook",
     "locked": true,
     "schema_version": 2,
     "solution": false
    }
   },
   "source": [
    "<hr style=\"border: 5px solid #003262;\" />\n",
    "<hr style=\"border: 1px solid #fdb515;\" />\n",
    "\n",
    "## 💽 Loading Bike Sharing Data\n",
    "We will explore data collected from a bike-sharing system in Washington, DC.\n",
    "\n",
    "Here are variables in the data:\n",
    "\n",
    "Variable       | Description\n",
    "-------------- | ------------------------------------------------------------------\n",
    "instant | unique ID\n",
    "dteday | date\n",
    "season | 1. spring <br> 2. summer <br> 3. fall <br> 4. winter\n",
    "yr | year (0: 2011, 1:2012)\n",
    "mnth | month (1 to 12)\n",
    "hr | hour (0 to 23)\n",
    "holiday | whether the day is a holiday or not\n",
    "weekday | day of the week\n",
    "workingday | if the day is neither a weekend nor a holiday\n",
    "weathersit | 1. clear or partly cloudy <br> 2. mist and clouds <br> 3. light snow or rain <br> 4. heavy rain or snow\n",
    "temp | normalized temperature in Celsius (divided by 41)\n",
    "atemp | normalized \"feels-like\" temperature in Celsius (divided by 50)\n",
    "hum | normalized percent humidity (divided by 100)\n",
    "windspeed| normalized wind speed (divided by 67)\n",
    "casual | count of casual users\n",
    "registered | count of registered users\n",
    "cnt | count of total rental bikes, including casual and registered  "
   ]
  },
  {
   "cell_type": "markdown",
   "metadata": {
    "nbgrader": {
     "grade": false,
     "grade_id": "cell-5a5f851db609367a",
     "locked": true,
     "schema_version": 2,
     "solution": false
    }
   },
   "source": [
    "###  📥 Download the Data"
   ]
  },
  {
   "cell_type": "code",
   "execution_count": 38,
   "metadata": {
    "ExecuteTime": {
     "end_time": "2018-09-12T05:50:18.077074Z",
     "start_time": "2018-09-12T05:50:17.976817Z"
    },
    "nbgrader": {
     "grade": false,
     "grade_id": "download_data",
     "locked": true,
     "schema_version": 2,
     "solution": false
    }
   },
   "outputs": [
    {
     "name": "stdout",
     "output_type": "stream",
     "text": [
      "Using version already downloaded: Wed Feb 26 20:11:41 2025\n",
      "MD5 hash of file: 2bcd2ca89278a8230f4e9461455c0811\n",
      "Saved at data/data.zip\n",
      "Extracted Files:\n",
      "\t data/bikeshare.txt\n",
      "\t data/data.zip\n"
     ]
    }
   ],
   "source": [
    "# Run this cell to download the data; no further action is needed.\n",
    "\n",
    "data_url = 'https://github.com/DS-100/fa20/raw/gh-pages/resources/assets/datasets/hw3-bikeshare.zip'\n",
    "file_name = 'data.zip'\n",
    "data_dir = 'data/'\n",
    "\n",
    "dest_path = ds100_utils.fetch_and_cache(data_url=data_url, data_dir=data_dir, file=file_name)\n",
    "print('Saved at {}'.format(dest_path))\n",
    "\n",
    "zipped_data = zipfile.ZipFile(dest_path, 'r')\n",
    "\n",
    "data_dir = Path('data')\n",
    "zipped_data.extractall(data_dir)\n",
    "\n",
    "\n",
    "print(\"Extracted Files:\")\n",
    "for f in data_dir.glob(\"*\"):\n",
    "    print(\"\\t\",f)"
   ]
  },
  {
   "cell_type": "markdown",
   "metadata": {
    "nbgrader": {
     "grade": false,
     "grade_id": "examine-contents",
     "locked": true,
     "schema_version": 2,
     "solution": false
    }
   },
   "source": [
    "### 🔎 Examining the File Contents\n",
    "\n",
    "As a quick, ungraded exercise, try and see if you can identify the file format of the file below. (No answer required)."
   ]
  },
  {
   "cell_type": "code",
   "execution_count": 39,
   "metadata": {
    "ExecuteTime": {
     "end_time": "2018-09-12T05:50:18.082153Z",
     "start_time": "2018-09-12T05:50:18.078562Z"
    },
    "nbgrader": {
     "grade": false,
     "grade_id": "examine-content-code",
     "locked": true,
     "schema_version": 2,
     "solution": false
    }
   },
   "outputs": [
    {
     "name": "stdout",
     "output_type": "stream",
     "text": [
      "instant,dteday,season,yr,mnth,hr,holiday,weekday,workingday,weathersit,temp,atemp,hum,windspeed,casual,registered,cnt\n",
      "1,2011-01-01,1,0,1,0,0,6,0,1,0.24,0.2879,0.81,0,3,13,16\n",
      "2,2011-01-01,1,0,1,1,0,6,0,1,0.22,0.2727,0.8,0,8,32,40\n",
      "3,2011-01-01,1,0,1,2,0,6,0,1,0.22,0.2727,0.8,0,5,27,32\n",
      "4,2011-01-01,1,0,1,3,0,6,0,1,0.24,0.2879,0.75,0,3,10,13\n"
     ]
    }
   ],
   "source": [
    "# Run this cell to look at the top of the file; no further action is needed.\n",
    "for line in ds100_utils.head(data_dir/'bikeshare.txt'):\n",
    "    print(line,end=\"\")"
   ]
  },
  {
   "cell_type": "markdown",
   "metadata": {
    "nbgrader": {
     "grade": false,
     "grade_id": "examine-size",
     "locked": true,
     "schema_version": 2,
     "solution": false
    }
   },
   "source": [
    "### 🗻 Size\n",
    "Is the file big?  How many records do we expect to find? Once again, this is ungraded, and there is no answer required."
   ]
  },
  {
   "cell_type": "code",
   "execution_count": 40,
   "metadata": {
    "ExecuteTime": {
     "end_time": "2018-09-12T05:50:18.092524Z",
     "start_time": "2018-09-12T05:50:18.083535Z"
    },
    "nbgrader": {
     "grade": false,
     "grade_id": "examine-size-code",
     "locked": true,
     "schema_version": 2,
     "solution": false
    }
   },
   "outputs": [
    {
     "name": "stdout",
     "output_type": "stream",
     "text": [
      "Size: 1156736 bytes\n",
      "Line Count: 17380 lines\n"
     ]
    }
   ],
   "source": [
    "# Run this cell to view some metadata; no further action is needed.\n",
    "print(\"Size:\", (data_dir/\"bikeshare.txt\").stat().st_size, \"bytes\")\n",
    "print(\"Line Count:\", ds100_utils.line_count(data_dir/\"bikeshare.txt\"), \"lines\")"
   ]
  },
  {
   "cell_type": "markdown",
   "metadata": {
    "nbgrader": {
     "grade": false,
     "grade_id": "load-data",
     "locked": true,
     "schema_version": 2,
     "solution": false
    }
   },
   "source": [
    "### 💾 Loading the Data\n",
    "\n",
    "The following code loads the data into the `bike` `DataFrame`."
   ]
  },
  {
   "cell_type": "code",
   "execution_count": 41,
   "metadata": {
    "ExecuteTime": {
     "end_time": "2018-09-12T05:50:18.144004Z",
     "start_time": "2018-09-12T05:50:18.094479Z"
    },
    "nbgrader": {
     "grade": false,
     "grade_id": "load-data-code",
     "locked": true,
     "schema_version": 2,
     "solution": false
    },
    "tags": []
   },
   "outputs": [
    {
     "data": {
      "text/html": [
       "<div>\n",
       "<style scoped>\n",
       "    .dataframe tbody tr th:only-of-type {\n",
       "        vertical-align: middle;\n",
       "    }\n",
       "\n",
       "    .dataframe tbody tr th {\n",
       "        vertical-align: top;\n",
       "    }\n",
       "\n",
       "    .dataframe thead th {\n",
       "        text-align: right;\n",
       "    }\n",
       "</style>\n",
       "<table border=\"1\" class=\"dataframe\">\n",
       "  <thead>\n",
       "    <tr style=\"text-align: right;\">\n",
       "      <th></th>\n",
       "      <th>instant</th>\n",
       "      <th>dteday</th>\n",
       "      <th>season</th>\n",
       "      <th>yr</th>\n",
       "      <th>mnth</th>\n",
       "      <th>hr</th>\n",
       "      <th>holiday</th>\n",
       "      <th>weekday</th>\n",
       "      <th>workingday</th>\n",
       "      <th>weathersit</th>\n",
       "      <th>temp</th>\n",
       "      <th>atemp</th>\n",
       "      <th>hum</th>\n",
       "      <th>windspeed</th>\n",
       "      <th>casual</th>\n",
       "      <th>registered</th>\n",
       "      <th>cnt</th>\n",
       "    </tr>\n",
       "  </thead>\n",
       "  <tbody>\n",
       "    <tr>\n",
       "      <th>0</th>\n",
       "      <td>1</td>\n",
       "      <td>2011-01-01</td>\n",
       "      <td>1</td>\n",
       "      <td>0</td>\n",
       "      <td>1</td>\n",
       "      <td>0</td>\n",
       "      <td>0</td>\n",
       "      <td>6</td>\n",
       "      <td>0</td>\n",
       "      <td>1</td>\n",
       "      <td>0.24</td>\n",
       "      <td>0.2879</td>\n",
       "      <td>0.81</td>\n",
       "      <td>0.0</td>\n",
       "      <td>3</td>\n",
       "      <td>13</td>\n",
       "      <td>16</td>\n",
       "    </tr>\n",
       "    <tr>\n",
       "      <th>1</th>\n",
       "      <td>2</td>\n",
       "      <td>2011-01-01</td>\n",
       "      <td>1</td>\n",
       "      <td>0</td>\n",
       "      <td>1</td>\n",
       "      <td>1</td>\n",
       "      <td>0</td>\n",
       "      <td>6</td>\n",
       "      <td>0</td>\n",
       "      <td>1</td>\n",
       "      <td>0.22</td>\n",
       "      <td>0.2727</td>\n",
       "      <td>0.80</td>\n",
       "      <td>0.0</td>\n",
       "      <td>8</td>\n",
       "      <td>32</td>\n",
       "      <td>40</td>\n",
       "    </tr>\n",
       "    <tr>\n",
       "      <th>2</th>\n",
       "      <td>3</td>\n",
       "      <td>2011-01-01</td>\n",
       "      <td>1</td>\n",
       "      <td>0</td>\n",
       "      <td>1</td>\n",
       "      <td>2</td>\n",
       "      <td>0</td>\n",
       "      <td>6</td>\n",
       "      <td>0</td>\n",
       "      <td>1</td>\n",
       "      <td>0.22</td>\n",
       "      <td>0.2727</td>\n",
       "      <td>0.80</td>\n",
       "      <td>0.0</td>\n",
       "      <td>5</td>\n",
       "      <td>27</td>\n",
       "      <td>32</td>\n",
       "    </tr>\n",
       "    <tr>\n",
       "      <th>3</th>\n",
       "      <td>4</td>\n",
       "      <td>2011-01-01</td>\n",
       "      <td>1</td>\n",
       "      <td>0</td>\n",
       "      <td>1</td>\n",
       "      <td>3</td>\n",
       "      <td>0</td>\n",
       "      <td>6</td>\n",
       "      <td>0</td>\n",
       "      <td>1</td>\n",
       "      <td>0.24</td>\n",
       "      <td>0.2879</td>\n",
       "      <td>0.75</td>\n",
       "      <td>0.0</td>\n",
       "      <td>3</td>\n",
       "      <td>10</td>\n",
       "      <td>13</td>\n",
       "    </tr>\n",
       "    <tr>\n",
       "      <th>4</th>\n",
       "      <td>5</td>\n",
       "      <td>2011-01-01</td>\n",
       "      <td>1</td>\n",
       "      <td>0</td>\n",
       "      <td>1</td>\n",
       "      <td>4</td>\n",
       "      <td>0</td>\n",
       "      <td>6</td>\n",
       "      <td>0</td>\n",
       "      <td>1</td>\n",
       "      <td>0.24</td>\n",
       "      <td>0.2879</td>\n",
       "      <td>0.75</td>\n",
       "      <td>0.0</td>\n",
       "      <td>0</td>\n",
       "      <td>1</td>\n",
       "      <td>1</td>\n",
       "    </tr>\n",
       "  </tbody>\n",
       "</table>\n",
       "</div>"
      ],
      "text/plain": [
       "   instant      dteday  season  yr  mnth  hr  holiday  weekday  workingday  \\\n",
       "0        1  2011-01-01       1   0     1   0        0        6           0   \n",
       "1        2  2011-01-01       1   0     1   1        0        6           0   \n",
       "2        3  2011-01-01       1   0     1   2        0        6           0   \n",
       "3        4  2011-01-01       1   0     1   3        0        6           0   \n",
       "4        5  2011-01-01       1   0     1   4        0        6           0   \n",
       "\n",
       "   weathersit  temp   atemp   hum  windspeed  casual  registered  cnt  \n",
       "0           1  0.24  0.2879  0.81        0.0       3          13   16  \n",
       "1           1  0.22  0.2727  0.80        0.0       8          32   40  \n",
       "2           1  0.22  0.2727  0.80        0.0       5          27   32  \n",
       "3           1  0.24  0.2879  0.75        0.0       3          10   13  \n",
       "4           1  0.24  0.2879  0.75        0.0       0           1    1  "
      ]
     },
     "execution_count": 41,
     "metadata": {},
     "output_type": "execute_result"
    }
   ],
   "source": [
    "# Run this cell to load the data; no further action is needed.\n",
    "bike = pd.read_csv(data_dir/'bikeshare.txt')\n",
    "bike.head()"
   ]
  },
  {
   "cell_type": "markdown",
   "metadata": {
    "nbgrader": {
     "grade": false,
     "grade_id": "cell-a0f8e3c0cc106c97",
     "locked": true,
     "schema_version": 2,
     "solution": false
    }
   },
   "source": [
    "Below, we show the shape of the file. \n",
    "\n",
    "You should see that the size of the `DataFrame` matches the number of lines in the file minus the header row."
   ]
  },
  {
   "cell_type": "code",
   "execution_count": 42,
   "metadata": {
    "nbgrader": {
     "grade": false,
     "grade_id": "cell-ffa02efc2941b30c",
     "locked": true,
     "schema_version": 2,
     "solution": false
    }
   },
   "outputs": [
    {
     "data": {
      "text/plain": [
       "(17379, 17)"
      ]
     },
     "execution_count": 42,
     "metadata": {},
     "output_type": "execute_result"
    }
   ],
   "source": [
    "bike.shape"
   ]
  },
  {
   "cell_type": "markdown",
   "metadata": {},
   "source": [
    "<hr style=\"border: 1px solid #fdb515;\" />\n",
    "\n",
    "## Question 1: Examining the Data\n",
    "\n",
    "Before we start working with the data, let's examine its granularity."
   ]
  },
  {
   "cell_type": "markdown",
   "metadata": {
    "deletable": false,
    "editable": false
   },
   "source": [
    "<!-- BEGIN QUESTION -->\n",
    "\n",
    "<br>\n",
    "\n",
    "--- \n",
    "### Question 1a\n",
    "Granularity refers to the level of detail in a dataset—what each row represents in terms of time, space, or entity. In this dataset, each row corresponds to **bike-sharing data per hour** in Washington, DC. Based on the granularity and the variables present in the data, what might be some of the limitations of using this data? \n",
    "\n",
    "What are two additional data categories/variables that one could collect to address some of these limitations?"
   ]
  },
  {
   "cell_type": "markdown",
   "metadata": {
    "tags": [
     "otter_answer_cell"
    ]
   },
   "source": [
    "The dataset provides hourly bike-sharing data, meaning each row represents the total rentals in a given hour. While this granularity allows for temporal trend analysis, it has key limitations:\n",
    "\t1.\tNo Trip Origins/Destinations: The dataset lacks location data, making it difficult to analyze popular routes, station imbalances, and commuting patterns.\n",
    "\t2.\tNo User Demographics: Without data on age, gender, or income, we cannot assess who is using the service or whether access is equitable.\n",
    "\n",
    "To address these gaps, the dataset could include:\n",
    "Trip Level Geospatial Data (start and end station locations) for spatial analysis.\n",
    "User Profile Data (optional demographic indicators) to understand ridership patterns across different populations.\n",
    "\n",
    "These additions would enhance insights into who, where, and why people use bike-sharing, informing urban planning and equity-focused policies"
   ]
  },
  {
   "cell_type": "markdown",
   "metadata": {
    "deletable": false,
    "editable": false
   },
   "source": [
    "<!-- END QUESTION -->\n",
    "\n"
   ]
  },
  {
   "cell_type": "markdown",
   "metadata": {
    "nbgrader": {
     "grade": false,
     "grade_id": "q1",
     "locked": true,
     "schema_version": 2,
     "solution": false
    }
   },
   "source": [
    "<hr style=\"border: 1px solid #fdb515;\" />\n",
    "\n",
    "## Question 2: Data Preparation\n",
    "Several variables in the dataset are numeric/integer but actually represent categorical data. These include `holiday`, `weekday`, `workingday`, and `weathersit`.\n",
    "\n",
    "In this problem, we will convert these four variables to strings that specify the categories. Specifically, use 3-letter labels (`Sun`, `Mon`, `Tue`, `Wed`, `Thu`, `Fri`, and `Sat`) for `weekday`. For `holiday` and `workingday`, use `yes`/`no`.\n",
    "\n",
    "We will *mutate* the `bike` `DataFrame`, which means we will overwrite the corresponding variables in `bike`. This is an in-place data transformation, so the changes will be documented in the notebook for future reference. Ensure that the underlying data file `bikeshare.txt` remains unmodified.\n"
   ]
  },
  {
   "cell_type": "markdown",
   "metadata": {
    "deletable": false,
    "editable": false
   },
   "source": [
    "<br>\n",
    "\n",
    "--- \n",
    "### Question 2a \n",
    "\n",
    "\n",
    "Decode the `holiday`, `weekday`, `workingday`, and `weathersit` fields:\n",
    "\n",
    "1. `holiday`: Convert to `yes` and `no`.  **Hint:** There are fewer holidays.\n",
    "1. `weekday`: Mutate the `'weekday'` column to use the 3-letter label (`'Sun'`, `'Mon'`, `'Tue'`, `'Wed'`, `'Thu'`, `'Fri'`, and `'Sat'`) instead of its current numerical values. Assume `0` corresponds to `Sun`, `1` to `Mon`, and so on, in order of the previous sentence.\n",
    "1. `workingday`: Convert to `yes` and `no`.\n",
    "1. `weathersit`: You should replace each value with one of `Clear`, `Mist`, `Light`, or `Heavy`. Assume `1` corresponds to `Clear`, `2` corresponds to `Mist`, and so on in order of the previous sentence.\n",
    "\n",
    "**Note:** If you mutate any of the fields above, then they will not be in the format of their original `.txt` file. As a debugging tip, if you want to revert changes, rerun the cell above that loads in the `bike` `DataFrame`.\n",
    "\n",
    "**Hint:** One approach is to use the `replace`[(documentation)](https://pandas.pydata.org/pandas-docs/stable/reference/api/pandas.DataFrame.replace.html) method of the `pd.DataFrame` class."
   ]
  },
  {
   "cell_type": "code",
   "execution_count": 43,
   "metadata": {
    "ExecuteTime": {
     "end_time": "2018-09-12T05:50:18.179751Z",
     "start_time": "2018-09-12T05:50:18.145438Z"
    },
    "nbgrader": {
     "grade": false,
     "grade_id": "q1a-answer",
     "locked": false,
     "schema_version": 2,
     "solution": true
    },
    "tags": [
     "student",
     "otter_answer_cell"
    ]
   },
   "outputs": [
    {
     "data": {
      "text/html": [
       "<div>\n",
       "<style scoped>\n",
       "    .dataframe tbody tr th:only-of-type {\n",
       "        vertical-align: middle;\n",
       "    }\n",
       "\n",
       "    .dataframe tbody tr th {\n",
       "        vertical-align: top;\n",
       "    }\n",
       "\n",
       "    .dataframe thead th {\n",
       "        text-align: right;\n",
       "    }\n",
       "</style>\n",
       "<table border=\"1\" class=\"dataframe\">\n",
       "  <thead>\n",
       "    <tr style=\"text-align: right;\">\n",
       "      <th></th>\n",
       "      <th>instant</th>\n",
       "      <th>dteday</th>\n",
       "      <th>season</th>\n",
       "      <th>yr</th>\n",
       "      <th>mnth</th>\n",
       "      <th>hr</th>\n",
       "      <th>holiday</th>\n",
       "      <th>weekday</th>\n",
       "      <th>workingday</th>\n",
       "      <th>weathersit</th>\n",
       "      <th>temp</th>\n",
       "      <th>atemp</th>\n",
       "      <th>hum</th>\n",
       "      <th>windspeed</th>\n",
       "      <th>casual</th>\n",
       "      <th>registered</th>\n",
       "      <th>cnt</th>\n",
       "    </tr>\n",
       "  </thead>\n",
       "  <tbody>\n",
       "    <tr>\n",
       "      <th>0</th>\n",
       "      <td>1</td>\n",
       "      <td>2011-01-01</td>\n",
       "      <td>1</td>\n",
       "      <td>0</td>\n",
       "      <td>1</td>\n",
       "      <td>0</td>\n",
       "      <td>no</td>\n",
       "      <td>Sat</td>\n",
       "      <td>no</td>\n",
       "      <td>Clear</td>\n",
       "      <td>0.24</td>\n",
       "      <td>0.2879</td>\n",
       "      <td>0.81</td>\n",
       "      <td>0.0</td>\n",
       "      <td>3</td>\n",
       "      <td>13</td>\n",
       "      <td>16</td>\n",
       "    </tr>\n",
       "    <tr>\n",
       "      <th>1</th>\n",
       "      <td>2</td>\n",
       "      <td>2011-01-01</td>\n",
       "      <td>1</td>\n",
       "      <td>0</td>\n",
       "      <td>1</td>\n",
       "      <td>1</td>\n",
       "      <td>no</td>\n",
       "      <td>Sat</td>\n",
       "      <td>no</td>\n",
       "      <td>Clear</td>\n",
       "      <td>0.22</td>\n",
       "      <td>0.2727</td>\n",
       "      <td>0.80</td>\n",
       "      <td>0.0</td>\n",
       "      <td>8</td>\n",
       "      <td>32</td>\n",
       "      <td>40</td>\n",
       "    </tr>\n",
       "    <tr>\n",
       "      <th>2</th>\n",
       "      <td>3</td>\n",
       "      <td>2011-01-01</td>\n",
       "      <td>1</td>\n",
       "      <td>0</td>\n",
       "      <td>1</td>\n",
       "      <td>2</td>\n",
       "      <td>no</td>\n",
       "      <td>Sat</td>\n",
       "      <td>no</td>\n",
       "      <td>Clear</td>\n",
       "      <td>0.22</td>\n",
       "      <td>0.2727</td>\n",
       "      <td>0.80</td>\n",
       "      <td>0.0</td>\n",
       "      <td>5</td>\n",
       "      <td>27</td>\n",
       "      <td>32</td>\n",
       "    </tr>\n",
       "    <tr>\n",
       "      <th>3</th>\n",
       "      <td>4</td>\n",
       "      <td>2011-01-01</td>\n",
       "      <td>1</td>\n",
       "      <td>0</td>\n",
       "      <td>1</td>\n",
       "      <td>3</td>\n",
       "      <td>no</td>\n",
       "      <td>Sat</td>\n",
       "      <td>no</td>\n",
       "      <td>Clear</td>\n",
       "      <td>0.24</td>\n",
       "      <td>0.2879</td>\n",
       "      <td>0.75</td>\n",
       "      <td>0.0</td>\n",
       "      <td>3</td>\n",
       "      <td>10</td>\n",
       "      <td>13</td>\n",
       "    </tr>\n",
       "    <tr>\n",
       "      <th>4</th>\n",
       "      <td>5</td>\n",
       "      <td>2011-01-01</td>\n",
       "      <td>1</td>\n",
       "      <td>0</td>\n",
       "      <td>1</td>\n",
       "      <td>4</td>\n",
       "      <td>no</td>\n",
       "      <td>Sat</td>\n",
       "      <td>no</td>\n",
       "      <td>Clear</td>\n",
       "      <td>0.24</td>\n",
       "      <td>0.2879</td>\n",
       "      <td>0.75</td>\n",
       "      <td>0.0</td>\n",
       "      <td>0</td>\n",
       "      <td>1</td>\n",
       "      <td>1</td>\n",
       "    </tr>\n",
       "  </tbody>\n",
       "</table>\n",
       "</div>"
      ],
      "text/plain": [
       "   instant      dteday  season  yr  mnth  hr holiday weekday workingday  \\\n",
       "0        1  2011-01-01       1   0     1   0      no     Sat         no   \n",
       "1        2  2011-01-01       1   0     1   1      no     Sat         no   \n",
       "2        3  2011-01-01       1   0     1   2      no     Sat         no   \n",
       "3        4  2011-01-01       1   0     1   3      no     Sat         no   \n",
       "4        5  2011-01-01       1   0     1   4      no     Sat         no   \n",
       "\n",
       "  weathersit  temp   atemp   hum  windspeed  casual  registered  cnt  \n",
       "0      Clear  0.24  0.2879  0.81        0.0       3          13   16  \n",
       "1      Clear  0.22  0.2727  0.80        0.0       8          32   40  \n",
       "2      Clear  0.22  0.2727  0.80        0.0       5          27   32  \n",
       "3      Clear  0.24  0.2879  0.75        0.0       3          10   13  \n",
       "4      Clear  0.24  0.2879  0.75        0.0       0           1    1  "
      ]
     },
     "execution_count": 43,
     "metadata": {},
     "output_type": "execute_result"
    }
   ],
   "source": [
    "# Define mapping dictionaries for categorical variables\n",
    "holiday_mapping = {0:'no', 1:'yes'}\n",
    "workingday_mapping = {0:'no', 1:'yes'}\n",
    "weekday_mapping = {0: \"Sun\", 1: \"Mon\", 2: \"Tue\", 3: \"Wed\", 4: \"Thu\", 5: \"Fri\", 6: \"Sat\"}\n",
    "weathersit_mapping = {1: \"Clear\", 2: \"Mist\", 3: \"Light\", 4: \"Heavy\"}\n",
    "\n",
    "# Modify holiday, weekday, workingday, and weathersit here.\n",
    "bike['holiday'] = bike['holiday'].replace(holiday_mapping)\n",
    "bike['workingday'] = bike['workingday'].replace(workingday_mapping)\n",
    "bike[\"weekday\"] = bike[\"weekday\"].replace(weekday_mapping)\n",
    "bike[\"weathersit\"] = bike[\"weathersit\"].replace(weathersit_mapping)\n",
    "\n",
    "bike.head()"
   ]
  },
  {
   "cell_type": "code",
   "execution_count": 44,
   "metadata": {
    "deletable": false,
    "editable": false
   },
   "outputs": [
    {
     "data": {
      "text/html": [
       "<p><strong><pre style='display: inline;'>q2a</pre></strong> passed! 🙌</p>"
      ],
      "text/plain": [
       "q2a results: All test cases passed!"
      ]
     },
     "execution_count": 44,
     "metadata": {},
     "output_type": "execute_result"
    }
   ],
   "source": [
    "grader.check(\"q2a\")"
   ]
  },
  {
   "cell_type": "markdown",
   "metadata": {
    "deletable": false,
    "editable": false
   },
   "source": [
    "<br>\n",
    "\n",
    "--- \n",
    "### Question 2b\n",
    "In the next few questions, we will analyze the daily number of registered and unregistered users.\n",
    "\n",
    "Construct a `DataFrame` named `daily_counts` indexed by `dteday` with the following columns:\n",
    "* `casual`: Total number of casual riders for each day.\n",
    "* `registered`: Total number of registered riders for each day.\n",
    "* `workingday`: Whether that day is a working day or not (`yes` or `no`).\n",
    "\n",
    "**Hint:** This question is similar to Question 2b in Homework 2B."
   ]
  },
  {
   "cell_type": "code",
   "execution_count": 45,
   "metadata": {
    "ExecuteTime": {
     "end_time": "2018-09-12T05:50:18.215897Z",
     "start_time": "2018-09-12T05:50:18.198322Z"
    },
    "nbgrader": {
     "grade": false,
     "grade_id": "q1c-answer",
     "locked": false,
     "schema_version": 2,
     "solution": true
    },
    "tags": [
     "student",
     "otter_answer_cell"
    ]
   },
   "outputs": [
    {
     "data": {
      "text/html": [
       "<div>\n",
       "<style scoped>\n",
       "    .dataframe tbody tr th:only-of-type {\n",
       "        vertical-align: middle;\n",
       "    }\n",
       "\n",
       "    .dataframe tbody tr th {\n",
       "        vertical-align: top;\n",
       "    }\n",
       "\n",
       "    .dataframe thead th {\n",
       "        text-align: right;\n",
       "    }\n",
       "</style>\n",
       "<table border=\"1\" class=\"dataframe\">\n",
       "  <thead>\n",
       "    <tr style=\"text-align: right;\">\n",
       "      <th></th>\n",
       "      <th>casual</th>\n",
       "      <th>registered</th>\n",
       "      <th>workingday</th>\n",
       "    </tr>\n",
       "    <tr>\n",
       "      <th>dteday</th>\n",
       "      <th></th>\n",
       "      <th></th>\n",
       "      <th></th>\n",
       "    </tr>\n",
       "  </thead>\n",
       "  <tbody>\n",
       "    <tr>\n",
       "      <th>2011-01-01</th>\n",
       "      <td>331</td>\n",
       "      <td>654</td>\n",
       "      <td>no</td>\n",
       "    </tr>\n",
       "    <tr>\n",
       "      <th>2011-01-02</th>\n",
       "      <td>131</td>\n",
       "      <td>670</td>\n",
       "      <td>no</td>\n",
       "    </tr>\n",
       "    <tr>\n",
       "      <th>2011-01-03</th>\n",
       "      <td>120</td>\n",
       "      <td>1229</td>\n",
       "      <td>yes</td>\n",
       "    </tr>\n",
       "    <tr>\n",
       "      <th>2011-01-04</th>\n",
       "      <td>108</td>\n",
       "      <td>1454</td>\n",
       "      <td>yes</td>\n",
       "    </tr>\n",
       "    <tr>\n",
       "      <th>2011-01-05</th>\n",
       "      <td>82</td>\n",
       "      <td>1518</td>\n",
       "      <td>yes</td>\n",
       "    </tr>\n",
       "  </tbody>\n",
       "</table>\n",
       "</div>"
      ],
      "text/plain": [
       "            casual  registered workingday\n",
       "dteday                                   \n",
       "2011-01-01     331         654         no\n",
       "2011-01-02     131         670         no\n",
       "2011-01-03     120        1229        yes\n",
       "2011-01-04     108        1454        yes\n",
       "2011-01-05      82        1518        yes"
      ]
     },
     "execution_count": 45,
     "metadata": {},
     "output_type": "execute_result"
    }
   ],
   "source": [
    "daily_counts = (bike.groupby(\"dteday\")\n",
    "                .agg({\"casual\":\"sum\",\n",
    "                      \"registered\":\"sum\",\n",
    "                      \"workingday\":\"first\"}))\n",
    "daily_counts.head()"
   ]
  },
  {
   "cell_type": "code",
   "execution_count": 46,
   "metadata": {
    "deletable": false,
    "editable": false
   },
   "outputs": [
    {
     "data": {
      "text/html": [
       "<p><strong><pre style='display: inline;'>q2b</pre></strong> passed! 🍀</p>"
      ],
      "text/plain": [
       "q2b results: All test cases passed!"
      ]
     },
     "execution_count": 46,
     "metadata": {},
     "output_type": "execute_result"
    }
   ],
   "source": [
    "grader.check(\"q2b\")"
   ]
  },
  {
   "cell_type": "markdown",
   "metadata": {
    "nbgrader": {
     "grade": false,
     "grade_id": "q2",
     "locked": true,
     "schema_version": 2,
     "solution": false
    }
   },
   "source": [
    "<hr style=\"border: 1px solid #fdb515;\" />\n",
    "\n",
    "## Question 3: Exploring the Distribution of Riders\n",
    "\n",
    "Let's begin by comparing the distribution of the daily counts of casual and registered riders. Questions 3-8 require using many visualization methods, so for your convenience, we have summarized a few useful ones below.\n",
    "\n",
    "### Matplotlib and Seaborn Table of Common Functions\n",
    "\n",
    "`x` and `y` are sequences of values (i.e., arrays, lists, or `Series`).\n",
    "\n",
    "| Function | Description |\n",
    "| -------- | ----------- |\n",
    "| `plt.title(name)` | Adds a title `name` to the current plot. |\n",
    "| `plt.xlabel(name)` | Adds a label `name` to the x-axis. |\n",
    "| `plt.ylabel(name)` | Adds a label `name` to the y-axis. |\n",
    "| `plt.plot(x, y)` | Creates a line plot of `x` against `y`. |\n",
    "| `plt.scatter(x, y)` | Creates a scatter plot of `x` against `y`. |\n",
    "| `plt.hist(x, bins=None)` | Creates a histogram of `x`; `bins` can be an integer or a sequence. |\n",
    "| `plt.bar(x, height)` | Creates a bar plot of categories `x` and corresponding heights `height`. |\n",
    "| `sns.histplot(data=, x=, y=, hue=, kde=)` | Creates a distribution plot; `data` is a `DataFrame`; `x`, `y` are column names in `data` that specify positions on the `x` and `y` axes; `hue` is a column name in `data` that adds subcategories to the plot based on `hue`; `kde` is a boolean that determines whether to overlay a KDE curve. |\n",
    "| `sns.lineplot(data=, x=, y=, hue=)` | Creates a line plot. |\n",
    "| `sns.scatterplot(data=, x=, y=, hue=, size=)` | Creates a scatter plot; `size` is a vector that contains the size of the point for each subcategory based on `hue`. |\n",
    "| `sns.kdeplot(data=, x=, y=)` | Creates a kernel density estimate plot; `data` is a `DataFrame`; `x`, `y` are column names in `data` that specify positions on the `x` and `y` axes. |\n",
    "| `sns.jointplot(data=, x=, y=, kind=)` | Creates a joint plot of 2 variables with a KDE plot in the middle and a distribution plot for each variable on the sides; `kind` determines the visualization type for the distribution plot, can be `scatter`, `kde` or `hist`. |\n",
    "\n",
    "**Note**: This list of functions and parameters is **not** exhaustive. You may need to reference and explore more documentation to answer the following questions, but we will help you through that process."
   ]
  },
  {
   "cell_type": "markdown",
   "metadata": {
    "deletable": false,
    "editable": false
   },
   "source": [
    "<!-- BEGIN QUESTION -->\n",
    "\n",
    "<br>\n",
    "\n",
    "--- \n",
    "### Question 3a\n",
    "\n",
    "Use the `sns.histplot`[(documentation)](https://seaborn.pydata.org/generated/seaborn.histplot.html#seaborn.histplot) function to create a plot that overlays the distribution of the daily counts of bike users.\n",
    "\n",
    "- Use blue to represent `casual` riders, and red to represent `registered` riders. \n",
    "\n",
    "The temporal granularity of the records should be daily counts, which you should have after completing question 2c. In other words, you should be using `daily_counts` to answer this question.\n",
    "\n",
    "**Hints:** \n",
    "- You will need to set the `stat` parameter appropriately to match the desired plot.\n",
    "- The `label` parameter of `sns.histplot` allows you to specify, as a string, how the plot should be labeled in the legend. Although label is not explicitly documented in Seaborn, it works because `sns.histplot` internally relies on  `matplotlib`, which supports the label parameter. For example, passing in `label=\"My data\"` would give your plot the label `\"My data\"` in the legend.\n",
    "- You will need to make two calls to `sns.histplot`.\n",
    " \n",
    "\n",
    "Include a `legend`, `xlabel`, `ylabel`, and `title`. Read the [seaborn plotting tutorial](https://seaborn.pydata.org/tutorial/distributions.html) if you're not sure how to add these. After creating the plot, look at it and make sure you understand what the plot is actually telling us, e.g., on a given day, the most likely number of registered riders we expect is ~4000, but it could be anywhere from nearly 0 to 7000.\n",
    "\n",
    "<img src='images/casual_v_registered.png' width=\"700px\" />\n",
    "\n",
    "For all visualizations in Data 100, our grading team will evaluate your plot based on its similarity to the provided example. While your plot does not need to be _identical_ to the example shown, we do expect it to capture its main features, such as the **general shape of the distribution**, the **axis labels**, the **legend**, and the **title**. It is okay if your plot contains small stylistic differences, such as differences in color, line weight, font, or size/scale."
   ]
  },
  {
   "cell_type": "code",
   "execution_count": 47,
   "metadata": {
    "ExecuteTime": {
     "end_time": "2018-09-12T05:50:18.436723Z",
     "start_time": "2018-09-12T05:50:18.223712Z"
    },
    "jupyter": {
     "source_hidden": true
    },
    "nbgrader": {
     "grade": true,
     "grade_id": "q2a-answer",
     "locked": false,
     "points": 2,
     "schema_version": 2,
     "solution": true
    },
    "tags": [
     "student",
     "otter_answer_cell"
    ]
   },
   "outputs": [
    {
     "data": {
      "image/png": "[encoded data removed]",
      "text/plain": [
       "<Figure size 1800x900 with 1 Axes>"
      ]
     },
     "metadata": {},
     "output_type": "display_data"
    }
   ],
   "source": [
    "# Aggregate the data to daily counts\n",
    "daily_counts = bike.groupby(\"dteday\").agg({\n",
    "    \"casual\": \"sum\",\n",
    "    \"registered\": \"sum\"\n",
    "}).reset_index()\n",
    "\n",
    "# Set figure size\n",
    "plt.figure(figsize=(12, 6))\n",
    "\n",
    "# Create histograms for casual and registered riders (daily basis) with density scaling\n",
    "sns.histplot(\n",
    "    data=daily_counts, \n",
    "    x=\"casual\", \n",
    "    bins=20, \n",
    "    kde=True, \n",
    "    color=\"blue\", \n",
    "    label=\"casual\", \n",
    "    alpha=0.5, \n",
    "    stat=\"density\"  # Normalize to density instead of frequency\n",
    ")\n",
    "\n",
    "sns.histplot(\n",
    "    data=daily_counts, \n",
    "    x=\"registered\", \n",
    "    bins=20, \n",
    "    kde=True, \n",
    "    color=\"red\", \n",
    "    label=\"registered\", \n",
    "    alpha=0.5, \n",
    "    stat=\"density\"  # Normalize to density instead of frequency\n",
    ")\n",
    "\n",
    "# Adjust x-axis range\n",
    "plt.xlim([0, 7000])\n",
    "\n",
    "# Title and labels\n",
    "plt.title(\"Distribution Comparison of Casual vs Registered Riders (Daily Counts)\", fontsize=14)\n",
    "plt.xlabel(\"Rider Count\", fontsize=12)\n",
    "plt.ylabel(\"Density\", fontsize=12)  # Correct y-axis label\n",
    "\n",
    "# Move legend inside the plot\n",
    "plt.legend(loc=\"upper right\")\n",
    "\n",
    "# Show the plot\n",
    "plt.show()"
   ]
  },
  {
   "cell_type": "markdown",
   "metadata": {
    "deletable": false,
    "editable": false
   },
   "source": [
    "<!-- END QUESTION -->\n",
    "\n",
    "<!-- BEGIN QUESTION -->\n",
    "\n",
    "<br>\n",
    "\n",
    "--- \n",
    "### Question 3b\n",
    "\n",
    "In the cell below, describe the differences you notice between the density curves for casual and registered riders.  \n",
    "\n",
    "- Consider concepts such as modes, symmetry, skewness, tails, gaps, and outliers. \n",
    "\n",
    "- Include a comment on the spread of the distributions. "
   ]
  },
  {
   "cell_type": "markdown",
   "metadata": {
    "tags": [
     "otter_answer_cell"
    ]
   },
   "source": [
    "_The casual riders’ density curve is unimodal, with a peak between 200 and 1000 daily riders. The distribution is right-skewed, meaning that most days have relatively low casual ridership, but there are some days with significantly higher usage. The long right tail extends beyond 3000 riders, indicating that on rare occasions, casual ridership spikes significantly. The spread is narrower compared to registered riders, showing that casual bike usage is more sporadic and event-driven.\n",
    "\n",
    "The registered riders’ density curve is also unimodal, with a peak around 3500–4000 daily riders. Unlike casual riders, the registered riders’ distribution is more symmetric, meaning that daily counts tend to cluster around the peak without extreme fluctuations. The right tail extends toward 7000 riders, but the density declines gradually, suggesting that high-demand days occur with relative frequency. The wider spread of registered riders’ counts suggests that they have more stable and predictable usage patterns compared to casual riders.\n",
    "\n",
    "In terms of gaps and outliers, there are no significant gaps in either distribution, meaning both groups consistently rent bikes throughout the dataset. However, casual riders show greater fluctuations, with more extreme low and high counts, indicating that their ridership is more influenced by external factors such as weather, holidays, or special events. Registered riders, on the other hand, maintain a steadier daily rental pattern with fewer outliers.._"
   ]
  },
  {
   "cell_type": "markdown",
   "metadata": {
    "deletable": false,
    "editable": false
   },
   "source": [
    "<!-- END QUESTION -->\n",
    "\n",
    "<!-- BEGIN QUESTION -->\n",
    "\n",
    "<br>\n",
    "\n",
    "--- \n",
    "### Question 3c\n",
    "\n",
    "The density plots do not show us how the counts for `registered` and `casual` riders vary together. \n",
    "\n",
    "Use `sns.lmplot` [(documentation)](https://seaborn.pydata.org/generated/seaborn.lmplot.html) to create a scatter plot to investigate the relationship between casual and registered counts. \n",
    "\n",
    "- Use the `bike` `DataFrame` to plot hourly counts instead of daily counts.\n",
    "- Color the points in the scatter plot according to whether or not the day is a working day. Your colors do not have to match ours exactly, but they should be different based on whether the day is a working day. \n",
    "\n",
    "<img src='images/casual_registered_working_nonworking.png' width=\"800px\"  />\n",
    "\n",
    "**Hints:** \n",
    "* Check out this helpful [tutorial on `lmplot`](https://seaborn.pydata.org/tutorial/regression.html).\n",
    "* There are many points in the scatter plot, so make them small to help reduce overplotting. Check out the `scatter_kws` parameter of `lmplot`.\n",
    "* You can set the `height` parameter if you want to adjust the size of the `lmplot`.\n",
    "* Add a descriptive title and axis labels for your plot.\n",
    "* It is okay if the scales of your `x` and `y` axis (i.e., the numbers labeled on the two axes) are different from those used in the provided example.\n"
   ]
  },
  {
   "cell_type": "code",
   "execution_count": 48,
   "metadata": {
    "ExecuteTime": {
     "end_time": "2018-09-12T05:50:19.737393Z",
     "start_time": "2018-09-12T05:50:18.438733Z"
    },
    "jupyter": {
     "source_hidden": true
    },
    "nbgrader": {
     "grade": true,
     "grade_id": "q2c-answer",
     "locked": false,
     "points": 2,
     "schema_version": 2,
     "solution": true
    },
    "scrolled": true,
    "tags": [
     "student",
     "written",
     "otter_answer_cell"
    ]
   },
   "outputs": [
    {
     "ename": "IndexError",
     "evalue": "list index out of range",
     "output_type": "error",
     "traceback": [
      "\u001b[0;31m---------------------------------------------------------------------------\u001b[0m",
      "\u001b[0;31mIndexError\u001b[0m                                Traceback (most recent call last)",
      "Cell \u001b[0;32mIn[48], line 9\u001b[0m\n\u001b[1;32m      6\u001b[0m bike[\u001b[38;5;124m\"\u001b[39m\u001b[38;5;124mworkingday\u001b[39m\u001b[38;5;124m\"\u001b[39m] \u001b[38;5;241m=\u001b[39m bike[\u001b[38;5;124m\"\u001b[39m\u001b[38;5;124mworkingday\u001b[39m\u001b[38;5;124m\"\u001b[39m]\u001b[38;5;241m.\u001b[39mmap({\u001b[38;5;241m0\u001b[39m: \u001b[38;5;124m\"\u001b[39m\u001b[38;5;124mno\u001b[39m\u001b[38;5;124m\"\u001b[39m, \u001b[38;5;241m1\u001b[39m: \u001b[38;5;124m\"\u001b[39m\u001b[38;5;124myes\u001b[39m\u001b[38;5;124m\"\u001b[39m})\n\u001b[1;32m      8\u001b[0m \u001b[38;5;66;03m# Create the scatter plot with regression lines\u001b[39;00m\n\u001b[0;32m----> 9\u001b[0m \u001b[43msns\u001b[49m\u001b[38;5;241;43m.\u001b[39;49m\u001b[43mlmplot\u001b[49m\u001b[43m(\u001b[49m\n\u001b[1;32m     10\u001b[0m \u001b[43m    \u001b[49m\u001b[43mdata\u001b[49m\u001b[38;5;241;43m=\u001b[39;49m\u001b[43mbike\u001b[49m\u001b[43m,\u001b[49m\u001b[43m  \u001b[49m\u001b[38;5;66;43;03m# Use the hourly dataset\u001b[39;49;00m\n\u001b[1;32m     11\u001b[0m \u001b[43m    \u001b[49m\u001b[43mx\u001b[49m\u001b[38;5;241;43m=\u001b[39;49m\u001b[38;5;124;43m\"\u001b[39;49m\u001b[38;5;124;43mcasual\u001b[39;49m\u001b[38;5;124;43m\"\u001b[39;49m\u001b[43m,\u001b[49m\u001b[43m  \u001b[49m\u001b[38;5;66;43;03m# X-axis: casual riders\u001b[39;49;00m\n\u001b[1;32m     12\u001b[0m \u001b[43m    \u001b[49m\u001b[43my\u001b[49m\u001b[38;5;241;43m=\u001b[39;49m\u001b[38;5;124;43m\"\u001b[39;49m\u001b[38;5;124;43mregistered\u001b[39;49m\u001b[38;5;124;43m\"\u001b[39;49m\u001b[43m,\u001b[49m\u001b[43m  \u001b[49m\u001b[38;5;66;43;03m# Y-axis: registered riders\u001b[39;49;00m\n\u001b[1;32m     13\u001b[0m \u001b[43m    \u001b[49m\u001b[43mhue\u001b[49m\u001b[38;5;241;43m=\u001b[39;49m\u001b[38;5;124;43m\"\u001b[39;49m\u001b[38;5;124;43mworkingday\u001b[39;49m\u001b[38;5;124;43m\"\u001b[39;49m\u001b[43m,\u001b[49m\u001b[43m  \u001b[49m\u001b[38;5;66;43;03m# Color by working or non-working day\u001b[39;49;00m\n\u001b[1;32m     14\u001b[0m \u001b[43m    \u001b[49m\u001b[43mpalette\u001b[49m\u001b[38;5;241;43m=\u001b[39;49m\u001b[43m{\u001b[49m\u001b[38;5;124;43m\"\u001b[39;49m\u001b[38;5;124;43myes\u001b[39;49m\u001b[38;5;124;43m\"\u001b[39;49m\u001b[43m:\u001b[49m\u001b[43m \u001b[49m\u001b[38;5;124;43m\"\u001b[39;49m\u001b[38;5;124;43mchocolate\u001b[39;49m\u001b[38;5;124;43m\"\u001b[39;49m\u001b[43m,\u001b[49m\u001b[43m \u001b[49m\u001b[38;5;124;43m\"\u001b[39;49m\u001b[38;5;124;43mno\u001b[39;49m\u001b[38;5;124;43m\"\u001b[39;49m\u001b[43m:\u001b[49m\u001b[43m \u001b[49m\u001b[38;5;124;43m\"\u001b[39;49m\u001b[38;5;124;43mroyalblue\u001b[39;49m\u001b[38;5;124;43m\"\u001b[39;49m\u001b[43m}\u001b[49m\u001b[43m,\u001b[49m\u001b[43m  \u001b[49m\u001b[38;5;66;43;03m# Match colors\u001b[39;49;00m\n\u001b[1;32m     15\u001b[0m \u001b[43m    \u001b[49m\u001b[43mheight\u001b[49m\u001b[38;5;241;43m=\u001b[39;49m\u001b[38;5;241;43m5\u001b[39;49m\u001b[43m,\u001b[49m\u001b[43m  \u001b[49m\u001b[38;5;66;43;03m# Adjust figure height\u001b[39;49;00m\n\u001b[1;32m     16\u001b[0m \u001b[43m    \u001b[49m\u001b[43maspect\u001b[49m\u001b[38;5;241;43m=\u001b[39;49m\u001b[38;5;241;43m1.2\u001b[39;49m\u001b[43m,\u001b[49m\u001b[43m  \u001b[49m\u001b[38;5;66;43;03m# Adjust aspect ratio\u001b[39;49;00m\n\u001b[1;32m     17\u001b[0m \u001b[43m    \u001b[49m\u001b[43mscatter_kws\u001b[49m\u001b[38;5;241;43m=\u001b[39;49m\u001b[43m{\u001b[49m\u001b[38;5;124;43m\"\u001b[39;49m\u001b[38;5;124;43ms\u001b[39;49m\u001b[38;5;124;43m\"\u001b[39;49m\u001b[43m:\u001b[49m\u001b[43m \u001b[49m\u001b[38;5;241;43m10\u001b[39;49m\u001b[43m,\u001b[49m\u001b[43m \u001b[49m\u001b[38;5;124;43m\"\u001b[39;49m\u001b[38;5;124;43malpha\u001b[39;49m\u001b[38;5;124;43m\"\u001b[39;49m\u001b[43m:\u001b[49m\u001b[43m \u001b[49m\u001b[38;5;241;43m0.6\u001b[39;49m\u001b[43m}\u001b[49m\u001b[43m,\u001b[49m\u001b[43m  \u001b[49m\u001b[38;5;66;43;03m# Adjust point size & transparency\u001b[39;49;00m\n\u001b[1;32m     18\u001b[0m \u001b[43m    \u001b[49m\u001b[43mline_kws\u001b[49m\u001b[38;5;241;43m=\u001b[39;49m\u001b[43m{\u001b[49m\u001b[38;5;124;43m\"\u001b[39;49m\u001b[38;5;124;43mlinewidth\u001b[39;49m\u001b[38;5;124;43m\"\u001b[39;49m\u001b[43m:\u001b[49m\u001b[43m \u001b[49m\u001b[38;5;241;43m2\u001b[39;49m\u001b[43m}\u001b[49m\u001b[43m,\u001b[49m\u001b[43m  \u001b[49m\u001b[38;5;66;43;03m# Make regression lines thicker\u001b[39;49;00m\n\u001b[1;32m     19\u001b[0m \u001b[43m)\u001b[49m\n\u001b[1;32m     21\u001b[0m \u001b[38;5;66;03m# Add title and labels\u001b[39;00m\n\u001b[1;32m     22\u001b[0m plt\u001b[38;5;241m.\u001b[39mtitle(\u001b[38;5;124m\"\u001b[39m\u001b[38;5;124mCasual vs Registered Riders on Working and Non-Working Days\u001b[39m\u001b[38;5;124m\"\u001b[39m, fontsize\u001b[38;5;241m=\u001b[39m\u001b[38;5;241m14\u001b[39m)\n",
      "File \u001b[0;32m/srv/conda/envs/notebook/lib/python3.11/site-packages/seaborn/regression.py:640\u001b[0m, in \u001b[0;36mlmplot\u001b[0;34m(data, x, y, hue, col, row, palette, col_wrap, height, aspect, markers, sharex, sharey, hue_order, col_order, row_order, legend, legend_out, x_estimator, x_bins, x_ci, scatter, fit_reg, ci, n_boot, units, seed, order, logistic, lowess, robust, logx, x_partial, y_partial, truncate, x_jitter, y_jitter, scatter_kws, line_kws, facet_kws)\u001b[0m\n\u001b[1;32m    637\u001b[0m     ax\u001b[38;5;241m.\u001b[39mupdate_datalim(xys, updatey\u001b[38;5;241m=\u001b[39m\u001b[38;5;28;01mFalse\u001b[39;00m)\n\u001b[1;32m    638\u001b[0m     ax\u001b[38;5;241m.\u001b[39mautoscale_view(scaley\u001b[38;5;241m=\u001b[39m\u001b[38;5;28;01mFalse\u001b[39;00m)\n\u001b[0;32m--> 640\u001b[0m \u001b[43mfacets\u001b[49m\u001b[38;5;241;43m.\u001b[39;49m\u001b[43mmap_dataframe\u001b[49m\u001b[43m(\u001b[49m\u001b[43mupdate_datalim\u001b[49m\u001b[43m,\u001b[49m\u001b[43m \u001b[49m\u001b[43mx\u001b[49m\u001b[38;5;241;43m=\u001b[39;49m\u001b[43mx\u001b[49m\u001b[43m,\u001b[49m\u001b[43m \u001b[49m\u001b[43my\u001b[49m\u001b[38;5;241;43m=\u001b[39;49m\u001b[43my\u001b[49m\u001b[43m)\u001b[49m\n\u001b[1;32m    642\u001b[0m \u001b[38;5;66;03m# Draw the regression plot on each facet\u001b[39;00m\n\u001b[1;32m    643\u001b[0m regplot_kws \u001b[38;5;241m=\u001b[39m \u001b[38;5;28mdict\u001b[39m(\n\u001b[1;32m    644\u001b[0m     x_estimator\u001b[38;5;241m=\u001b[39mx_estimator, x_bins\u001b[38;5;241m=\u001b[39mx_bins, x_ci\u001b[38;5;241m=\u001b[39mx_ci,\n\u001b[1;32m    645\u001b[0m     scatter\u001b[38;5;241m=\u001b[39mscatter, fit_reg\u001b[38;5;241m=\u001b[39mfit_reg, ci\u001b[38;5;241m=\u001b[39mci, n_boot\u001b[38;5;241m=\u001b[39mn_boot, units\u001b[38;5;241m=\u001b[39munits,\n\u001b[0;32m   (...)\u001b[0m\n\u001b[1;32m    649\u001b[0m     scatter_kws\u001b[38;5;241m=\u001b[39mscatter_kws, line_kws\u001b[38;5;241m=\u001b[39mline_kws,\n\u001b[1;32m    650\u001b[0m )\n",
      "File \u001b[0;32m/srv/conda/envs/notebook/lib/python3.11/site-packages/seaborn/axisgrid.py:809\u001b[0m, in \u001b[0;36mFacetGrid.map_dataframe\u001b[0;34m(self, func, *args, **kwargs)\u001b[0m\n\u001b[1;32m    806\u001b[0m ax \u001b[38;5;241m=\u001b[39m \u001b[38;5;28mself\u001b[39m\u001b[38;5;241m.\u001b[39mfacet_axis(row_i, col_j, modify_state)\n\u001b[1;32m    808\u001b[0m \u001b[38;5;66;03m# Decide what color to plot with\u001b[39;00m\n\u001b[0;32m--> 809\u001b[0m kwargs[\u001b[38;5;124m\"\u001b[39m\u001b[38;5;124mcolor\u001b[39m\u001b[38;5;124m\"\u001b[39m] \u001b[38;5;241m=\u001b[39m \u001b[38;5;28;43mself\u001b[39;49m\u001b[38;5;241;43m.\u001b[39;49m\u001b[43m_facet_color\u001b[49m\u001b[43m(\u001b[49m\u001b[43mhue_k\u001b[49m\u001b[43m,\u001b[49m\u001b[43m \u001b[49m\u001b[43mkw_color\u001b[49m\u001b[43m)\u001b[49m\n\u001b[1;32m    811\u001b[0m \u001b[38;5;66;03m# Insert the other hue aesthetics if appropriate\u001b[39;00m\n\u001b[1;32m    812\u001b[0m \u001b[38;5;28;01mfor\u001b[39;00m kw, val_list \u001b[38;5;129;01min\u001b[39;00m \u001b[38;5;28mself\u001b[39m\u001b[38;5;241m.\u001b[39mhue_kws\u001b[38;5;241m.\u001b[39mitems():\n",
      "File \u001b[0;32m/srv/conda/envs/notebook/lib/python3.11/site-packages/seaborn/axisgrid.py:838\u001b[0m, in \u001b[0;36mFacetGrid._facet_color\u001b[0;34m(self, hue_index, kw_color)\u001b[0m\n\u001b[1;32m    836\u001b[0m \u001b[38;5;28;01mdef\u001b[39;00m \u001b[38;5;21m_facet_color\u001b[39m(\u001b[38;5;28mself\u001b[39m, hue_index, kw_color):\n\u001b[0;32m--> 838\u001b[0m     color \u001b[38;5;241m=\u001b[39m \u001b[38;5;28;43mself\u001b[39;49m\u001b[38;5;241;43m.\u001b[39;49m\u001b[43m_colors\u001b[49m\u001b[43m[\u001b[49m\u001b[43mhue_index\u001b[49m\u001b[43m]\u001b[49m\n\u001b[1;32m    839\u001b[0m     \u001b[38;5;28;01mif\u001b[39;00m kw_color \u001b[38;5;129;01mis\u001b[39;00m \u001b[38;5;129;01mnot\u001b[39;00m \u001b[38;5;28;01mNone\u001b[39;00m:\n\u001b[1;32m    840\u001b[0m         \u001b[38;5;28;01mreturn\u001b[39;00m kw_color\n",
      "\u001b[0;31mIndexError\u001b[0m: list index out of range"
     ]
    },
    {
     "data": {
      "image/png": "[encoded data removed]",
      "text/plain": [
       "<Figure size 900x750 with 1 Axes>"
      ]
     },
     "metadata": {},
     "output_type": "display_data"
    }
   ],
   "source": [
    "sns.set(font_scale=1) # This line automatically makes the font size a bit bigger on the plot. You do not need to change this line\n",
    "# Set the Seaborn theme for a clean style\n",
    "sns.set_theme(style=\"darkgrid\")\n",
    "\n",
    "# Convert workingday to categorical labels\n",
    "bike[\"workingday\"] = bike[\"workingday\"].map({0: \"no\", 1: \"yes\"})\n",
    "\n",
    "# Create the scatter plot with regression lines\n",
    "sns.lmplot(\n",
    "    data=bike,  # Use the hourly dataset\n",
    "    x=\"casual\",  # X-axis: casual riders\n",
    "    y=\"registered\",  # Y-axis: registered riders\n",
    "    hue=\"workingday\",  # Color by working or non-working day\n",
    "    palette={\"yes\": \"chocolate\", \"no\": \"royalblue\"},  # Match colors\n",
    "    height=5,  # Adjust figure height\n",
    "    aspect=1.2,  # Adjust aspect ratio\n",
    "    scatter_kws={\"s\": 10, \"alpha\": 0.6},  # Adjust point size & transparency\n",
    "    line_kws={\"linewidth\": 2},  # Make regression lines thicker\n",
    ")\n",
    "\n",
    "# Add title and labels\n",
    "plt.title(\"Casual vs Registered Riders on Working and Non-Working Days\", fontsize=14)\n",
    "plt.xlabel(\"Casual\", fontsize=12)\n",
    "plt.ylabel(\"Registered\", fontsize=12)\n",
    "\n",
    "# Show the plot\n",
    "plt.show()"
   ]
  },
  {
   "cell_type": "markdown",
   "metadata": {
    "deletable": false,
    "editable": false
   },
   "source": [
    "<!-- END QUESTION -->\n",
    "\n",
    "<!-- BEGIN QUESTION -->\n",
    "\n",
    "<br>\n",
    "\n",
    "--- \n",
    "### Question 3d\n",
    "\n",
    "What does this scatterplot seem to reveal about the relationship (if any) between casual and registered riders and whether or not the day is on the weekend? \n",
    "\n",
    "What effect does overplotting have on your ability to describe this relationship?"
   ]
  },
  {
   "cell_type": "markdown",
   "metadata": {
    "tags": [
     "otter_answer_cell"
    ]
   },
   "source": [
    "_The scatterplot reveals a distinct difference in the relationship between casual and registered riders based on whether the day is a working day. On working days, there is a strong positive correlation between the two, with registered riders consistently outnumbering casual riders. The trendline for working days is steeper, indicating that as the number of casual riders increases, the number of registered riders increases even more sharply. This suggests that registered users are likely commuting to work, while casual riders make up a smaller portion of total bike usage.\n",
    "\n",
    "On non-working days, the trendline is less steep, and there is greater variation in casual rider counts. This suggests that bike usage patterns on weekends are different from weekdays, with more casual riders and a relatively smaller increase in registered riders.\n",
    "\n",
    "Overplotting affects the ability to clearly see individual data points, especially in areas where many points overlap, such as the lower left of the plot where rider counts are low. This makes it difficult to identify finer details or potential outliers. While transparency and smaller point sizes help, using alternative visualizations like hexbin plots or density plots could provide a clearer representation of the data distribution._"
   ]
  },
  {
   "cell_type": "markdown",
   "metadata": {
    "deletable": false,
    "editable": false,
    "nbgrader": {
     "grade": false,
     "grade_id": "q3a",
     "locked": true,
     "schema_version": 2,
     "solution": false
    }
   },
   "source": [
    "<!-- END QUESTION -->\n",
    "\n",
    "<hr style=\"border: 1px solid #fdb515;\" />\n",
    "\n",
    "## Question 4: Visualization\n",
    " \n",
    "To address overplotting, let's try visualizing the data with another technique, the bivariate kernel density estimate. You will want to read up on the documentation for `sns.kdeplot`, which can be found [here](https://seaborn.pydata.org/generated/seaborn.kdeplot.html). \n",
    "\n",
    "The result we wish to achieve should be a plot that looks like this:\n",
    "\n",
    "<img src='images/bivariate_kde_of_daily_rider_types_simple.png' width=\"600px\" />"
   ]
  },
  {
   "cell_type": "markdown",
   "metadata": {
    "nbgrader": {
     "grade": false,
     "grade_id": "cell-1572ce18192a0036",
     "locked": true,
     "schema_version": 2,
     "solution": false
    }
   },
   "source": [
    "A basic KDE plot of all the data is quite easy to generate (see below). However, this plot combines both weekend and weekday data, which isn't what we want (see the example figure above)."
   ]
  },
  {
   "cell_type": "code",
   "execution_count": null,
   "metadata": {
    "nbgrader": {
     "grade": false,
     "grade_id": "cell-e177fd6f517469dd",
     "locked": true,
     "schema_version": 2,
     "solution": false
    },
    "tags": []
   },
   "outputs": [],
   "source": [
    "sns.kdeplot(data=daily_counts, x='casual', y='registered')\n",
    "plt.title('KDE Plot Comparison of Registered vs Casual Riders');"
   ]
  },
  {
   "cell_type": "markdown",
   "metadata": {
    "deletable": false,
    "editable": false
   },
   "source": [
    "<!-- BEGIN QUESTION -->\n",
    "\n",
    "<br>\n",
    "\n",
    "--- \n",
    "\n",
    "### Question 4a"
   ]
  },
  {
   "cell_type": "markdown",
   "metadata": {
    "deletable": false,
    "editable": false
   },
   "source": [
    "Generate a bivariate kernel density plot with workday and non-workday separated using the `daily_counts` `DataFrame`. It should look like the first plot displayed above.\n",
    "\n",
    "**Hint:** You only need to call `sns.kdeplot` once. Take a look at the `hue` parameter and adjust other inputs as needed.\n",
    "\n",
    "After you get your plot working, experiment by setting `fill=True` in `kdeplot` to see the difference between the shaded and unshaded versions.\n",
    "\n",
    "- But, **please submit your work with `fill=False`.**"
   ]
  },
  {
   "cell_type": "code",
   "execution_count": null,
   "metadata": {
    "tags": [
     "otter_answer_cell"
    ]
   },
   "outputs": [],
   "source": [
    "# Set the figure size for the plot\n",
    "plt.figure(figsize=(12,8))\n",
    "\n",
    "# Create a KDE plot comparing registered and casual riders, separated by workingday\n",
    "sns.kdeplot(\n",
    "    data=daily_counts, \n",
    "    x=\"casual\", \n",
    "    y=\"registered\", \n",
    "    hue=\"workingday\", \n",
    "    fill=False,  # Ensures the plot remains unshaded as required in the question\n",
    "    common_norm=False, \n",
    "    levels=15,  # Adjust contour levels for better visualization\n",
    "    alpha=0.7, \n",
    "    linewidths=2\n",
    ")\n",
    "\n",
    "# Titles and labels\n",
    "plt.title(\"KDE Plot Comparison of Registered vs Casual Riders\", fontsize=14)\n",
    "plt.xlabel(\"Casual Riders\", fontsize=12)\n",
    "plt.ylabel(\"Registered Riders\", fontsize=12)\n",
    "\n",
    "# Show plot\n",
    "plt.show()"
   ]
  },
  {
   "cell_type": "markdown",
   "metadata": {
    "deletable": false,
    "editable": false
   },
   "source": [
    "<!-- END QUESTION -->\n",
    "\n",
    "<!-- BEGIN QUESTION -->\n",
    "\n",
    "<br>\n",
    "\n",
    "--- \n",
    "### Question 4b\n",
    "<img src='images/bivariate_kde_of_daily_rider_types_gradient.png' width=\"800px\" />\n",
    "\n",
    "With some modification to your Question 4a code (this modification is not in scope), we can generate the plot above. \n",
    "\n",
    "In your own words, describe what the lines and the color shades of the lines signify about the data. What does each line and color represent? \n",
    "\n",
    "**Hint**: You may find it helpful to compare it to a contour or topographical map as shown [here](https://gisgeography.com/contour-lines-topographic-map/)."
   ]
  },
  {
   "cell_type": "markdown",
   "metadata": {
    "tags": [
     "otter_answer_cell"
    ]
   },
   "source": [
    "_The bivariate KDE plot visualizes the density of registered and casual riders, with different colors representing workdays and non-workdays. Similar to contour lines on a topographic map, the lines in the plot indicate areas of varying density—regions with closer contour lines signify steeper changes in density, while wider-spaced lines indicate more gradual variations.\n",
    "\n",
    "Darker shades represent higher density areas, meaning that most registered and casual riders fall within these regions. The plot shows that on workdays (red contours), registered riders tend to be more concentrated in higher numbers, while on non-workdays (blue contours), there is a broader spread of casual riders, with some peak densities occurring at lower registered rider counts.\n",
    "\n",
    "This visualization highlights the behavioral differences between casual and registered riders, where registered users are more consistently high in number during workdays, while casual riders exhibit more variation, especially on non-workdays._"
   ]
  },
  {
   "cell_type": "markdown",
   "metadata": {
    "deletable": false,
    "editable": false
   },
   "source": [
    "<!-- END QUESTION -->\n",
    "\n",
    "<!-- BEGIN QUESTION -->\n",
    "\n",
    "<br>\n",
    "\n",
    "--- \n",
    "### Question 4c\n",
    "\n",
    "What additional details about the riders can you identify from this contour plot that were difficult to determine from the scatter plot?"
   ]
  },
  {
   "cell_type": "markdown",
   "metadata": {
    "tags": [
     "otter_answer_cell"
    ]
   },
   "source": [
    "_The contour plot provides a clearer representation of density patterns that were difficult to discern in the scatter plot due to overplotting. It highlights the most common combinations of registered and casual riders by showing areas of high concentration through darker shades and closely spaced contour lines. Unlike the scatter plot, which only shows individual data points, the contour plot reveals that registered riders tend to cluster at higher counts on workdays, while casual riders are more dispersed on non-workdays. Additionally, it helps identify the density distribution across different rider groups, making it easier to see trends and patterns that were previously obscured by overlapping points in the scatter plot._"
   ]
  },
  {
   "cell_type": "markdown",
   "metadata": {
    "deletable": false,
    "editable": false
   },
   "source": [
    "<!-- END QUESTION -->\n",
    "\n",
    "<hr style=\"border: 1px solid #fdb515;\" />\n",
    "\n",
    "## Question 5: Understanding Daily and Monthly Patterns\n",
    "\n",
    "<br>\n",
    "\n",
    "--- \n",
    "\n",
    "### Question 5a\n",
    "Create a new column in the `bike` `DataFrame` called `time_category`, which maps the `hr` column into the following broader time categories:\n",
    "\n",
    "- **Midnight**: 2 AM to before 5 AM  \n",
    "- **Morning**: 5 AM to before 11 AM  \n",
    "- **Lunch Time**: 11 AM to before 2 PM  \n",
    "- **Afternoon**: 2 PM to before 5 PM  \n",
    "- **Evening**: 5 PM to before 9 PM  \n",
    "- **Night**: 9 PM to before 2 AM  \n",
    "\n",
    "Then, display the first few rows of the updated `DataFrame` to verify that the new column is correctly added."
   ]
  },
  {
   "cell_type": "code",
   "execution_count": null,
   "metadata": {
    "tags": [
     "otter_answer_cell"
    ]
   },
   "outputs": [],
   "source": [
    "def hour_to_category(hour):\n",
    "    if 2 <= hour < 5:\n",
    "        return \"Midnight\"\n",
    "    elif 5 <= hour < 11:\n",
    "        return \"Morning\"\n",
    "    elif 11 <= hour < 14:\n",
    "        return \"Lunch Time\"\n",
    "    elif 14 <= hour < 17:\n",
    "        return \"Afternoon\"\n",
    "    elif 17 <= hour < 21:\n",
    "        return \"Evening\"\n",
    "    else:  # Covers 9 PM to before 2 AM\n",
    "        return \"Night\"\n",
    "\n",
    "# Apply function to create the new column\n",
    "bike[\"time_category\"] = bike[\"hr\"].apply(hour_to_category)\n",
    "\n",
    "bike.head()"
   ]
  },
  {
   "cell_type": "code",
   "execution_count": null,
   "metadata": {
    "deletable": false,
    "editable": false
   },
   "outputs": [],
   "source": [
    "grader.check(\"q5a\")"
   ]
  },
  {
   "cell_type": "markdown",
   "metadata": {
    "deletable": false,
    "editable": false
   },
   "source": [
    "<!-- BEGIN QUESTION -->\n",
    "\n",
    "<br>\n",
    "\n",
    "--- \n",
    "### Question 5b\n",
    "\n",
    "Let’s examine the behavior of riders by plotting the **average number of riders** for each **time category** (using the `time_category` column), separated by rider type.\n",
    "\n",
    "Your plot should look like the plot below. It's fine if your plot's colors don't match ours exactly.\n",
    "\n",
    "**Hint:**  \n",
    "To label the x-axis correctly, use `plt.xticks()` to manually set tick positions and labels. You may need to rotate the labels for readability. Refer to the [documentation](https://matplotlib.org/stable/api/_as_gen/matplotlib.pyplot.xticks.html) for more details.\n",
    "\n",
    "<img src='images/time_category_bikes.png' width=\"700px\" />                                                                   "
   ]
  },
  {
   "cell_type": "code",
   "execution_count": null,
   "metadata": {
    "tags": [
     "otter_answer_cell"
    ]
   },
   "outputs": [],
   "source": [
    "# Group by time category and calculate means\n",
    "time_category_means = (\n",
    "    bike.groupby(\"time_category\")[[\"casual\", \"registered\"]].mean()\n",
    ")\n",
    "\n",
    "plt.figure(figsize=(10, 7))\n",
    "sns.lineplot(\n",
    "    data=time_category_means.reset_index(),\n",
    "    x=\"time_category\",\n",
    "    y=\"casual\",\n",
    "    label=\"Casual Riders\",\n",
    ")\n",
    "sns.lineplot(\n",
    "    data=time_category_means.reset_index(),\n",
    "    x=\"time_category\",\n",
    "    y=\"registered\",\n",
    "    label=\"Registered Riders\",\n",
    ")\n",
    "\n",
    "plt.xlabel(\"Time of the Day (Categories)\")\n",
    "plt.ylabel(\"Average Count\")\n",
    "plt.title(\"Average Count of Casual vs. Registered Riders by Time Categories\")\n",
    "plt.xticks(\n",
    "    ticks=range(len(time_category_means)),  # Order categories\n",
    "    labels=[\"Midnight\", \"Morning\", \"Lunch Time\", \"Afternoon\", \"Evening\", \"Night\"],\n",
    "    rotation=45 # Rotate x-axis labels for readability\n",
    ")  \n",
    "plt.legend()\n",
    "plt.tight_layout()"
   ]
  },
  {
   "cell_type": "markdown",
   "metadata": {
    "deletable": false,
    "editable": false
   },
   "source": [
    "<!-- END QUESTION -->\n",
    "\n",
    "<!-- BEGIN QUESTION -->\n",
    "\n",
    "<br>\n",
    "\n",
    "--- \n",
    "### Question 5c\n",
    "\n",
    "Next, analyze how the average count of casual and registered riders varies by month (`mnth`). \n",
    "\n",
    "Compute the average number of casual and registered riders for each month in the dataset and create a line plot showing the trends.\n",
    "\n",
    "Your plot should look like the plot below. It's fine if your plot's colors don't match ours exactly.\n",
    "\n",
    "\n",
    "<img src='images/monthly_avg_riders.png' width=\"700px\" />\n"
   ]
  },
  {
   "cell_type": "code",
   "execution_count": null,
   "metadata": {
    "tags": [
     "otter_answer_cell"
    ]
   },
   "outputs": [],
   "source": [
    "# Group by month and calculate mean rider counts\n",
    "avg_riders_by_month = bike.groupby(\"mnth\")[[\"casual\", \"registered\"]].mean()\n",
    "\n",
    "plt.figure(figsize=(10, 7))\n",
    "\n",
    "# Plot casual riders\n",
    "sns.lineplot(\n",
    "    data=avg_riders_by_month.reset_index(),\n",
    "    x=\"mnth\",\n",
    "    y=\"casual\",\n",
    "    label=\"Casual Riders\"\n",
    ")\n",
    "\n",
    "# Plot registered riders\n",
    "sns.lineplot(\n",
    "    data=avg_riders_by_month.reset_index(),\n",
    "    x=\"mnth\",\n",
    "    y=\"registered\",\n",
    "    label=\"Registered Riders\"\n",
    ")\n",
    "\n",
    "# Formatting\n",
    "plt.xlabel(\"Month\")\n",
    "plt.ylabel(\"Average Rider Count\")\n",
    "plt.title(\"Average Number of Casual vs. Registered Riders by Month\")\n",
    "plt.xticks(\n",
    "    ticks=range(1, 13),  # Months range from 1 to 12\n",
    "    labels=[\n",
    "        \"Jan\", \"Feb\", \"Mar\", \"Apr\", \"May\", \"Jun\",\n",
    "        \"Jul\", \"Aug\", \"Sep\", \"Oct\", \"Nov\", \"Dec\"\n",
    "    ],\n",
    "    rotation=45  # Rotate x-axis labels for readability\n",
    ")\n",
    "plt.legend()\n",
    "plt.tight_layout()"
   ]
  },
  {
   "cell_type": "markdown",
   "metadata": {
    "deletable": false,
    "editable": false
   },
   "source": [
    "<!-- END QUESTION -->\n",
    "\n",
    "<!-- BEGIN QUESTION -->\n",
    "\n",
    "<br>\n",
    "\n",
    "--- \n",
    "### Question 5d\n",
    "\n",
    "What can you observe from the plots generated in **5b** and **5c**? \n",
    "\n",
    "Discuss your observations for both types of riders, and hypothesize about the meaning of the peaks and troughs of both riders' distributions."
   ]
  },
  {
   "cell_type": "markdown",
   "metadata": {
    "tags": [
     "otter_answer_cell"
    ]
   },
   "source": [
    "Observations from 5b (Time Categories)\n",
    "\t•\tRegistered riders have a pronounced peak in the morning (5 AM - 11 AM) and evening (5 PM - 9 PM), with a sharp drop in the afternoon. This suggests that registered riders primarily use the service for commuting, likely traveling to and from work or school.\n",
    "\t•\tCasual riders, on the other hand, exhibit a more stable distribution throughout the day, with slightly higher activity during lunch time and evening. This indicates that casual riders might be using bikes more for leisure or non-commute-related trips.\n",
    "\n",
    "Interpretation of Peaks and Troughs\n",
    "\t•\tThe peaks in registered riders’ activity during the morning and evening indicate a strong correlation with work-related travel.\n",
    "\t•\tThe peaks for casual riders during lunch time and evenings suggest recreational or flexible-purpose biking."
   ]
  },
  {
   "cell_type": "markdown",
   "metadata": {
    "tags": [
     "otter_answer_cell"
    ]
   },
   "source": [
    "Observations from 5c (Monthly Trends)\n",
    "\t•\tRegistered riders show a strong seasonal trend, peaking during the summer months (June - September) and declining in the winter months (November - February). This may be influenced by weather conditions, with more people choosing biking as a reliable commuting option in warm months.\n",
    "\t•\tCasual riders follow a similar trend but with more pronounced growth in summer, suggesting an increase in leisure cycling when the weather is pleasant.\n",
    "\t•\tBoth types of riders show a decline during the winter months, likely due to colder temperatures and adverse weather conditions."
   ]
  },
  {
   "cell_type": "markdown",
   "metadata": {
    "deletable": false,
    "editable": false
   },
   "source": [
    "<!-- END QUESTION -->\n",
    "\n",
    "<hr style=\"border: 1px solid #fdb515;\" />\n",
    "\n",
    "## Question 6: Exploring Ride-Sharing and Weather\n",
    "Now let's examine how the weather may be associated. First, let's look at how the proportion of casual riders changes as the weather changes.\n",
    "\n",
    "<br>\n",
    "\n",
    "--- \n",
    "\n",
    "### Question 6a\n",
    "Create a new column `prop_casual` in the `bike` `DataFrame` representing the proportion of casual riders out of all riders for each record."
   ]
  },
  {
   "cell_type": "code",
   "execution_count": 58,
   "metadata": {
    "ExecuteTime": {
     "end_time": "2018-09-12T05:50:26.774129Z",
     "start_time": "2018-09-12T05:50:26.770558Z"
    },
    "nbgrader": {
     "grade": false,
     "grade_id": "q6a-answer",
     "locked": false,
     "schema_version": 2,
     "solution": true
    },
    "tags": [
     "student",
     "otter_answer_cell"
    ]
   },
   "outputs": [
    {
     "data": {
      "text/html": [
       "<div>\n",
       "<style scoped>\n",
       "    .dataframe tbody tr th:only-of-type {\n",
       "        vertical-align: middle;\n",
       "    }\n",
       "\n",
       "    .dataframe tbody tr th {\n",
       "        vertical-align: top;\n",
       "    }\n",
       "\n",
       "    .dataframe thead th {\n",
       "        text-align: right;\n",
       "    }\n",
       "</style>\n",
       "<table border=\"1\" class=\"dataframe\">\n",
       "  <thead>\n",
       "    <tr style=\"text-align: right;\">\n",
       "      <th></th>\n",
       "      <th>instant</th>\n",
       "      <th>dteday</th>\n",
       "      <th>season</th>\n",
       "      <th>yr</th>\n",
       "      <th>mnth</th>\n",
       "      <th>hr</th>\n",
       "      <th>holiday</th>\n",
       "      <th>weekday</th>\n",
       "      <th>workingday</th>\n",
       "      <th>weathersit</th>\n",
       "      <th>temp</th>\n",
       "      <th>atemp</th>\n",
       "      <th>hum</th>\n",
       "      <th>windspeed</th>\n",
       "      <th>casual</th>\n",
       "      <th>registered</th>\n",
       "      <th>cnt</th>\n",
       "      <th>prop_casual</th>\n",
       "      <th>temp_fahrenheit</th>\n",
       "    </tr>\n",
       "  </thead>\n",
       "  <tbody>\n",
       "    <tr>\n",
       "      <th>0</th>\n",
       "      <td>1</td>\n",
       "      <td>2011-01-01</td>\n",
       "      <td>1</td>\n",
       "      <td>0</td>\n",
       "      <td>1</td>\n",
       "      <td>0</td>\n",
       "      <td>no</td>\n",
       "      <td>Sat</td>\n",
       "      <td>NaN</td>\n",
       "      <td>Clear</td>\n",
       "      <td>0.24</td>\n",
       "      <td>0.2879</td>\n",
       "      <td>0.81</td>\n",
       "      <td>0.0</td>\n",
       "      <td>3</td>\n",
       "      <td>13</td>\n",
       "      <td>16</td>\n",
       "      <td>0.187500</td>\n",
       "      <td>49.712</td>\n",
       "    </tr>\n",
       "    <tr>\n",
       "      <th>1</th>\n",
       "      <td>2</td>\n",
       "      <td>2011-01-01</td>\n",
       "      <td>1</td>\n",
       "      <td>0</td>\n",
       "      <td>1</td>\n",
       "      <td>1</td>\n",
       "      <td>no</td>\n",
       "      <td>Sat</td>\n",
       "      <td>NaN</td>\n",
       "      <td>Clear</td>\n",
       "      <td>0.22</td>\n",
       "      <td>0.2727</td>\n",
       "      <td>0.80</td>\n",
       "      <td>0.0</td>\n",
       "      <td>8</td>\n",
       "      <td>32</td>\n",
       "      <td>40</td>\n",
       "      <td>0.200000</td>\n",
       "      <td>48.236</td>\n",
       "    </tr>\n",
       "    <tr>\n",
       "      <th>2</th>\n",
       "      <td>3</td>\n",
       "      <td>2011-01-01</td>\n",
       "      <td>1</td>\n",
       "      <td>0</td>\n",
       "      <td>1</td>\n",
       "      <td>2</td>\n",
       "      <td>no</td>\n",
       "      <td>Sat</td>\n",
       "      <td>NaN</td>\n",
       "      <td>Clear</td>\n",
       "      <td>0.22</td>\n",
       "      <td>0.2727</td>\n",
       "      <td>0.80</td>\n",
       "      <td>0.0</td>\n",
       "      <td>5</td>\n",
       "      <td>27</td>\n",
       "      <td>32</td>\n",
       "      <td>0.156250</td>\n",
       "      <td>48.236</td>\n",
       "    </tr>\n",
       "    <tr>\n",
       "      <th>3</th>\n",
       "      <td>4</td>\n",
       "      <td>2011-01-01</td>\n",
       "      <td>1</td>\n",
       "      <td>0</td>\n",
       "      <td>1</td>\n",
       "      <td>3</td>\n",
       "      <td>no</td>\n",
       "      <td>Sat</td>\n",
       "      <td>NaN</td>\n",
       "      <td>Clear</td>\n",
       "      <td>0.24</td>\n",
       "      <td>0.2879</td>\n",
       "      <td>0.75</td>\n",
       "      <td>0.0</td>\n",
       "      <td>3</td>\n",
       "      <td>10</td>\n",
       "      <td>13</td>\n",
       "      <td>0.230769</td>\n",
       "      <td>49.712</td>\n",
       "    </tr>\n",
       "    <tr>\n",
       "      <th>4</th>\n",
       "      <td>5</td>\n",
       "      <td>2011-01-01</td>\n",
       "      <td>1</td>\n",
       "      <td>0</td>\n",
       "      <td>1</td>\n",
       "      <td>4</td>\n",
       "      <td>no</td>\n",
       "      <td>Sat</td>\n",
       "      <td>NaN</td>\n",
       "      <td>Clear</td>\n",
       "      <td>0.24</td>\n",
       "      <td>0.2879</td>\n",
       "      <td>0.75</td>\n",
       "      <td>0.0</td>\n",
       "      <td>0</td>\n",
       "      <td>1</td>\n",
       "      <td>1</td>\n",
       "      <td>0.000000</td>\n",
       "      <td>49.712</td>\n",
       "    </tr>\n",
       "  </tbody>\n",
       "</table>\n",
       "</div>"
      ],
      "text/plain": [
       "   instant      dteday  season  yr  mnth  hr holiday weekday workingday  \\\n",
       "0        1  2011-01-01       1   0     1   0      no     Sat        NaN   \n",
       "1        2  2011-01-01       1   0     1   1      no     Sat        NaN   \n",
       "2        3  2011-01-01       1   0     1   2      no     Sat        NaN   \n",
       "3        4  2011-01-01       1   0     1   3      no     Sat        NaN   \n",
       "4        5  2011-01-01       1   0     1   4      no     Sat        NaN   \n",
       "\n",
       "  weathersit  temp   atemp   hum  windspeed  casual  registered  cnt  \\\n",
       "0      Clear  0.24  0.2879  0.81        0.0       3          13   16   \n",
       "1      Clear  0.22  0.2727  0.80        0.0       8          32   40   \n",
       "2      Clear  0.22  0.2727  0.80        0.0       5          27   32   \n",
       "3      Clear  0.24  0.2879  0.75        0.0       3          10   13   \n",
       "4      Clear  0.24  0.2879  0.75        0.0       0           1    1   \n",
       "\n",
       "   prop_casual  temp_fahrenheit  \n",
       "0     0.187500           49.712  \n",
       "1     0.200000           48.236  \n",
       "2     0.156250           48.236  \n",
       "3     0.230769           49.712  \n",
       "4     0.000000           49.712  "
      ]
     },
     "execution_count": 58,
     "metadata": {},
     "output_type": "execute_result"
    }
   ],
   "source": [
    "bike[\"prop_casual\"] = bike[\"casual\"] / bike[\"cnt\"]\n",
    "bike.head()"
   ]
  },
  {
   "cell_type": "code",
   "execution_count": 50,
   "metadata": {
    "deletable": false,
    "editable": false
   },
   "outputs": [
    {
     "data": {
      "text/html": [
       "<p><strong><pre style='display: inline;'>q6a</pre></strong> passed! 💯</p>"
      ],
      "text/plain": [
       "q6a results: All test cases passed!"
      ]
     },
     "execution_count": 50,
     "metadata": {},
     "output_type": "execute_result"
    }
   ],
   "source": [
    "grader.check(\"q6a\")"
   ]
  },
  {
   "cell_type": "markdown",
   "metadata": {
    "nbgrader": {
     "grade": false,
     "grade_id": "q6b",
     "locked": true,
     "schema_version": 2,
     "solution": false
    }
   },
   "source": [
    "\n",
    "In order to examine the relationship between the proportion of casual riders and temperature, we can create a scatterplot using [`sns.scatterplot`](https://seaborn.pydata.org/generated/seaborn.scatterplot.html). \n",
    "\n",
    "- We can even use color/hue to encode the information about the day of the week. \n",
    "\n",
    "Run the cell below, and you'll see we end up with a big mess that is impossible to interpret."
   ]
  },
  {
   "cell_type": "code",
   "execution_count": null,
   "metadata": {
    "nbgrader": {
     "grade": false,
     "grade_id": "cell-728459bdb0b60604",
     "locked": true,
     "schema_version": 2,
     "solution": false
    },
    "tags": []
   },
   "outputs": [],
   "source": [
    "plt.figure(figsize=(10, 7))\n",
    "sns.scatterplot(data=bike, x='temp', y='prop_casual', hue='weekday');"
   ]
  },
  {
   "cell_type": "markdown",
   "metadata": {
    "nbgrader": {
     "grade": false,
     "grade_id": "cell-1afe9e99d20a4374",
     "locked": true,
     "schema_version": 2,
     "solution": false
    }
   },
   "source": [
    "We could attempt linear regression using `sns.lmplot` as shown below, which hints at some relationships between temperature and proportional casual, but the plot is still fairly unconvincing. "
   ]
  },
  {
   "cell_type": "code",
   "execution_count": null,
   "metadata": {
    "ExecuteTime": {
     "end_time": "2018-09-12T05:50:28.645562Z",
     "start_time": "2018-09-12T05:50:26.781870Z"
    },
    "nbgrader": {
     "grade": false,
     "grade_id": "q6b-lmplot",
     "locked": true,
     "schema_version": 2,
     "solution": false
    }
   },
   "outputs": [],
   "source": [
    "sns.lmplot(data=bike, x='temp', y='prop_casual', hue='weekday', scatter_kws={\"s\": 20}, height=10)\n",
    "plt.title(\"Proportion of Casual Riders by Weekday\");"
   ]
  },
  {
   "cell_type": "markdown",
   "metadata": {
    "nbgrader": {
     "grade": false,
     "grade_id": "cell-980b34b254817347",
     "locked": true,
     "schema_version": 2,
     "solution": false
    }
   },
   "source": [
    "A better approach to visualize the relationship between temperature and the proportion of casual riders is to use local smoothing techniques.\n",
    "\n",
    "- The basic idea is to compute a representative `y` value for each `x` value that captures the data close to that `x` value.\n",
    "\n",
    "- One such technique is \"Locally Weighted Scatterplot Smoothing\" (LOWESS/LOESS). \n",
    "\n",
    "Below is an example where the red curve represents a smoothed pattern in the scatterplot."
   ]
  },
  {
   "cell_type": "code",
   "execution_count": 51,
   "metadata": {
    "ExecuteTime": {
     "end_time": "2018-09-12T05:50:28.793327Z",
     "start_time": "2018-09-12T05:50:28.646991Z"
    },
    "nbgrader": {
     "grade": false,
     "grade_id": "cell-fae506cbd94f98bc",
     "locked": true,
     "schema_version": 2,
     "solution": false
    }
   },
   "outputs": [
    {
     "data": {
      "image/png": "[encoded data removed]",
      "text/plain": [
       "<Figure size 2400x1200 with 1 Axes>"
      ]
     },
     "metadata": {},
     "output_type": "display_data"
    }
   ],
   "source": [
    "from statsmodels.nonparametric.smoothers_lowess import lowess\n",
    "# Make noisy data\n",
    "x_obs = np.sort(np.random.rand(100)*4.0 - 2)\n",
    "y_obs = np.exp(x_obs) + np.random.randn(100) / 2.0\n",
    "\n",
    "# Plot a regular scatterplot with our noisy data \n",
    "sns.scatterplot(x=x_obs, y=y_obs, label=\"Raw Data\")\n",
    "\n",
    "# Pass in the noisy data to lowess to generate the smoothed y-values, \n",
    "# we want to preserve the relative ordering of the y-values, which is why return_sorted=False\n",
    "y_smooth = lowess(y_obs, x_obs, return_sorted=False)\n",
    "\n",
    "# Plot a red line using the smoothed y-values\n",
    "sns.lineplot(x=x_obs, y=y_smooth, label=\"Smoothed Estimator\", color='red')\n",
    "plt.legend();"
   ]
  },
  {
   "cell_type": "markdown",
   "metadata": {
    "deletable": false,
    "editable": false
   },
   "source": [
    "<!-- BEGIN QUESTION -->\n",
    "\n",
    "<br>\n",
    "\n",
    "--- \n",
    "### Question 6b\n",
    "\n",
    "Draw 7 smoothed curves on a single plot, one for each day of the week. \n",
    "\n",
    "- The x-axis should be the temperature (as given in the `'temp'` column).\n",
    "\n",
    "- The y-axis should be a smoothed version of the proportion of casual riders. \n",
    "\n",
    "<img src=\"images/curveplot_temp_prop_casual.png\" width=\"600px\" />\n",
    "\n",
    "You should use [`statsmodels.nonparametric.smoothers_lowess.lowess`](http://www.statsmodels.org/dev/generated/statsmodels.nonparametric.smoothers_lowess.lowess.html) just like the example above. \n",
    "\n",
    "- Unlike the example above, plot ONLY the lowess curve. Do not plot the actual data, which would result in overplotting. \n",
    "\n",
    "You do not need to match the colors on our sample plot as long as the colors in your plot make it easy to distinguish which day they represent.\n",
    "\n",
    "**Hints:** \n",
    "* Start by plotting only one day of the week to make sure you can do that first. Then, consider using a `for` loop to repeat this plotting operation for all days of the week.\n",
    "\n",
    "* The `lowess` function expects the `y` coordinate first, then the `x` coordinate. You should also set the `return_sorted` field to `False`.\n",
    "\n",
    "* **You will need to rescale the normalized temperatures stored in this dataset to Fahrenheit values.** Look at the section of this notebook titled 'Loading Bike Sharing Data' for a description of the (normalized) temperature field to know how to convert back to Celsius first. After doing so, convert it to Fahrenheit. By default, the temperature field ranges from 0.0 to 1.0. In case you need it, $\\text{Fahrenheit} = \\text{Celsius} \\times \\frac{9}{5} + 32$. If you prefer plotting temperatures in Celsius, that's fine as well! Just remember to convert accordingly so the graph is still interpretable. In addition, for smoother curves, use `sns.lineplot` instead of Matplotlib's default plotting functions.  \n",
    "This helps avoid \"noisy\" jagged lines that might appear with `plt.plot` or `plt.scatter`."
   ]
  },
  {
   "cell_type": "code",
   "execution_count": 62,
   "metadata": {
    "nbgrader": {
     "grade": true,
     "grade_id": "cell-831d12249d05ea2c",
     "locked": false,
     "points": 4,
     "schema_version": 2,
     "solution": true
    },
    "tags": [
     "otter_answer_cell"
    ]
   },
   "outputs": [
    {
     "data": {
      "image/png": "[encoded data removed]",
      "text/plain": [
       "<Figure size 1500x1200 with 1 Axes>"
      ]
     },
     "metadata": {},
     "output_type": "display_data"
    }
   ],
   "source": [
    "from statsmodels.nonparametric.smoothers_lowess import lowess\n",
    "\n",
    "# Convert normalized temperature to Fahrenheit\n",
    "bike[\"temp_fahrenheit\"] = bike[\"temp\"] * 73.8 + 32\n",
    "\n",
    "# Set up the plot\n",
    "plt.figure(figsize=(10, 8))\n",
    "\n",
    "# Define the weekdays in order (assuming 0 = Sunday, 6 = Saturday)\n",
    "weekdays = [\"Sun\", \"Mon\", \"Tue\", \"Wed\", \"Thu\", \"Fri\", \"Sat\"]\n",
    "\n",
    "# Loop through each weekday and plot the LOWESS-smoothed curve\n",
    "for i, day in enumerate(weekdays):\n",
    "    subset = bike[bike[\"weekday\"] == day]  # Select only the data for the given day\n",
    "    \n",
    "    if not subset.empty:  # Ensure we have data for this day\n",
    "        smoothed = lowess(subset[\"prop_casual\"], subset[\"temp_fahrenheit\"], frac=0.5, return_sorted=False)\n",
    "        sns.lineplot(x=subset[\"temp_fahrenheit\"], y=smoothed, label=day)\n",
    "\n",
    "# Formatting the plot\n",
    "plt.xlabel(\"Temperature (Fahrenheit)\")\n",
    "plt.ylabel(\"Casual Rider Proportion\")\n",
    "plt.title(\"Temperature vs Casual Rider Proportion by Weekday\")\n",
    "plt.legend(title=\"Weekday\")\n",
    "plt.show()"
   ]
  },
  {
   "cell_type": "markdown",
   "metadata": {
    "deletable": false,
    "editable": false
   },
   "source": [
    "<!-- END QUESTION -->\n",
    "\n",
    "<!-- BEGIN QUESTION -->\n",
    "\n",
    "<br>\n",
    "\n",
    "--- \n",
    "### Question 6c\n",
    "Examine the plot above and describe how casual ridership changes with temperature. Determine if the **plot alone** provides evidence of a **causal** relationship between temperature and casual ridership, and explain your reasoning. \n",
    "\n",
    "Finally, based on **your own intuition**, state whether you think there is a underlying causal relationship. Justify your answer. "
   ]
  },
  {
   "cell_type": "markdown",
   "metadata": {
    "tags": [
     "otter_answer_cell"
    ]
   },
   "source": [
    "The plot indicates a positive association between temperature and the proportion of casual riders. As temperature increases, casual ridership also rises, suggesting that warmer weather makes biking a more attractive option. This trend is especially pronounced on weekends, when casual riders are more active compared to weekdays. The pattern aligns with expectations—people are generally more inclined to engage in recreational activities, such as biking, when the weather is pleasant.\n",
    "\n",
    "That being said, the plot alone does not establish a causal relationship between temperature and casual ridership. While the upward trend suggests a strong correlation, other confounding factors could be at play. For example, seasonality might influence both temperature and ridership simultaneously—summer months tend to be warmer and also coincide with vacation periods, which could independently drive casual ridership. Additionally, longer daylight hours in warmer months might encourage biking, and external factors such as events, holidays, or public transportation availability could also contribute to fluctuations in ridership.\n",
    "\n",
    "Intuitively, it seems reasonable to argue that temperature has a causal effect on casual ridership—colder weather likely deters casual riders due to discomfort, while warmer weather makes biking more appealing. However, to make a stronger causal claim, additional analysis would be needed, such as controlling for seasonality, conducting a natural experiment, or using methods like difference-in-differences or instrumental variables to isolate the effect of temperature from other influencing factors."
   ]
  },
  {
   "cell_type": "markdown",
   "metadata": {
    "deletable": false,
    "editable": false
   },
   "source": [
    "<!-- END QUESTION -->\n",
    "\n",
    "<hr style=\"border: 1px solid #fdb515;\" />\n",
    "\n",
    "## Question 7: Expanding our Analysis"
   ]
  },
  {
   "cell_type": "markdown",
   "metadata": {
    "deletable": false,
    "editable": false
   },
   "source": [
    "<!-- BEGIN QUESTION -->\n",
    "\n",
    "<br>\n",
    "\n",
    "--- \n",
    "\n",
    "### Question 7a\n",
    "\n",
    "Imagine you are working for a bike-sharing company that collaborates with city planners, transportation agencies, and policymakers in order to implement bike-sharing in a city. These stakeholders would like to reduce congestion and lower transportation costs. They also want to ensure the bike-sharing program is implemented equitably. In this sense, equity is a social value that informs the deployment and assessment of your bike-sharing technology. \n",
    "\n",
    "Equity in transportation includes: Improving the ability of people of different socio-economic classes, genders, races, and neighborhoods to access and afford transportation services and assessing how inclusive transportation systems are over time. \n",
    "\n",
    "Do you think the `bike` data as it is can help you assess equity? If so, please explain. If not, how would you change the dataset? \n",
    "\n",
    "You may discuss how you would change the granularity, what other kinds of variables you'd introduce to it, or anything else that might help you answer this question.\n",
    "\n",
    "**Note**: There is no single \"right\" answer to this question – we are looking for thoughtful reflection and commentary on whether or not this dataset, in its current form, encodes information about equity.\n"
   ]
  },
  {
   "cell_type": "markdown",
   "metadata": {
    "tags": [
     "otter_answer_cell"
    ]
   },
   "source": [
    "_Type your answer here, replacing this text._"
   ]
  },
  {
   "cell_type": "markdown",
   "metadata": {
    "deletable": false,
    "editable": false
   },
   "source": [
    "<!-- END QUESTION -->\n",
    "\n"
   ]
  },
  {
   "cell_type": "code",
   "execution_count": null,
   "metadata": {},
   "outputs": [],
   "source": [
    "The current bike-sharing dataset is useful for understanding overall ridership patterns, but it falls short in assessing equity in transportation access. As someone studying public policy, I recognize that equity in transportation goes beyond simple usage trends—it requires an understanding of who is using the system, who is not, and why. Unfortunately, this dataset does not contain the necessary information to answer those questions comprehensively."
   ]
  },
  {
   "cell_type": "code",
   "execution_count": null,
   "metadata": {},
   "outputs": [],
   "source": [
    "Limitations of the Current Dataset:\n",
    "1. No Socio-Demographic Information\n",
    "The dataset does not capture key variables such as income level, race, gender, age, or disability status. These are critical to understanding whether bike-sharing is accessible to historically marginalized communities. Without them, we cannot assess whether certain groups are disproportionately excluded from using the service.\n",
    "2.\tLack of Geographic Data\n",
    "While the dataset includes time-based variables (e.g., hour, day, and season), it does not tell us where trips begin or end. This makes it impossible to analyze whether bike stations are equitably distributed across different neighborhoods, particularly lower-income or transit-poor areas.\n",
    "3.\tNo Cost-Related Data\n",
    "The dataset distinguishes between registered and casual riders, but without pricing details (e.g., membership fees, per-trip costs, or subsidies), we cannot evaluate whether affordability is a barrier. If bike-sharing is primarily used by those who can afford subscriptions while casual riders pay higher per-trip rates, it may indicate financial barriers for lower-income users.\n",
    "4.\tNo Alternative Mobility Data\n",
    "Transportation equity is about access to mobility, not just bike-sharing. Without data on public transit connectivity or alternative travel options, we cannot assess whether bike-sharing fills gaps in mobility or simply serves as a convenience for those with existing transit access."
   ]
  },
  {
   "cell_type": "code",
   "execution_count": null,
   "metadata": {},
   "outputs": [],
   "source": [
    "How I Would Modify the Dataset:\n",
    "\t•\tDemographic variables (self-reported, anonymized, or inferred from survey data)\n",
    "\t•\tGeospatial data on station locations and trip origins/destinations\n",
    "\t•\tFare structure and discounts to analyze financial accessibility\n",
    "\t•\tTrip purpose data (e.g., commuting vs. recreational use)\n",
    "\t•\tPublic transit integration data (e.g., proximity of bike stations to transit hubs)"
   ]
  },
  {
   "cell_type": "code",
   "execution_count": null,
   "metadata": {},
   "outputs": [],
   "source": [
    "Policy Implications\n",
    "\n",
    "From a public policy perspective, simply expanding bike-sharing programs does not automatically lead to equitable outcomes. \n",
    "If stations are clustered in high-income areas or near existing transit hubs, they may reinforce existing disparities rather than closing them. \n",
    "By collecting more granular equity-focused data, policymakers can make data-driven interventions, \n",
    "such as expanding bike infrastructure in underserved areas, offering financial assistance for low-income users, or improving transit-bike integration."
   ]
  },
  {
   "cell_type": "code",
   "execution_count": null,
   "metadata": {},
   "outputs": [],
   "source": [
    "Final Thoughts\n",
    "\n",
    "Right now, the dataset is insufficient for an equity analysis because it lacks key socio-economic and spatial information. \n",
    "It captures usage trends but does not tell us who benefits and who is left out. \n",
    "Expanding the dataset to include these missing variables would provide policymakers with the tools to identify gaps, design targeted interventions, and ensure bike-sharing is truly inclusive."
   ]
  },
  {
   "cell_type": "markdown",
   "metadata": {
    "deletable": false,
    "editable": false
   },
   "source": [
    "<!-- BEGIN QUESTION -->\n",
    "\n",
    "<br>\n",
    "\n",
    "--- \n",
    "### Question 7b\n",
    "[Bike sharing is growing in popularity](https://www.bts.gov/newsroom/bike-share-stations-us), and new cities and regions are making efforts to implement bike-sharing systems that complement their other transportation offerings. The [goals of these efforts](https://www.wired.com/story/americans-falling-in-love-bike-share/) are to have bike sharing serve as an alternate form of transportation in order to alleviate congestion, provide geographic connectivity, reduce carbon emissions, and promote inclusion among communities.\n",
    "\n",
    "Bike-sharing systems have spread to many cities across the country. The company you work for asks you to determine the feasibility of expanding bike sharing to additional cities in the US. \n",
    "\n",
    "Based on your plots in this assignment, would you recommend expanding bike sharing to additional cities in the US? If so, what cities (or types of cities) would you suggest? \n",
    "\n",
    "Please list at least two reasons why, and mention which plot(s) you drew your analysis from. \n",
    "\n",
    "**Note**: There isn't a set right or wrong answer for this question. Feel free to come up with your own conclusions based on evidence from your plots! \n"
   ]
  },
  {
   "attachments": {},
   "cell_type": "markdown",
   "metadata": {
    "tags": [
     "otter_answer_cell"
    ]
   },
   "source": [
    "Based on the analysis of bike-sharing ridership patterns in this assignment, I would recommend expanding bike-sharing to additional cities in the US. However, this expansion should be targeted toward cities with characteristics that align with the observed usage trends. Below, I outline two key insights from the plots that support this recommendation and suggest what types of cities would be the best fit."
   ]
  },
  {
   "cell_type": "code",
   "execution_count": null,
   "metadata": {},
   "outputs": [],
   "source": [
    "1. Temperature and Ridership Trends (Question 6b & 6c)\n",
    "• Insight: The plots analyzing casual ridership and temperature suggest that ridership increases as temperatures rise, with peak usage occurring in warmer conditions.\n",
    "• Implication: This indicates that bike-sharing is more likely to succeed in cities with moderate to warm climates where biking remains a viable option for most of the year.\n",
    "City Recommendation:\n",
    "• Cities with mild winters and warm summers (e.g., Austin, TX; San Diego, CA; Miami, FL).\n",
    "• Cities with strong seasonal demand but manageable winter conditions (e.g., Washington, DC; Denver, CO with infrastructure for winter biking)"
   ]
  },
  {
   "cell_type": "code",
   "execution_count": null,
   "metadata": {},
   "outputs": [],
   "source": [
    "2. Time-of-Day Ridership Patterns (Question 5b & 5c)\n",
    "• Insight: The peak ridership times correspond to typical commuting hours, particularly among registered users. This suggests that bike-sharing is used as a last-mile transportation option for work or school commutes.\n",
    "• Implication: Expanding bike-sharing would be most effective in cities with high commuter density, particularly those with strong public transit systems where bikes can supplement existing routes.\n",
    "City Recommendation:\n",
    "• New York City, NY; Chicago, IL; Seattle, WA – Cities with well-developed but often congested public transit systems, where bike-sharing could improve last-mile connectivity.\n",
    "• College towns like Ann Arbor, MI, and Boulder, CO, where students rely on bikes for short commutes."
   ]
  },
  {
   "cell_type": "code",
   "execution_count": null,
   "metadata": {},
   "outputs": [],
   "source": [
    "Additional Considerations\n",
    "• Equity & Accessibility: The current dataset does not capture demographic information, but future expansions should prioritize equitable access to ensure that bike-sharing is not just for affluent urban dwellers but also reaches lower-income communities and areas with limited transit options.\n",
    "• Infrastructure Readiness: Cities with existing bike infrastructure (protected lanes, bike racks, transit integration) will see higher adoption rates, while cities lacking these features may require policy and infrastructure investments before rollout."
   ]
  },
  {
   "cell_type": "markdown",
   "metadata": {
    "deletable": false,
    "editable": false
   },
   "source": [
    "<!-- END QUESTION -->\n",
    "\n"
   ]
  },
  {
   "cell_type": "markdown",
   "metadata": {},
   "source": [
    "<hr style=\"border: 5px solid #003262;\" />\n",
    "<hr style=\"border: 1px solid #fdb515;\" />\n",
    "\n",
    "## Congratulations! You have finished Homework 4!\n",
    "# Jiayin Lin's guinea pig, Pig, says \"great job!\"\n",
    "<img src = \"images/pig.jpg\" width = \"200\">\n",
    "\n",
    "### Course Content Feedback\n",
    "\n",
    "If you have any feedback about this assignment or about any of our other weekly, weekly assignments, lectures, or discussions, please fill out the [Course Content Feedback Form](https://forms.gle/XGzXnPQ9JmgXhbo29). Your input is valuable in helping us improve the quality and relevance of our content to better meet your needs and expectations!\n",
    "\n",
    "### Submission Instructions\n",
    "\n",
    "Below, you will see a cell. Running this cell will automatically generate a zip file with your autograded answers. Once you submit this file to the HW 4 Coding assignment on Gradescope, Gradescope will automatically submit a PDF file with your written answers to the HW 4 Written assignment. If you run into any issues when running this cell, feel free to check this [section](https://ds100.org/debugging-guide/autograder_gradescope/autograder_gradescope.html#why-does-grader.exportrun_teststrue-fail-if-all-previous-tests-passed) in the Data 100 Debugging Guide.\n",
    "\n",
    "**Important**: Please check that your **plots/graphs and written responses** were generated and submitted correctly to the HW 4 Written Assignment.\n",
    "\n",
    "**You are responsible for ensuring your submission follows our requirements and that the PDF for HW 4 written answers was generated/submitted correctly. We will not be granting regrade requests nor extensions to submissions that don't follow instructions.** If you encounter any difficulties with submission, please don't hesitate to reach out to staff prior to the deadline. "
   ]
  },
  {
   "cell_type": "markdown",
   "metadata": {
    "deletable": false,
    "editable": false
   },
   "source": [
    "## Submission\n",
    "\n",
    "Make sure you have run all cells in your notebook in order before running the cell below, so that all images/graphs appear in the output. The cell below will generate a zip file for you to submit. **Please save before exporting!**"
   ]
  },
  {
   "cell_type": "code",
   "execution_count": 64,
   "metadata": {
    "deletable": false,
    "editable": false
   },
   "outputs": [
    {
     "name": "stdout",
     "output_type": "stream",
     "text": [
      "Running your submission against local test cases...\n",
      "\n",
      "\n",
      "Your submission received the following results when run against available test cases:\n",
      "\n",
      "    q2a results: All test cases passed!\n",
      "\n",
      "    q2b results: All test cases passed!\n",
      "\n",
      "    q5a results: All test cases passed!\n",
      "\n",
      "    q6a results: All test cases passed!\n"
     ]
    },
    {
     "data": {
      "text/html": [
       "\n",
       "                    <p>\n",
       "                        Your submission has been exported. Click\n",
       "                        <a href=\"hw04_2025_02_27T08_27_19_403599.zip\" download=\"hw04_2025_02_27T08_27_19_403599.zip\" target=\"_blank\">here</a> to download\n",
       "                        the zip file.\n",
       "                    </p>\n",
       "                "
      ],
      "text/plain": [
       "<IPython.core.display.HTML object>"
      ]
     },
     "metadata": {},
     "output_type": "display_data"
    }
   ],
   "source": [
    "# Save your notebook first, then run this cell to export your submission.\n",
    "grader.export(run_tests=True)"
   ]
  },
  {
   "cell_type": "markdown",
   "metadata": {},
   "source": [
    " "
   ]
  }
 ],
 "metadata": {
  "celltoolbar": "Create Assignment",
  "kernelspec": {
   "display_name": "Python 3 (ipykernel)",
   "language": "python",
   "name": "python3"
  },
  "language_info": {
   "codemirror_mode": {
    "name": "ipython",
    "version": 3
   },
   "file_extension": ".py",
   "mimetype": "text/x-python",
   "name": "python",
   "nbconvert_exporter": "python",
   "pygments_lexer": "ipython3",
   "version": "3.11.11"
  },
  "otter": {
   "OK_FORMAT": true,
   "require_no_pdf_confirmation": true,
   "tests": {
    "q2a": {
     "name": "q2a",
     "points": 3,
     "suites": [
      {
       "cases": [
        {
         "code": ">>> isinstance(bike, pd.DataFrame)\nTrue",
         "hidden": false,
         "locked": false
        },
        {
         "code": ">>> bike['holiday'].dtype == np.dtype('O')\nTrue",
         "hidden": false,
         "locked": false
        },
        {
         "code": ">>> list(bike['holiday'].iloc[370:375]) == ['no', 'no', 'yes', 'yes', 'yes']\nTrue",
         "hidden": false,
         "locked": false
        },
        {
         "code": ">>> bike['weekday'].dtype == np.dtype('O')\nTrue",
         "hidden": false,
         "locked": false
        },
        {
         "code": ">>> bike['workingday'].dtype == np.dtype('O')\nTrue",
         "hidden": false,
         "locked": false
        },
        {
         "code": ">>> bike['weathersit'].dtype == np.dtype('O')\nTrue",
         "hidden": false,
         "locked": false
        }
       ],
       "scored": true,
       "setup": "",
       "teardown": "",
       "type": "doctest"
      }
     ]
    },
    "q2b": {
     "name": "q2b",
     "points": 3,
     "suites": [
      {
       "cases": [
        {
         "code": ">>> bool(np.all(daily_counts.sort_index().index[0:5] == ['2011-01-01', '2011-01-02', '2011-01-03', '2011-01-04', '2011-01-05']))\nTrue",
         "hidden": false,
         "locked": false
        },
        {
         "code": ">>> bool(type(daily_counts) == pd.DataFrame)\nTrue",
         "hidden": false,
         "locked": false
        },
        {
         "code": ">>> bool(np.isclose(np.round(daily_counts['casual'].var()), 471450))\nTrue",
         "hidden": false,
         "locked": false
        }
       ],
       "scored": true,
       "setup": "",
       "teardown": "",
       "type": "doctest"
      }
     ]
    },
    "q5a": {
     "name": "q5a",
     "points": 1,
     "suites": [
      {
       "cases": [
        {
         "code": ">>> 'time_category' in bike.columns\nTrue",
         "hidden": false,
         "locked": false
        },
        {
         "code": ">>> expected_categories = {'Midnight', 'Morning', 'Lunch Time', 'Afternoon', 'Evening', 'Night'}\n>>> set(bike['time_category'].unique()) == expected_categories\nTrue",
         "hidden": false,
         "locked": false
        },
        {
         "code": ">>> len(bike) == len(bike.drop(columns=['time_category']))\nTrue",
         "hidden": false,
         "locked": false
        },
        {
         "code": ">>> expected_categories = {'Midnight', 'Morning', 'Lunch Time', 'Afternoon', 'Evening', 'Night'}\n>>> bike['hr'].apply(hour_to_category).isin(expected_categories).all()\nTrue",
         "hidden": false,
         "locked": false
        }
       ],
       "scored": true,
       "setup": "",
       "teardown": "",
       "type": "doctest"
      }
     ]
    },
    "q6a": {
     "name": "q6a",
     "points": 1,
     "suites": [
      {
       "cases": [
        {
         "code": ">>> int(bike['prop_casual'].sum()) == 2991\nTrue",
         "hidden": false,
         "locked": false
        }
       ],
       "scored": true,
       "setup": "",
       "teardown": "",
       "type": "doctest"
      }
     ]
    }
   }
  }
 },
 "nbformat": 4,
 "nbformat_minor": 4
}
