{
 "cells": [
  {
   "cell_type": "code",
   "execution_count": 3,
   "id": "58504b26",
   "metadata": {
    "deletable": false,
    "editable": false
   },
   "outputs": [],
   "source": [
    "# Initialize Otter\n",
    "import otter\n",
    "grader = otter.Notebook(\"hw06.ipynb\")"
   ]
  },
  {
   "cell_type": "markdown",
   "id": "ef8c8ae6",
   "metadata": {},
   "source": [
    "# 🎲 Homework 6: Probability and Estimators\n",
    "## Due Date: Thursday, April 10th, 11:59 PM PDT\n",
    "\n",
    "**‼️ Note: There is also a written portion of this HW! Be sure to complete both this notebook and the written assignment.**\n",
    "\n",
    "You must submit this assignment to Gradescope by the on-time deadline, Thursday, April 10th, at 11:59 PM. Please read the syllabus for the Slip Day policy. No late submissions beyond what is outlined in the Slip Day policy will be accepted. **We strongly encourage you to submit your work to Gradescope several hours before the deadline.** This way, you will have ample time to reach out to staff for support if you encounter difficulties with submission. While course staff is happy to help guide you with submitting your assignment ahead of the deadline, we will not respond to last-minute requests for assistance (TAs need to sleep, after all!).\n",
    "\n",
    "This is part of a two-part assignment. After completing this part (\"Homework 6 Coding\"), also remember to complete the \"Homework 6 (Statistics)\" assignment, which will be about deriving the mathematical aspects of random variables and estimators to help you in upcoming statistics courses during your time at Berkeley.\n",
    "\n",
    "Please read the instructions carefully when submitting your work to Gradescope. \n",
    "\n",
    "\n",
    "## Collaboration Policy\n",
    "\n",
    "Data science is a collaborative activity. While you may talk with others about the homework, we ask that you **write your solutions individually**. If you do discuss the assignments with others please **include their names** below."
   ]
  },
  {
   "cell_type": "markdown",
   "id": "625d357f",
   "metadata": {},
   "source": [
    "**Collaborators**: *list collaborators here*"
   ]
  },
  {
   "cell_type": "markdown",
   "id": "8c38c5ac",
   "metadata": {},
   "source": [
    "## Introduction\n",
    "\n",
    "In this homework, we will explore a dataset of the 2022 U.S. News & World Report rankings for liberal arts colleges.\n",
    "The dataset in this HW is a simplified version of the [original data source](https://andyreiter.com/datasets/).\n",
    "\n",
    "While working on this notebook, you will gain experience with the following:\n",
    "* Bootstrap sampling,\n",
    "* The bias-variance tradeoff and decomposition, and\n",
    "* Multicollinearity in features.\n",
    "\n",
    "## Grading\n",
    "Grading is broken down into auto-graded answers and free responses. \n",
    "\n",
    "For auto-graded answers, the results of your code are compared to provided and/or hidden tests.\n",
    "\n",
    "For free response, readers will evaluate how well you answered the question and/or fulfilled the requirements of the question. \n",
    "\n",
    "### Score breakdown\n",
    "\n",
    "Question | Manual | Points\n",
    "--- |---| ---\n",
    "1a| No | 2\n",
    "1b| No | 3\n",
    "1c| Yes | 3\n",
    "1d| Yes | 2\n",
    "1e| Yes | 1\n",
    "2a| No | 3\n",
    "2b| Yes |3\n",
    "2c| Yes | 1\n",
    "3a| No | 2\n",
    "3b| No | 2\n",
    "3c| No | 2\n",
    "3d(i)| Yes | 1.5\n",
    "3d(ii)| Yes | 1.5\n",
    "4a| No | 2\n",
    "4b| Yes | 2\n",
    "Total | 8 | 31\n",
    "\n",
    "If you run into any technical issues, we highly recommend checking out the [Data 100 Debugging Guide](https://ds100.org/debugging-guide/). "
   ]
  },
  {
   "cell_type": "code",
   "execution_count": 4,
   "id": "3597dd4f",
   "metadata": {},
   "outputs": [],
   "source": [
    "# Run this cell to set up your notebook\n",
    "import numpy as np\n",
    "import pandas as pd\n",
    "import sklearn.linear_model as lm\n",
    "from sklearn.model_selection import train_test_split\n",
    "\n",
    "import matplotlib.pyplot as plt\n",
    "import seaborn as sns\n",
    "from IPython.display import Markdown\n",
    "\n",
    "import scipy.stats\n",
    "\n",
    "import warnings\n",
    "warnings.filterwarnings(\"ignore\")\n",
    "\n",
    "pd.set_option('display.precision', 3)"
   ]
  },
  {
   "cell_type": "markdown",
   "id": "83ae55c9",
   "metadata": {},
   "source": [
    "<br/>\n",
    "\n",
    "<hr style=\"border: 5px solid #003262;\" />\n",
    "<hr style=\"border: 1px solid #fdb515;\" />\n",
    "\n",
    "## 📈 Question 1: Exploratory Data Analysis\n",
    "\n",
    "Let's perform some initial EDA to identify trends and patterns in the college ranking dataset."
   ]
  },
  {
   "cell_type": "code",
   "execution_count": 5,
   "id": "d399f586",
   "metadata": {},
   "outputs": [
    {
     "data": {
      "text/html": [
       "<div>\n",
       "<style scoped>\n",
       "    .dataframe tbody tr th:only-of-type {\n",
       "        vertical-align: middle;\n",
       "    }\n",
       "\n",
       "    .dataframe tbody tr th {\n",
       "        vertical-align: top;\n",
       "    }\n",
       "\n",
       "    .dataframe thead th {\n",
       "        text-align: right;\n",
       "    }\n",
       "</style>\n",
       "<table border=\"1\" class=\"dataframe\">\n",
       "  <thead>\n",
       "    <tr style=\"text-align: right;\">\n",
       "      <th></th>\n",
       "      <th>Institution</th>\n",
       "      <th>Type</th>\n",
       "      <th>Overall Score (0-100)</th>\n",
       "      <th>Peer Assessment Score (1-5)</th>\n",
       "      <th>Graduation and retention rank</th>\n",
       "      <th>Predicted 6yr graduation rate</th>\n",
       "      <th>Actual 6yr graduation rate</th>\n",
       "      <th>Pell gradrate</th>\n",
       "      <th>Social Mobility Rank</th>\n",
       "      <th>Percent of classes under 20</th>\n",
       "      <th>Percent of classes of 50 or more students</th>\n",
       "      <th>Student Excellence rank</th>\n",
       "      <th>First year students in top 10% of high school class</th>\n",
       "      <th>Acceptance rate</th>\n",
       "      <th>Financial resources rank</th>\n",
       "      <th>Average alumni giving rate</th>\n",
       "    </tr>\n",
       "  </thead>\n",
       "  <tbody>\n",
       "    <tr>\n",
       "      <th>0</th>\n",
       "      <td>Williams College (MA)</td>\n",
       "      <td>private</td>\n",
       "      <td>100</td>\n",
       "      <td>4.7</td>\n",
       "      <td>1</td>\n",
       "      <td>95%</td>\n",
       "      <td>96%</td>\n",
       "      <td>96%</td>\n",
       "      <td>98.0</td>\n",
       "      <td>84%</td>\n",
       "      <td>1%</td>\n",
       "      <td>1</td>\n",
       "      <td>95%</td>\n",
       "      <td>15%</td>\n",
       "      <td>2.0</td>\n",
       "      <td>47%</td>\n",
       "    </tr>\n",
       "    <tr>\n",
       "      <th>1</th>\n",
       "      <td>Amherst College (MA)</td>\n",
       "      <td>private</td>\n",
       "      <td>98</td>\n",
       "      <td>4.6</td>\n",
       "      <td>2</td>\n",
       "      <td>92%</td>\n",
       "      <td>95%</td>\n",
       "      <td>93%</td>\n",
       "      <td>38.0</td>\n",
       "      <td>80%</td>\n",
       "      <td>2%</td>\n",
       "      <td>5</td>\n",
       "      <td>85%</td>\n",
       "      <td>12%</td>\n",
       "      <td>5.0</td>\n",
       "      <td>42%</td>\n",
       "    </tr>\n",
       "    <tr>\n",
       "      <th>2</th>\n",
       "      <td>Swarthmore College (PA)</td>\n",
       "      <td>private</td>\n",
       "      <td>94</td>\n",
       "      <td>4.6</td>\n",
       "      <td>2</td>\n",
       "      <td>92%</td>\n",
       "      <td>97%</td>\n",
       "      <td>98%</td>\n",
       "      <td>135.0</td>\n",
       "      <td>76%</td>\n",
       "      <td>1%</td>\n",
       "      <td>3</td>\n",
       "      <td>93%</td>\n",
       "      <td>9%</td>\n",
       "      <td>6.0</td>\n",
       "      <td>31%</td>\n",
       "    </tr>\n",
       "    <tr>\n",
       "      <th>3</th>\n",
       "      <td>Pomona College (CA)</td>\n",
       "      <td>private</td>\n",
       "      <td>93</td>\n",
       "      <td>4.5</td>\n",
       "      <td>6</td>\n",
       "      <td>92%</td>\n",
       "      <td>94%</td>\n",
       "      <td>91%</td>\n",
       "      <td>80.0</td>\n",
       "      <td>78%</td>\n",
       "      <td>0.20%</td>\n",
       "      <td>3</td>\n",
       "      <td>90%</td>\n",
       "      <td>9%</td>\n",
       "      <td>8.0</td>\n",
       "      <td>23%</td>\n",
       "    </tr>\n",
       "    <tr>\n",
       "      <th>4</th>\n",
       "      <td>Wellesley College (MA)</td>\n",
       "      <td>private</td>\n",
       "      <td>92</td>\n",
       "      <td>4.5</td>\n",
       "      <td>14</td>\n",
       "      <td>92%</td>\n",
       "      <td>94%</td>\n",
       "      <td>95%</td>\n",
       "      <td>98.0</td>\n",
       "      <td>71%</td>\n",
       "      <td>0.20%</td>\n",
       "      <td>8</td>\n",
       "      <td>85%</td>\n",
       "      <td>20%</td>\n",
       "      <td>8.0</td>\n",
       "      <td>40%</td>\n",
       "    </tr>\n",
       "  </tbody>\n",
       "</table>\n",
       "</div>"
      ],
      "text/plain": [
       "               Institution     Type  Overall Score (0-100)  \\\n",
       "0    Williams College (MA)  private                    100   \n",
       "1     Amherst College (MA)  private                     98   \n",
       "2  Swarthmore College (PA)  private                     94   \n",
       "3      Pomona College (CA)  private                     93   \n",
       "4   Wellesley College (MA)  private                     92   \n",
       "\n",
       "   Peer Assessment Score (1-5)  Graduation and retention rank  \\\n",
       "0                          4.7                              1   \n",
       "1                          4.6                              2   \n",
       "2                          4.6                              2   \n",
       "3                          4.5                              6   \n",
       "4                          4.5                             14   \n",
       "\n",
       "  Predicted 6yr graduation rate Actual 6yr graduation rate Pell gradrate  \\\n",
       "0                           95%                        96%           96%   \n",
       "1                           92%                        95%           93%   \n",
       "2                           92%                        97%           98%   \n",
       "3                           92%                        94%           91%   \n",
       "4                           92%                        94%           95%   \n",
       "\n",
       "   Social Mobility Rank Percent of classes under 20  \\\n",
       "0                  98.0                         84%   \n",
       "1                  38.0                         80%   \n",
       "2                 135.0                         76%   \n",
       "3                  80.0                         78%   \n",
       "4                  98.0                         71%   \n",
       "\n",
       "  Percent of classes of 50 or more students  Student Excellence rank  \\\n",
       "0                                        1%                        1   \n",
       "1                                        2%                        5   \n",
       "2                                        1%                        3   \n",
       "3                                     0.20%                        3   \n",
       "4                                     0.20%                        8   \n",
       "\n",
       "  First year students in top 10% of high school class Acceptance rate  \\\n",
       "0                                                95%              15%   \n",
       "1                                                85%              12%   \n",
       "2                                                93%               9%   \n",
       "3                                                90%               9%   \n",
       "4                                                85%              20%   \n",
       "\n",
       "   Financial resources rank Average alumni giving rate  \n",
       "0                       2.0                        47%  \n",
       "1                       5.0                        42%  \n",
       "2                       6.0                        31%  \n",
       "3                       8.0                        23%  \n",
       "4                       8.0                        40%  "
      ]
     },
     "execution_count": 5,
     "metadata": {},
     "output_type": "execute_result"
    }
   ],
   "source": [
    "# Run this cell to load the data; no further action is needed.\n",
    "college_data = pd.read_csv('data/2022_college_rankings.csv')\n",
    "college_data.head(5)"
   ]
  },
  {
   "cell_type": "markdown",
   "id": "5130f947",
   "metadata": {},
   "source": [
    "The granularity of the dataset is an individual **college**; each row corresponds to metrics, ratings, and features of one college in the U.S.\n",
    "\n",
    "Here are the columns in the dataset:\n",
    "* `Institution`: The name of the college\n",
    "* `Type`: Whether the college is `'private'` or `'public'`\n",
    "* `Overall Score (0-100)`: The score computed by U.S. News & World Report to generate the ranking. **This is our outcome variable.**\n",
    "* The remaining columns contain features that are related to each college's overall score. \n",
    "\n",
    "We can use `college_data.info()` and `college_data.describe()` to see various statistics about the features of the provided college ranking data. Do any particular statistics stand out to you? Which might be useful when modeling?\n",
    "\n",
    "**Note:** This isn't a question, so it's not worth any points. This is just food for thought as you start to explore the dataset."
   ]
  },
  {
   "cell_type": "code",
   "execution_count": 6,
   "id": "e3789124",
   "metadata": {},
   "outputs": [
    {
     "name": "stdout",
     "output_type": "stream",
     "text": [
      "<class 'pandas.core.frame.DataFrame'>\n",
      "RangeIndex: 167 entries, 0 to 166\n",
      "Data columns (total 16 columns):\n",
      " #   Column                                               Non-Null Count  Dtype  \n",
      "---  ------                                               --------------  -----  \n",
      " 0   Institution                                          167 non-null    object \n",
      " 1   Type                                                 167 non-null    object \n",
      " 2   Overall Score (0-100)                                167 non-null    int64  \n",
      " 3   Peer Assessment Score (1-5)                          167 non-null    float64\n",
      " 4   Graduation and retention rank                        167 non-null    int64  \n",
      " 5   Predicted 6yr graduation rate                        167 non-null    object \n",
      " 6   Actual 6yr graduation rate                           167 non-null    object \n",
      " 7   Pell gradrate                                        154 non-null    object \n",
      " 8   Social Mobility Rank                                 161 non-null    float64\n",
      " 9   Percent of classes under 20                          164 non-null    object \n",
      " 10  Percent of classes of 50 or more students            164 non-null    object \n",
      " 11  Student Excellence rank                              167 non-null    int64  \n",
      " 12  First year students in top 10% of high school class  151 non-null    object \n",
      " 13  Acceptance rate                                      167 non-null    object \n",
      " 14  Financial resources rank                             167 non-null    float64\n",
      " 15  Average alumni giving rate                           161 non-null    object \n",
      "dtypes: float64(3), int64(3), object(10)\n",
      "memory usage: 21.0+ KB\n"
     ]
    }
   ],
   "source": [
    "college_data.info()"
   ]
  },
  {
   "cell_type": "code",
   "execution_count": 7,
   "id": "3487eb3f",
   "metadata": {},
   "outputs": [
    {
     "data": {
      "text/html": [
       "<div>\n",
       "<style scoped>\n",
       "    .dataframe tbody tr th:only-of-type {\n",
       "        vertical-align: middle;\n",
       "    }\n",
       "\n",
       "    .dataframe tbody tr th {\n",
       "        vertical-align: top;\n",
       "    }\n",
       "\n",
       "    .dataframe thead th {\n",
       "        text-align: right;\n",
       "    }\n",
       "</style>\n",
       "<table border=\"1\" class=\"dataframe\">\n",
       "  <thead>\n",
       "    <tr style=\"text-align: right;\">\n",
       "      <th></th>\n",
       "      <th>Overall Score (0-100)</th>\n",
       "      <th>Peer Assessment Score (1-5)</th>\n",
       "      <th>Graduation and retention rank</th>\n",
       "      <th>Social Mobility Rank</th>\n",
       "      <th>Student Excellence rank</th>\n",
       "      <th>Financial resources rank</th>\n",
       "    </tr>\n",
       "  </thead>\n",
       "  <tbody>\n",
       "    <tr>\n",
       "      <th>count</th>\n",
       "      <td>167.000</td>\n",
       "      <td>167.000</td>\n",
       "      <td>167.000</td>\n",
       "      <td>161.000</td>\n",
       "      <td>167.000</td>\n",
       "      <td>167.000</td>\n",
       "    </tr>\n",
       "    <tr>\n",
       "      <th>mean</th>\n",
       "      <td>62.012</td>\n",
       "      <td>3.240</td>\n",
       "      <td>83.281</td>\n",
       "      <td>110.491</td>\n",
       "      <td>86.341</td>\n",
       "      <td>88.551</td>\n",
       "    </tr>\n",
       "    <tr>\n",
       "      <th>std</th>\n",
       "      <td>14.977</td>\n",
       "      <td>0.608</td>\n",
       "      <td>50.093</td>\n",
       "      <td>59.655</td>\n",
       "      <td>53.451</td>\n",
       "      <td>53.912</td>\n",
       "    </tr>\n",
       "    <tr>\n",
       "      <th>min</th>\n",
       "      <td>40.000</td>\n",
       "      <td>2.200</td>\n",
       "      <td>1.000</td>\n",
       "      <td>3.000</td>\n",
       "      <td>1.000</td>\n",
       "      <td>1.000</td>\n",
       "    </tr>\n",
       "    <tr>\n",
       "      <th>25%</th>\n",
       "      <td>49.500</td>\n",
       "      <td>2.750</td>\n",
       "      <td>42.000</td>\n",
       "      <td>67.000</td>\n",
       "      <td>41.000</td>\n",
       "      <td>42.000</td>\n",
       "    </tr>\n",
       "    <tr>\n",
       "      <th>50%</th>\n",
       "      <td>59.000</td>\n",
       "      <td>3.100</td>\n",
       "      <td>84.000</td>\n",
       "      <td>115.000</td>\n",
       "      <td>84.000</td>\n",
       "      <td>85.000</td>\n",
       "    </tr>\n",
       "    <tr>\n",
       "      <th>75%</th>\n",
       "      <td>72.000</td>\n",
       "      <td>3.600</td>\n",
       "      <td>121.000</td>\n",
       "      <td>158.000</td>\n",
       "      <td>128.500</td>\n",
       "      <td>127.000</td>\n",
       "    </tr>\n",
       "    <tr>\n",
       "      <th>max</th>\n",
       "      <td>100.000</td>\n",
       "      <td>4.700</td>\n",
       "      <td>191.000</td>\n",
       "      <td>212.000</td>\n",
       "      <td>212.000</td>\n",
       "      <td>222.000</td>\n",
       "    </tr>\n",
       "  </tbody>\n",
       "</table>\n",
       "</div>"
      ],
      "text/plain": [
       "       Overall Score (0-100)  Peer Assessment Score (1-5)  \\\n",
       "count                167.000                      167.000   \n",
       "mean                  62.012                        3.240   \n",
       "std                   14.977                        0.608   \n",
       "min                   40.000                        2.200   \n",
       "25%                   49.500                        2.750   \n",
       "50%                   59.000                        3.100   \n",
       "75%                   72.000                        3.600   \n",
       "max                  100.000                        4.700   \n",
       "\n",
       "       Graduation and retention rank  Social Mobility Rank  \\\n",
       "count                        167.000               161.000   \n",
       "mean                          83.281               110.491   \n",
       "std                           50.093                59.655   \n",
       "min                            1.000                 3.000   \n",
       "25%                           42.000                67.000   \n",
       "50%                           84.000               115.000   \n",
       "75%                          121.000               158.000   \n",
       "max                          191.000               212.000   \n",
       "\n",
       "       Student Excellence rank  Financial resources rank  \n",
       "count                  167.000                   167.000  \n",
       "mean                    86.341                    88.551  \n",
       "std                     53.451                    53.912  \n",
       "min                      1.000                     1.000  \n",
       "25%                     41.000                    42.000  \n",
       "50%                     84.000                    85.000  \n",
       "75%                    128.500                   127.000  \n",
       "max                    212.000                   222.000  "
      ]
     },
     "execution_count": 7,
     "metadata": {},
     "output_type": "execute_result"
    }
   ],
   "source": [
    "college_data.describe()"
   ]
  },
  {
   "cell_type": "markdown",
   "id": "e1f3bcf2-a56e-4d79-b126-7fbb5bdfbf2b",
   "metadata": {},
   "source": [
    "You may have observed that several features in the dataset are not shown when viewing with the `describe()` method. This is because those features are non-numeric. For example, some features are in the string format `\"XX%\"`.\n",
    "\n",
    "Before we can fit a linear model accounting for all features in the dataset, we have to convert all features to a numeric representation."
   ]
  },
  {
   "cell_type": "markdown",
   "id": "06776ec8",
   "metadata": {
    "deletable": false,
    "editable": false
   },
   "source": [
    "<br>\n",
    "\n",
    "---\n",
    "\n",
    "### Question 1a\n",
    "\n",
    "Create a new `DataFrame` `cleaned_college_data` with the following changes:\n",
    "\n",
    "- For each column containing at least one missing value, add a new Boolean column that is `True` when the column value is missing, and `False` when the column value is not missing.\n",
    "    - For example, if there were a column containing the values `1, 2, NaN`, we would add a column containing the values `False, False, True`.\n",
    "    - If the original column name is `COLUMN`, the added column name should be `COLUMN_missing`. \n",
    "\n",
    "**Hint**: Use a `for` loop to iterate over the existing column names. You may find the `any()` function [(documentation)](https://docs.python.org/3/library/functions.html#any) useful.\n"
   ]
  },
  {
   "cell_type": "code",
   "execution_count": 8,
   "id": "c903f696",
   "metadata": {
    "tags": [
     "otter_answer_cell"
    ]
   },
   "outputs": [
    {
     "data": {
      "text/html": [
       "<div>\n",
       "<style scoped>\n",
       "    .dataframe tbody tr th:only-of-type {\n",
       "        vertical-align: middle;\n",
       "    }\n",
       "\n",
       "    .dataframe tbody tr th {\n",
       "        vertical-align: top;\n",
       "    }\n",
       "\n",
       "    .dataframe thead th {\n",
       "        text-align: right;\n",
       "    }\n",
       "</style>\n",
       "<table border=\"1\" class=\"dataframe\">\n",
       "  <thead>\n",
       "    <tr style=\"text-align: right;\">\n",
       "      <th></th>\n",
       "      <th>Institution</th>\n",
       "      <th>Type</th>\n",
       "      <th>Overall Score (0-100)</th>\n",
       "      <th>Peer Assessment Score (1-5)</th>\n",
       "      <th>Graduation and retention rank</th>\n",
       "      <th>Predicted 6yr graduation rate</th>\n",
       "      <th>Actual 6yr graduation rate</th>\n",
       "      <th>Pell gradrate</th>\n",
       "      <th>Social Mobility Rank</th>\n",
       "      <th>Percent of classes under 20</th>\n",
       "      <th>...</th>\n",
       "      <th>First year students in top 10% of high school class</th>\n",
       "      <th>Acceptance rate</th>\n",
       "      <th>Financial resources rank</th>\n",
       "      <th>Average alumni giving rate</th>\n",
       "      <th>Pell gradrate_missing</th>\n",
       "      <th>Social Mobility Rank_missing</th>\n",
       "      <th>Percent of classes under 20_missing</th>\n",
       "      <th>Percent of classes of 50 or more students_missing</th>\n",
       "      <th>First year students in top 10% of high school class_missing</th>\n",
       "      <th>Average alumni giving rate_missing</th>\n",
       "    </tr>\n",
       "  </thead>\n",
       "  <tbody>\n",
       "    <tr>\n",
       "      <th>0</th>\n",
       "      <td>Williams College (MA)</td>\n",
       "      <td>private</td>\n",
       "      <td>100</td>\n",
       "      <td>4.7</td>\n",
       "      <td>1</td>\n",
       "      <td>95%</td>\n",
       "      <td>96%</td>\n",
       "      <td>96%</td>\n",
       "      <td>98.0</td>\n",
       "      <td>84%</td>\n",
       "      <td>...</td>\n",
       "      <td>95%</td>\n",
       "      <td>15%</td>\n",
       "      <td>2.0</td>\n",
       "      <td>47%</td>\n",
       "      <td>False</td>\n",
       "      <td>False</td>\n",
       "      <td>False</td>\n",
       "      <td>False</td>\n",
       "      <td>False</td>\n",
       "      <td>False</td>\n",
       "    </tr>\n",
       "    <tr>\n",
       "      <th>1</th>\n",
       "      <td>Amherst College (MA)</td>\n",
       "      <td>private</td>\n",
       "      <td>98</td>\n",
       "      <td>4.6</td>\n",
       "      <td>2</td>\n",
       "      <td>92%</td>\n",
       "      <td>95%</td>\n",
       "      <td>93%</td>\n",
       "      <td>38.0</td>\n",
       "      <td>80%</td>\n",
       "      <td>...</td>\n",
       "      <td>85%</td>\n",
       "      <td>12%</td>\n",
       "      <td>5.0</td>\n",
       "      <td>42%</td>\n",
       "      <td>False</td>\n",
       "      <td>False</td>\n",
       "      <td>False</td>\n",
       "      <td>False</td>\n",
       "      <td>False</td>\n",
       "      <td>False</td>\n",
       "    </tr>\n",
       "    <tr>\n",
       "      <th>2</th>\n",
       "      <td>Swarthmore College (PA)</td>\n",
       "      <td>private</td>\n",
       "      <td>94</td>\n",
       "      <td>4.6</td>\n",
       "      <td>2</td>\n",
       "      <td>92%</td>\n",
       "      <td>97%</td>\n",
       "      <td>98%</td>\n",
       "      <td>135.0</td>\n",
       "      <td>76%</td>\n",
       "      <td>...</td>\n",
       "      <td>93%</td>\n",
       "      <td>9%</td>\n",
       "      <td>6.0</td>\n",
       "      <td>31%</td>\n",
       "      <td>False</td>\n",
       "      <td>False</td>\n",
       "      <td>False</td>\n",
       "      <td>False</td>\n",
       "      <td>False</td>\n",
       "      <td>False</td>\n",
       "    </tr>\n",
       "    <tr>\n",
       "      <th>3</th>\n",
       "      <td>Pomona College (CA)</td>\n",
       "      <td>private</td>\n",
       "      <td>93</td>\n",
       "      <td>4.5</td>\n",
       "      <td>6</td>\n",
       "      <td>92%</td>\n",
       "      <td>94%</td>\n",
       "      <td>91%</td>\n",
       "      <td>80.0</td>\n",
       "      <td>78%</td>\n",
       "      <td>...</td>\n",
       "      <td>90%</td>\n",
       "      <td>9%</td>\n",
       "      <td>8.0</td>\n",
       "      <td>23%</td>\n",
       "      <td>False</td>\n",
       "      <td>False</td>\n",
       "      <td>False</td>\n",
       "      <td>False</td>\n",
       "      <td>False</td>\n",
       "      <td>False</td>\n",
       "    </tr>\n",
       "    <tr>\n",
       "      <th>4</th>\n",
       "      <td>Wellesley College (MA)</td>\n",
       "      <td>private</td>\n",
       "      <td>92</td>\n",
       "      <td>4.5</td>\n",
       "      <td>14</td>\n",
       "      <td>92%</td>\n",
       "      <td>94%</td>\n",
       "      <td>95%</td>\n",
       "      <td>98.0</td>\n",
       "      <td>71%</td>\n",
       "      <td>...</td>\n",
       "      <td>85%</td>\n",
       "      <td>20%</td>\n",
       "      <td>8.0</td>\n",
       "      <td>40%</td>\n",
       "      <td>False</td>\n",
       "      <td>False</td>\n",
       "      <td>False</td>\n",
       "      <td>False</td>\n",
       "      <td>False</td>\n",
       "      <td>False</td>\n",
       "    </tr>\n",
       "  </tbody>\n",
       "</table>\n",
       "<p>5 rows × 22 columns</p>\n",
       "</div>"
      ],
      "text/plain": [
       "               Institution     Type  Overall Score (0-100)  \\\n",
       "0    Williams College (MA)  private                    100   \n",
       "1     Amherst College (MA)  private                     98   \n",
       "2  Swarthmore College (PA)  private                     94   \n",
       "3      Pomona College (CA)  private                     93   \n",
       "4   Wellesley College (MA)  private                     92   \n",
       "\n",
       "   Peer Assessment Score (1-5)  Graduation and retention rank  \\\n",
       "0                          4.7                              1   \n",
       "1                          4.6                              2   \n",
       "2                          4.6                              2   \n",
       "3                          4.5                              6   \n",
       "4                          4.5                             14   \n",
       "\n",
       "  Predicted 6yr graduation rate Actual 6yr graduation rate Pell gradrate  \\\n",
       "0                           95%                        96%           96%   \n",
       "1                           92%                        95%           93%   \n",
       "2                           92%                        97%           98%   \n",
       "3                           92%                        94%           91%   \n",
       "4                           92%                        94%           95%   \n",
       "\n",
       "   Social Mobility Rank Percent of classes under 20  ...  \\\n",
       "0                  98.0                         84%  ...   \n",
       "1                  38.0                         80%  ...   \n",
       "2                 135.0                         76%  ...   \n",
       "3                  80.0                         78%  ...   \n",
       "4                  98.0                         71%  ...   \n",
       "\n",
       "  First year students in top 10% of high school class  Acceptance rate  \\\n",
       "0                                                95%               15%   \n",
       "1                                                85%               12%   \n",
       "2                                                93%                9%   \n",
       "3                                                90%                9%   \n",
       "4                                                85%               20%   \n",
       "\n",
       "  Financial resources rank Average alumni giving rate  Pell gradrate_missing  \\\n",
       "0                      2.0                        47%                  False   \n",
       "1                      5.0                        42%                  False   \n",
       "2                      6.0                        31%                  False   \n",
       "3                      8.0                        23%                  False   \n",
       "4                      8.0                        40%                  False   \n",
       "\n",
       "  Social Mobility Rank_missing  Percent of classes under 20_missing  \\\n",
       "0                        False                                False   \n",
       "1                        False                                False   \n",
       "2                        False                                False   \n",
       "3                        False                                False   \n",
       "4                        False                                False   \n",
       "\n",
       "   Percent of classes of 50 or more students_missing  \\\n",
       "0                                              False   \n",
       "1                                              False   \n",
       "2                                              False   \n",
       "3                                              False   \n",
       "4                                              False   \n",
       "\n",
       "   First year students in top 10% of high school class_missing  \\\n",
       "0                                              False             \n",
       "1                                              False             \n",
       "2                                              False             \n",
       "3                                              False             \n",
       "4                                              False             \n",
       "\n",
       "   Average alumni giving rate_missing  \n",
       "0                               False  \n",
       "1                               False  \n",
       "2                               False  \n",
       "3                               False  \n",
       "4                               False  \n",
       "\n",
       "[5 rows x 22 columns]"
      ]
     },
     "execution_count": 8,
     "metadata": {},
     "output_type": "execute_result"
    }
   ],
   "source": [
    "cleaned_college_data = college_data.copy()\n",
    "\n",
    "for col in college_data.columns:\n",
    "    if college_data[col].isnull().any():  # if any values are missing\n",
    "        cleaned_college_data[f\"{col}_missing\"] = college_data[col].isnull()\n",
    "    \n",
    "cleaned_college_data.head()"
   ]
  },
  {
   "cell_type": "code",
   "execution_count": 9,
   "id": "fe145c2b",
   "metadata": {
    "deletable": false,
    "editable": false
   },
   "outputs": [
    {
     "data": {
      "text/html": [
       "<p><strong><pre style='display: inline;'>q1a</pre></strong> passed! 🌈</p>"
      ],
      "text/plain": [
       "q1a results: All test cases passed!"
      ]
     },
     "execution_count": 9,
     "metadata": {},
     "output_type": "execute_result"
    }
   ],
   "source": [
    "grader.check(\"q1a\")"
   ]
  },
  {
   "cell_type": "markdown",
   "id": "2787a6f3",
   "metadata": {
    "deletable": false,
    "editable": false
   },
   "source": [
    "<br>\n",
    "\n",
    "---\n",
    "\n",
    "### Question 1b\n",
    "\n",
    "Now, we will convert all non-numeric columns of `cleaned_college_data` into numbers. Additionally, we will create some new columns to encode additional information.\n",
    "\n",
    "To do so, complete the following tasks **in the order they are listed**:\n",
    "1. Consider the columns that contain the `'%'` symbol in any entry. Convert these columns from a string representation into the floating point number preceding `'%'`.\n",
    "    - For example, the string `\"96.4%\"` should be converted into floating point number `96.4`.\n",
    "2. Create a column called `\"Is Public\"` where the value is `1` if the row's college is public and `0` if the row's college is private.\n",
    "3. Create a column called `\"Is Private\"` where the value is `1` if the row's college is private and `0` if the row's college is public.\n",
    "4. Remove the `\"Type\"` and `\"Institution\"` columns.\n",
    "5. Replace all `NaN` values in the data with the mean of their respective column.\n",
    "\n",
    "**Hint**:\n",
    "- `pd.Series.fillna()` [(documentation)](https://pandas.pydata.org/docs/reference/api/pandas.Series.fillna.html) may come in handy.\n",
    "- You can select all string columns in a `DataFrame` object `df` with `df.select_dtypes(include=['object'])`[(documentation)](https://pandas.pydata.org/docs/reference/api/pandas.DataFrame.select_dtypes.html). Recall that strings are of the `object` type."
   ]
  },
  {
   "cell_type": "code",
   "execution_count": 10,
   "id": "389a3139",
   "metadata": {
    "tags": [
     "otter_answer_cell"
    ]
   },
   "outputs": [],
   "source": [
    "# Step 1: Convert % strings into float numbers\n",
    "for col in cleaned_college_data.columns:\n",
    "    if cleaned_college_data[col].dtype == \"object\":\n",
    "        if cleaned_college_data[col].astype(str).str.contains('%').any():\n",
    "            cleaned_college_data[col] = (\n",
    "                cleaned_college_data[col]\n",
    "                .astype(str)\n",
    "                .str.replace('%', '', regex=False)\n",
    "                .astype(float)\n",
    "            )\n",
    "\n",
    "# Step 2: Create \"Is Public\"\n",
    "cleaned_college_data[\"Is Public\"] = (\n",
    "    college_data[\"Type\"].str.strip().str.lower() == \"public\"\n",
    ").astype(int)\n",
    "\n",
    "# Step 3: Create \"Is Private\"\n",
    "cleaned_college_data[\"Is Private\"] = (\n",
    "    college_data[\"Type\"].str.strip().str.lower() == \"private\"\n",
    ").astype(int)\n",
    "\n",
    "# Step 4: Drop text columns\n",
    "cleaned_college_data = cleaned_college_data.drop(columns=[\"Type\", \"Institution\"])\n",
    "\n",
    "# Step 5: Fill NaNs with column mean (only numeric columns)\n",
    "for col in cleaned_college_data.select_dtypes(include=['float64', 'int64']).columns:\n",
    "    if cleaned_college_data[col].isnull().any():\n",
    "        cleaned_college_data[col] = cleaned_college_data[col].fillna(cleaned_college_data[col].mean())"
   ]
  },
  {
   "cell_type": "code",
   "execution_count": 11,
   "id": "76f85ac0",
   "metadata": {
    "deletable": false,
    "editable": false
   },
   "outputs": [
    {
     "data": {
      "text/html": [
       "<p><strong><pre style='display: inline;'>q1b</pre></strong> passed! 🍀</p>"
      ],
      "text/plain": [
       "q1b results: All test cases passed!"
      ]
     },
     "execution_count": 11,
     "metadata": {},
     "output_type": "execute_result"
    }
   ],
   "source": [
    "grader.check(\"q1b\")"
   ]
  },
  {
   "cell_type": "markdown",
   "id": "71c56e7e",
   "metadata": {
    "deletable": false,
    "editable": false
   },
   "source": [
    "<!-- BEGIN QUESTION -->\n",
    "\n",
    "<br>\n",
    "\n",
    "---\n",
    "\n",
    "### Question 1c\n",
    "\n",
    "Linear models are sensitive to multicollinearity among the columns of the design matrix. So, let's determine the extent of multicollinearity in the college rankings dataset.\n",
    "\n",
    "In the following cell, we provide you with `arranged_cleaned_college_data`, which is a copy of `cleaned_college_data` containing just a subset of the columns arranged in a particular order. \n",
    "\n",
    "Create a visualization that shows the pairwise correlation between each combination of columns in `arranged_cleaned_college_data`. \n",
    "\n",
    "- For 2-D visualizations, consider the `sns.heatmap()` [documentation](https://seaborn.pydata.org/generated/seaborn.heatmap.html). \n",
    "\n",
    "- For full credit, title your plot, and set `annot=True`. This makes the plot easier to interpret.\n",
    "\n",
    "- You may find your plot easier to read with a different color scale. For example, try including `cmap=\"coolwarm\"` inside of `sns.heatmap()`.\n",
    "\n",
    "**Hint**: Your plot should show $10 \\times 10$ values corresponding to the [pairwise correlations](https://pandas.pydata.org/docs/reference/api/pandas.DataFrame.corr.html) of the selected columns in `arranged_cleaned_college_data`:\n",
    "```\n",
    "['Overall Score (0-100)', \n",
    "'Peer Assessment Score (1-5)', \n",
    "'Predicted 6yr graduation rate',\n",
    "'Actual 6yr graduation rate', \n",
    "'Graduation and retention rank', \n",
    "'Student Excellence rank',\n",
    "'Acceptance rate', \n",
    "'Financial resources rank', \n",
    "'Is Public', \n",
    "'Is Private']\n",
    "```"
   ]
  },
  {
   "cell_type": "code",
   "execution_count": 12,
   "id": "7a04ece9",
   "metadata": {
    "deletable": false,
    "editable": false
   },
   "outputs": [],
   "source": [
    "# Running this cell helps you get a subset of cleaned_college_data with the above columns\n",
    "arranged_cleaned_college_data = cleaned_college_data[\n",
    "    ['Overall Score (0-100)', \n",
    "     'Peer Assessment Score (1-5)', \n",
    "     'Predicted 6yr graduation rate',\n",
    "     'Actual 6yr graduation rate', \n",
    "     'Graduation and retention rank', \n",
    "     'Student Excellence rank',\n",
    "     'Acceptance rate', \n",
    "     'Financial resources rank', \n",
    "     'Is Public', \n",
    "     'Is Private']\n",
    "]"
   ]
  },
  {
   "cell_type": "markdown",
   "id": "56260b5b",
   "metadata": {
    "deletable": false,
    "editable": false
   },
   "source": [
    "Your output figure should look similar to the following example:\n",
    "\n",
    "<center><img src = \"images/heatmap.png\" width = \"600\"></center>"
   ]
  },
  {
   "cell_type": "code",
   "execution_count": 13,
   "id": "b4c7ca49",
   "metadata": {
    "tags": [
     "otter_answer_cell"
    ]
   },
   "outputs": [
    {
     "data": {
      "image/png": "[encoded data removed]",
      "text/plain": [
       "<Figure size 800x600 with 2 Axes>"
      ]
     },
     "metadata": {},
     "output_type": "display_data"
    }
   ],
   "source": [
    "fig, ax = plt.subplots(figsize=(8, 6))\n",
    "sns.heatmap(\n",
    "    arranged_cleaned_college_data.corr(),  \n",
    "    annot=True,                            \n",
    "    cmap=\"coolwarm\",                       \n",
    "    ax=ax                                  \n",
    ")\n",
    "ax.set_title(\"Pairwise Correlation\", fontsize=14)\n",
    "plt.show()"
   ]
  },
  {
   "cell_type": "markdown",
   "id": "b4a25b54",
   "metadata": {
    "deletable": false,
    "editable": false
   },
   "source": [
    "<!-- END QUESTION -->\n",
    "\n",
    "<!-- BEGIN QUESTION -->\n",
    "\n",
    "<br>\n",
    "\n",
    "---\n",
    "\n",
    "### Question 1d\n",
    "\n",
    "Do you notice any patterns in the plot from part (c)? What might explain these patterns? Comment and hypothesize on at least two patterns you notice.\n",
    "\n",
    "Here are some example questions to ponder:\n",
    "\n",
    "1. Why do some feature-pairs have correlations of $\\pm 1$? Is this a problem?\n",
    "2. What does the correlation between pairs of features (i.e., graduation-related statistics) look like? Is the magnitude of any of the correlations problemtatically close to 1?\n",
    "3. Are any features particularly strong predictors of the outcome? If so, why do you think this is the case?\n",
    "4. Do any features seem potentially redundant? In other words, do you suspect that any features provide similar information about the outcome as other features?\n"
   ]
  },
  {
   "cell_type": "markdown",
   "id": "a673113c",
   "metadata": {
    "tags": [
     "otter_answer_cell"
    ]
   },
   "source": [
    "One clear pattern in the heatmap is that “Is Public” and “Is Private” have a correlation of -1, which is expected since they are exact opposites — a college can’t be both at once. However, this perfect negative correlation can cause problems in a linear model because it introduces perfect multicollinearity. Including both of them would be redundant, so one should be dropped.\n",
    "\n",
    "Another noticeable pattern is that graduation-related features — such as “Predicted 6yr graduation rate,” “Actual 6yr graduation rate,” and “Graduation and retention rank” — are strongly positively correlated (close to 0.85–0.97). This shows that they’re capturing very similar information, which makes sense since they’re all measuring aspects of student success over time. However, this could lead to overemphasizing graduation in the model unless we select just one or use dimensionality reduction.\n",
    "\n",
    "Lastly, I observed that “Acceptance rate” has strong negative correlations with features like “Overall Score” and “Peer Assessment Score.” This means that colleges that are harder to get into often score higher on other metrics. While this reflects real-world patterns, it also signals multicollinearity that could confuse the model. If many variables are basically pointing in the same direction, the model might have trouble figuring out which one actually matters most."
   ]
  },
  {
   "cell_type": "markdown",
   "id": "800eded6-448a-4837-99da-ce6174dc3ca9",
   "metadata": {
    "deletable": false,
    "editable": false
   },
   "source": [
    "<!-- END QUESTION -->\n",
    "\n",
    "<!-- BEGIN QUESTION -->\n",
    "\n",
    "<br>\n",
    "\n",
    "---\n",
    "### Question 1e\n",
    "If we tried to fit a linear regression model with an intercept term using all features in `cleaned_college_data`, we might run into some problems when fitting our model.\n",
    "The Data 100 staff suggests that we perform the following operation to the `DataFrame` before fitting a model:"
   ]
  },
  {
   "cell_type": "code",
   "execution_count": 14,
   "id": "b16ae980",
   "metadata": {
    "deletable": false,
    "editable": false
   },
   "outputs": [],
   "source": [
    "# You must run this cell to achieve pass the public tests for later questions.\n",
    "cleaned_college_data = cleaned_college_data.drop('Is Private', axis=1)"
   ]
  },
  {
   "cell_type": "markdown",
   "id": "ade8c06b-550d-444e-a178-1698ebe206df",
   "metadata": {
    "deletable": false,
    "editable": false
   },
   "source": [
    "Describe the reasoning behind this operation. What problem(s) do we avoid by removing the `Is Private` column from the model fitting process?"
   ]
  },
  {
   "cell_type": "markdown",
   "id": "6eecb722",
   "metadata": {
    "tags": [
     "otter_answer_cell"
    ]
   },
   "source": [
    "We remove the \"Is Private\" column because it is perfectly negatively correlated with the \"Is Public\" column (correlation = -1). Including both in a linear regression model would create perfect multicollinearity, meaning one column can be exactly predicted by the other. This would confuse the model and make it impossible to uniquely estimate the coefficients. By dropping one of the two, we avoid this redundancy and allow the model to fit properly. This is a common step when dealing with dummy variables."
   ]
  },
  {
   "cell_type": "markdown",
   "id": "5079491b",
   "metadata": {
    "deletable": false,
    "editable": false,
    "tags": []
   },
   "source": [
    "<!-- END QUESTION -->\n",
    "\n",
    "<br/>\n",
    "\n",
    "<hr style=\"border: 1px solid #fdb515;\" />\n",
    "\n",
    "## 🏗️ Question 2: Constructing a Preliminary College Ranking Model\n",
    "\n",
    "In this question, you will fit a linear regression model to predict the U.S. News liberal arts college scores based on college metrics. Later, we will investigate the bias, variance, and observational noise of this model."
   ]
  },
  {
   "cell_type": "markdown",
   "id": "584ef547",
   "metadata": {
    "deletable": false,
    "editable": false
   },
   "source": [
    "<br>\n",
    "\n",
    "---\n",
    "\n",
    "### Question 2a\n",
    "\n",
    "Train an `sklearn` OLS model that predicts each college's overall score using all of the other columns in `cleaned_college_data`. Include an intercept term in the model.\n",
    "\n",
    "Use `train_test_split()` [(documentation)](https://scikit-learn.org/stable/modules/generated/sklearn.model_selection.train_test_split.html) to evaluate your model's RMSE on a held-out test set containing 33% of the college data; call the resulting splits `X_train`, `X_test`, `Y_train`, and `Y_test`.\n",
    "\n",
    "You can instantiate your linear regression model using `lm.LinearRegression` [(documentation)](https://scikit-learn.org/stable/modules/generated/sklearn.linear_model.LinearRegression.html)\n",
    "\n",
    "**Note**: To pass the autograder, make sure to include `random_state=42` in your call to `train_test_split()` to generate a reproducible data split ([documentation](http://scikit-learn.org/stable/modules/generated/sklearn.model_selection.train_test_split.html))."
   ]
  },
  {
   "cell_type": "code",
   "execution_count": 15,
   "id": "1c9020f9-41f1-4c11-a1f0-922511d8d2d3",
   "metadata": {},
   "outputs": [
    {
     "name": "stdout",
     "output_type": "stream",
     "text": [
      "Index(['Overall Score (0-100)', 'Peer Assessment Score (1-5)',\n",
      "       'Graduation and retention rank', 'Predicted 6yr graduation rate',\n",
      "       'Actual 6yr graduation rate', 'Pell gradrate', 'Social Mobility Rank',\n",
      "       'Percent of classes under 20',\n",
      "       'Percent of classes of 50 or more students', 'Student Excellence rank',\n",
      "       'First year students in top 10% of high school class',\n",
      "       'Acceptance rate', 'Financial resources rank',\n",
      "       'Average alumni giving rate', 'Pell gradrate_missing',\n",
      "       'Social Mobility Rank_missing', 'Percent of classes under 20_missing',\n",
      "       'Percent of classes of 50 or more students_missing',\n",
      "       'First year students in top 10% of high school class_missing',\n",
      "       'Average alumni giving rate_missing', 'Is Public'],\n",
      "      dtype='object')\n"
     ]
    }
   ],
   "source": [
    "print(cleaned_college_data.columns)"
   ]
  },
  {
   "cell_type": "code",
   "execution_count": 16,
   "id": "2525c32c",
   "metadata": {
    "tags": [
     "otter_answer_cell"
    ]
   },
   "outputs": [
    {
     "data": {
      "text/plain": [
       "(1.4723792966849891, 2.2438056361294665)"
      ]
     },
     "execution_count": 16,
     "metadata": {},
     "output_type": "execute_result"
    }
   ],
   "source": [
    "# Setup\n",
    "from sklearn.linear_model import LinearRegression\n",
    "from sklearn.model_selection import train_test_split\n",
    "from sklearn.metrics import mean_squared_error\n",
    "import numpy as np\n",
    "\n",
    "# Split features and target (double check column name here!)\n",
    "X = cleaned_college_data.drop(columns=[\"Overall Score (0-100)\"])\n",
    "Y = cleaned_college_data[\"Overall Score (0-100)\"]\n",
    "\n",
    "# Split into train/test sets\n",
    "X_train, X_test, Y_train, Y_test = train_test_split(X, Y, test_size=0.33, random_state=42)\n",
    "\n",
    "# Train linear regression model\n",
    "model = LinearRegression()\n",
    "model.fit(X_train, Y_train)\n",
    "\n",
    "# Predict on train and test sets\n",
    "Y_train_pred = model.predict(X_train)\n",
    "Y_test_pred = model.predict(X_test)\n",
    "\n",
    "# Calculate RMSE (Root Mean Squared Error)\n",
    "train_rmse_cpc = np.sqrt(mean_squared_error(Y_train, Y_train_pred))\n",
    "test_rmse_cpc = np.sqrt(mean_squared_error(Y_test, Y_test_pred))\n",
    "\n",
    "train_rmse_cpc, test_rmse_cpc"
   ]
  },
  {
   "cell_type": "code",
   "execution_count": 17,
   "id": "8e1140d2",
   "metadata": {
    "deletable": false,
    "editable": false
   },
   "outputs": [
    {
     "data": {
      "text/html": [
       "<p><strong><pre style='display: inline;'>q2a</pre></strong> passed! 🚀</p>"
      ],
      "text/plain": [
       "q2a results: All test cases passed!"
      ]
     },
     "execution_count": 17,
     "metadata": {},
     "output_type": "execute_result"
    }
   ],
   "source": [
    "grader.check(\"q2a\")"
   ]
  },
  {
   "cell_type": "markdown",
   "id": "ca7823ad",
   "metadata": {
    "deletable": false,
    "editable": false
   },
   "source": [
    "<!-- BEGIN QUESTION -->\n",
    "\n",
    "<br>\n",
    "\n",
    "---\n",
    "\n",
    "### Question 2b\n",
    "\n",
    "Let's visualize the model performance from part 2(a). Plot the following:\n",
    "1. The observed values vs. the predicted values on the test set.\n",
    "2. The residuals plot. Recall that for multiple linear regression, we plot the residuals against the predicted values.\n",
    "\n",
    "**In both plots, the predicted values should be on the x-axis.**\n",
    "\n",
    "**Note:**\n",
    "* For a full-credit solution, you should use `plt.subplot()` ([documentation](https://matplotlib.org/stable/gallery/subplots_axes_and_figures/subplots_demo.html)) so that you can view both visualizations side-by-side. \n",
    "    * The method `plt.subplot({# of rows}{# of cols}{index of plot})` sets the plottable area to the `index` of a `# rows` by `# cols` grid. \n",
    "    * For example, `plt.subplot(121)` sets the plottable area to the first index of a 1x2 plot grid. Calling `Matplotlib` and `Seaborn` functions will plot on the first index. When you're ready to start plotting on the second index, run `plt.subplot(122)`.\n",
    "* **Remember to add a guiding line to both plots where $\\hat{Y} = Y$, i.e., where the residual is 0**.\n",
    "    * `plt.plot()`[(documentation)](https://matplotlib.org/stable/api/_as_gen/matplotlib.pyplot.plot.html) and `plt.axhline()`[(documentation)](https://matplotlib.org/stable/api/_as_gen/matplotlib.pyplot.axhline.html) might be helpful here! \n",
    "* Make sure to add descriptive titles and axis labels.\n",
    "* To avoid distorted aspect ratios, ensure the limits of the x-axes for both plots are the same."
   ]
  },
  {
   "cell_type": "code",
   "execution_count": 18,
   "id": "ce45870d",
   "metadata": {
    "tags": [
     "otter_answer_cell"
    ]
   },
   "outputs": [
    {
     "data": {
      "image/png": "[encoded data removed]",
      "text/plain": [
       "<Figure size 1200x600 with 2 Axes>"
      ]
     },
     "metadata": {},
     "output_type": "display_data"
    }
   ],
   "source": [
    "plt.figure(figsize=(12,6))      # do not change this line\n",
    "plt.subplot(121)                # do not change this line\n",
    "# 1. plot observations vs. predictions\n",
    "plt.scatter(Y_test_pred, Y_test, alpha=0.7)\n",
    "plt.plot([Y_test.min(), Y_test.max()], [Y_test.min(), Y_test.max()], color='red', linestyle='--')\n",
    "plt.xlabel('Predicted Values')\n",
    "plt.ylabel('Actual Values')\n",
    "plt.title('Actual vs. Predicted Values')\n",
    "\n",
    "plt.subplot(122)               # do not change this line\n",
    "# 2. plot residual plot\n",
    "plt.subplot(122)  # do not change this line\n",
    "residuals = Y_test - Y_test_pred\n",
    "plt.scatter(Y_test_pred, residuals, alpha=0.7)\n",
    "plt.axhline(y=0, color='red', linestyle='--')\n",
    "plt.xlabel('Predicted Values')\n",
    "plt.ylabel('Residuals')\n",
    "plt.title('Residuals vs. Predicted Values')\n",
    "\n",
    "plt.tight_layout()             # do not change this line"
   ]
  },
  {
   "cell_type": "markdown",
   "id": "9185dd56",
   "metadata": {
    "deletable": false,
    "editable": false
   },
   "source": [
    "<!-- END QUESTION -->\n",
    "\n",
    "<!-- BEGIN QUESTION -->\n",
    "\n",
    "<br>\n",
    "\n",
    "---\n",
    "\n",
    "### Question 2c\n",
    "\n",
    "Describe what the plots in part (b) indicate about this linear model. In particular, are the predictions good, and do the residuals appear uncorrelated with the predictions?"
   ]
  },
  {
   "cell_type": "markdown",
   "id": "9ef14f0c",
   "metadata": {
    "tags": [
     "otter_answer_cell"
    ]
   },
   "source": [
    "The plots show that our linear model is doing a pretty good job. In the first plot (actual vs. predicted), most of the dots are close to the red line, which means the predictions are pretty close to the real values. That’s a good sign.\n",
    "\n",
    "In the second plot (residuals vs. predicted), the dots are scattered kind of randomly around the zero line. There’s no clear pattern, and the spread looks pretty even. That tells us that the errors don’t depend on the predictions, which is what we want in a good linear model.\n",
    "\n",
    "So overall, the predictions seem accurate, and the residuals don’t show any weird behavior."
   ]
  },
  {
   "cell_type": "markdown",
   "id": "5ad0bb3b",
   "metadata": {
    "deletable": false,
    "editable": false
   },
   "source": [
    "<!-- END QUESTION -->\n",
    "\n",
    "<br/>\n",
    "\n",
    "<hr style=\"border: 1px solid #fdb515;\" />\n",
    "\n",
    "## 🤹 Question 3: Confidence Intervals and Regression Coefficients\n",
    "\n",
    "We'll next analyze the statistical significance of coefficients in our linear model. Specifically, we will use bootstrapping to get $95\\%$ confidence intervals on the fitted parameters. Each step of bootstrapping corresponds to one part of this question:\n",
    "\n",
    "1. Question 3(a): Assume the sample is representative of the population from which it was drawn. To generate new, synthetic samples, we resample with replacement from the original sample. Generate `B` resamples.\n",
    "2. Question 3(b): Calculate a statistic for each of the `B` resamples. Possible statistics are the mean (Lab 9), correlation (Lab 9), coefficients of a linear model (Question 3 below), or any function of the sample data.\n",
    "3. Question 3(c): Construct a confidence interval by grabbing relevant percentiles of the `B` synthetic summary statistics. For example, for an 80% confidence interval, we grab the 10th and 90th percentiles.\n",
    "4. Question 3(d): Use the resulting confidence interval to make inferences about the population-level statistic."
   ]
  },
  {
   "cell_type": "markdown",
   "id": "63b26f95",
   "metadata": {
    "deletable": false,
    "editable": false
   },
   "source": [
    "<br>\n",
    "\n",
    "---\n",
    "\n",
    "### Question 3a\n",
    "\n",
    "Fill in the blanks below to implement the `bootstrap_sample()` function.\n",
    "\n",
    "Specification:\n",
    "- `bootstrap_sample()` returns a list of `B` bootstrap `DataFrame`s of the dataset `data`. \n",
    "- To generate a bootstrapped dataset from an actual dataset with $n$ rows, sample $n$ rows uniformly at random *with replacement* so that the bootstrapped `DataFrame` is the same size as the original `DataFrame`.\n",
    "\n",
    "**Hint**: You may find `df.sample()` helpful, see [documentation](https://pandas.pydata.org/docs/reference/api/pandas.DataFrame.sample.html). This is very similar to Lab 9."
   ]
  },
  {
   "cell_type": "code",
   "execution_count": 19,
   "id": "542d7436",
   "metadata": {
    "tags": [
     "otter_answer_cell"
    ]
   },
   "outputs": [
    {
     "data": {
      "text/html": [
       "<div>\n",
       "<style scoped>\n",
       "    .dataframe tbody tr th:only-of-type {\n",
       "        vertical-align: middle;\n",
       "    }\n",
       "\n",
       "    .dataframe tbody tr th {\n",
       "        vertical-align: top;\n",
       "    }\n",
       "\n",
       "    .dataframe thead th {\n",
       "        text-align: right;\n",
       "    }\n",
       "</style>\n",
       "<table border=\"1\" class=\"dataframe\">\n",
       "  <thead>\n",
       "    <tr style=\"text-align: right;\">\n",
       "      <th></th>\n",
       "      <th>Overall Score (0-100)</th>\n",
       "      <th>Peer Assessment Score (1-5)</th>\n",
       "      <th>Graduation and retention rank</th>\n",
       "      <th>Predicted 6yr graduation rate</th>\n",
       "      <th>Actual 6yr graduation rate</th>\n",
       "      <th>Pell gradrate</th>\n",
       "      <th>Social Mobility Rank</th>\n",
       "      <th>Percent of classes under 20</th>\n",
       "      <th>Percent of classes of 50 or more students</th>\n",
       "      <th>Student Excellence rank</th>\n",
       "      <th>...</th>\n",
       "      <th>Acceptance rate</th>\n",
       "      <th>Financial resources rank</th>\n",
       "      <th>Average alumni giving rate</th>\n",
       "      <th>Pell gradrate_missing</th>\n",
       "      <th>Social Mobility Rank_missing</th>\n",
       "      <th>Percent of classes under 20_missing</th>\n",
       "      <th>Percent of classes of 50 or more students_missing</th>\n",
       "      <th>First year students in top 10% of high school class_missing</th>\n",
       "      <th>Average alumni giving rate_missing</th>\n",
       "      <th>Is Public</th>\n",
       "    </tr>\n",
       "  </thead>\n",
       "  <tbody>\n",
       "    <tr>\n",
       "      <th>151</th>\n",
       "      <td>45</td>\n",
       "      <td>2.5</td>\n",
       "      <td>114</td>\n",
       "      <td>64.0</td>\n",
       "      <td>71.0</td>\n",
       "      <td>60.0</td>\n",
       "      <td>80.0</td>\n",
       "      <td>66.0</td>\n",
       "      <td>1.0</td>\n",
       "      <td>126</td>\n",
       "      <td>...</td>\n",
       "      <td>87.0</td>\n",
       "      <td>182.0</td>\n",
       "      <td>9.0</td>\n",
       "      <td>False</td>\n",
       "      <td>False</td>\n",
       "      <td>False</td>\n",
       "      <td>False</td>\n",
       "      <td>False</td>\n",
       "      <td>False</td>\n",
       "      <td>0</td>\n",
       "    </tr>\n",
       "    <tr>\n",
       "      <th>64</th>\n",
       "      <td>65</td>\n",
       "      <td>3.6</td>\n",
       "      <td>37</td>\n",
       "      <td>81.0</td>\n",
       "      <td>85.0</td>\n",
       "      <td>84.0</td>\n",
       "      <td>127.0</td>\n",
       "      <td>50.0</td>\n",
       "      <td>3.0</td>\n",
       "      <td>51</td>\n",
       "      <td>...</td>\n",
       "      <td>51.0</td>\n",
       "      <td>108.0</td>\n",
       "      <td>17.0</td>\n",
       "      <td>False</td>\n",
       "      <td>False</td>\n",
       "      <td>False</td>\n",
       "      <td>False</td>\n",
       "      <td>False</td>\n",
       "      <td>False</td>\n",
       "      <td>0</td>\n",
       "    </tr>\n",
       "    <tr>\n",
       "      <th>25</th>\n",
       "      <td>81</td>\n",
       "      <td>4.0</td>\n",
       "      <td>29</td>\n",
       "      <td>91.0</td>\n",
       "      <td>88.0</td>\n",
       "      <td>91.0</td>\n",
       "      <td>183.0</td>\n",
       "      <td>75.0</td>\n",
       "      <td>0.0</td>\n",
       "      <td>19</td>\n",
       "      <td>...</td>\n",
       "      <td>14.0</td>\n",
       "      <td>19.0</td>\n",
       "      <td>18.0</td>\n",
       "      <td>False</td>\n",
       "      <td>False</td>\n",
       "      <td>False</td>\n",
       "      <td>False</td>\n",
       "      <td>False</td>\n",
       "      <td>False</td>\n",
       "      <td>0</td>\n",
       "    </tr>\n",
       "    <tr>\n",
       "      <th>26</th>\n",
       "      <td>80</td>\n",
       "      <td>4.0</td>\n",
       "      <td>18</td>\n",
       "      <td>87.0</td>\n",
       "      <td>93.0</td>\n",
       "      <td>96.0</td>\n",
       "      <td>106.0</td>\n",
       "      <td>69.0</td>\n",
       "      <td>0.4</td>\n",
       "      <td>20</td>\n",
       "      <td>...</td>\n",
       "      <td>39.0</td>\n",
       "      <td>48.0</td>\n",
       "      <td>29.0</td>\n",
       "      <td>False</td>\n",
       "      <td>False</td>\n",
       "      <td>False</td>\n",
       "      <td>False</td>\n",
       "      <td>False</td>\n",
       "      <td>False</td>\n",
       "      <td>0</td>\n",
       "    </tr>\n",
       "    <tr>\n",
       "      <th>72</th>\n",
       "      <td>62</td>\n",
       "      <td>3.4</td>\n",
       "      <td>90</td>\n",
       "      <td>82.0</td>\n",
       "      <td>73.0</td>\n",
       "      <td>78.0</td>\n",
       "      <td>150.0</td>\n",
       "      <td>88.0</td>\n",
       "      <td>0.3</td>\n",
       "      <td>56</td>\n",
       "      <td>...</td>\n",
       "      <td>55.0</td>\n",
       "      <td>72.0</td>\n",
       "      <td>17.0</td>\n",
       "      <td>False</td>\n",
       "      <td>False</td>\n",
       "      <td>False</td>\n",
       "      <td>False</td>\n",
       "      <td>False</td>\n",
       "      <td>False</td>\n",
       "      <td>0</td>\n",
       "    </tr>\n",
       "    <tr>\n",
       "      <th>...</th>\n",
       "      <td>...</td>\n",
       "      <td>...</td>\n",
       "      <td>...</td>\n",
       "      <td>...</td>\n",
       "      <td>...</td>\n",
       "      <td>...</td>\n",
       "      <td>...</td>\n",
       "      <td>...</td>\n",
       "      <td>...</td>\n",
       "      <td>...</td>\n",
       "      <td>...</td>\n",
       "      <td>...</td>\n",
       "      <td>...</td>\n",
       "      <td>...</td>\n",
       "      <td>...</td>\n",
       "      <td>...</td>\n",
       "      <td>...</td>\n",
       "      <td>...</td>\n",
       "      <td>...</td>\n",
       "      <td>...</td>\n",
       "      <td>...</td>\n",
       "    </tr>\n",
       "    <tr>\n",
       "      <th>98</th>\n",
       "      <td>55</td>\n",
       "      <td>2.8</td>\n",
       "      <td>109</td>\n",
       "      <td>66.0</td>\n",
       "      <td>72.0</td>\n",
       "      <td>60.0</td>\n",
       "      <td>80.0</td>\n",
       "      <td>74.0</td>\n",
       "      <td>0.4</td>\n",
       "      <td>105</td>\n",
       "      <td>...</td>\n",
       "      <td>69.0</td>\n",
       "      <td>153.0</td>\n",
       "      <td>18.0</td>\n",
       "      <td>False</td>\n",
       "      <td>False</td>\n",
       "      <td>False</td>\n",
       "      <td>False</td>\n",
       "      <td>False</td>\n",
       "      <td>False</td>\n",
       "      <td>0</td>\n",
       "    </tr>\n",
       "    <tr>\n",
       "      <th>8</th>\n",
       "      <td>89</td>\n",
       "      <td>4.3</td>\n",
       "      <td>6</td>\n",
       "      <td>90.0</td>\n",
       "      <td>93.0</td>\n",
       "      <td>84.0</td>\n",
       "      <td>180.0</td>\n",
       "      <td>66.0</td>\n",
       "      <td>0.0</td>\n",
       "      <td>16</td>\n",
       "      <td>...</td>\n",
       "      <td>21.0</td>\n",
       "      <td>33.0</td>\n",
       "      <td>41.0</td>\n",
       "      <td>False</td>\n",
       "      <td>False</td>\n",
       "      <td>False</td>\n",
       "      <td>False</td>\n",
       "      <td>False</td>\n",
       "      <td>False</td>\n",
       "      <td>0</td>\n",
       "    </tr>\n",
       "    <tr>\n",
       "      <th>103</th>\n",
       "      <td>55</td>\n",
       "      <td>2.8</td>\n",
       "      <td>100</td>\n",
       "      <td>76.0</td>\n",
       "      <td>71.0</td>\n",
       "      <td>67.0</td>\n",
       "      <td>164.0</td>\n",
       "      <td>79.0</td>\n",
       "      <td>0.0</td>\n",
       "      <td>105</td>\n",
       "      <td>...</td>\n",
       "      <td>80.0</td>\n",
       "      <td>72.0</td>\n",
       "      <td>15.0</td>\n",
       "      <td>False</td>\n",
       "      <td>False</td>\n",
       "      <td>False</td>\n",
       "      <td>False</td>\n",
       "      <td>False</td>\n",
       "      <td>False</td>\n",
       "      <td>0</td>\n",
       "    </tr>\n",
       "    <tr>\n",
       "      <th>132</th>\n",
       "      <td>48</td>\n",
       "      <td>2.7</td>\n",
       "      <td>136</td>\n",
       "      <td>67.0</td>\n",
       "      <td>61.0</td>\n",
       "      <td>55.0</td>\n",
       "      <td>61.0</td>\n",
       "      <td>65.0</td>\n",
       "      <td>0.3</td>\n",
       "      <td>134</td>\n",
       "      <td>...</td>\n",
       "      <td>71.0</td>\n",
       "      <td>136.0</td>\n",
       "      <td>18.0</td>\n",
       "      <td>False</td>\n",
       "      <td>False</td>\n",
       "      <td>False</td>\n",
       "      <td>False</td>\n",
       "      <td>False</td>\n",
       "      <td>False</td>\n",
       "      <td>0</td>\n",
       "    </tr>\n",
       "    <tr>\n",
       "      <th>139</th>\n",
       "      <td>47</td>\n",
       "      <td>2.2</td>\n",
       "      <td>161</td>\n",
       "      <td>60.0</td>\n",
       "      <td>67.0</td>\n",
       "      <td>69.0</td>\n",
       "      <td>4.0</td>\n",
       "      <td>94.0</td>\n",
       "      <td>0.0</td>\n",
       "      <td>169</td>\n",
       "      <td>...</td>\n",
       "      <td>85.0</td>\n",
       "      <td>125.0</td>\n",
       "      <td>16.0</td>\n",
       "      <td>False</td>\n",
       "      <td>False</td>\n",
       "      <td>False</td>\n",
       "      <td>False</td>\n",
       "      <td>False</td>\n",
       "      <td>False</td>\n",
       "      <td>0</td>\n",
       "    </tr>\n",
       "  </tbody>\n",
       "</table>\n",
       "<p>167 rows × 21 columns</p>\n",
       "</div>"
      ],
      "text/plain": [
       "     Overall Score (0-100)  Peer Assessment Score (1-5)  \\\n",
       "151                     45                          2.5   \n",
       "64                      65                          3.6   \n",
       "25                      81                          4.0   \n",
       "26                      80                          4.0   \n",
       "72                      62                          3.4   \n",
       "..                     ...                          ...   \n",
       "98                      55                          2.8   \n",
       "8                       89                          4.3   \n",
       "103                     55                          2.8   \n",
       "132                     48                          2.7   \n",
       "139                     47                          2.2   \n",
       "\n",
       "     Graduation and retention rank  Predicted 6yr graduation rate  \\\n",
       "151                            114                           64.0   \n",
       "64                              37                           81.0   \n",
       "25                              29                           91.0   \n",
       "26                              18                           87.0   \n",
       "72                              90                           82.0   \n",
       "..                             ...                            ...   \n",
       "98                             109                           66.0   \n",
       "8                                6                           90.0   \n",
       "103                            100                           76.0   \n",
       "132                            136                           67.0   \n",
       "139                            161                           60.0   \n",
       "\n",
       "     Actual 6yr graduation rate  Pell gradrate  Social Mobility Rank  \\\n",
       "151                        71.0           60.0                  80.0   \n",
       "64                         85.0           84.0                 127.0   \n",
       "25                         88.0           91.0                 183.0   \n",
       "26                         93.0           96.0                 106.0   \n",
       "72                         73.0           78.0                 150.0   \n",
       "..                          ...            ...                   ...   \n",
       "98                         72.0           60.0                  80.0   \n",
       "8                          93.0           84.0                 180.0   \n",
       "103                        71.0           67.0                 164.0   \n",
       "132                        61.0           55.0                  61.0   \n",
       "139                        67.0           69.0                   4.0   \n",
       "\n",
       "     Percent of classes under 20  Percent of classes of 50 or more students  \\\n",
       "151                         66.0                                        1.0   \n",
       "64                          50.0                                        3.0   \n",
       "25                          75.0                                        0.0   \n",
       "26                          69.0                                        0.4   \n",
       "72                          88.0                                        0.3   \n",
       "..                           ...                                        ...   \n",
       "98                          74.0                                        0.4   \n",
       "8                           66.0                                        0.0   \n",
       "103                         79.0                                        0.0   \n",
       "132                         65.0                                        0.3   \n",
       "139                         94.0                                        0.0   \n",
       "\n",
       "     Student Excellence rank  ...  Acceptance rate  Financial resources rank  \\\n",
       "151                      126  ...             87.0                     182.0   \n",
       "64                        51  ...             51.0                     108.0   \n",
       "25                        19  ...             14.0                      19.0   \n",
       "26                        20  ...             39.0                      48.0   \n",
       "72                        56  ...             55.0                      72.0   \n",
       "..                       ...  ...              ...                       ...   \n",
       "98                       105  ...             69.0                     153.0   \n",
       "8                         16  ...             21.0                      33.0   \n",
       "103                      105  ...             80.0                      72.0   \n",
       "132                      134  ...             71.0                     136.0   \n",
       "139                      169  ...             85.0                     125.0   \n",
       "\n",
       "     Average alumni giving rate  Pell gradrate_missing  \\\n",
       "151                         9.0                  False   \n",
       "64                         17.0                  False   \n",
       "25                         18.0                  False   \n",
       "26                         29.0                  False   \n",
       "72                         17.0                  False   \n",
       "..                          ...                    ...   \n",
       "98                         18.0                  False   \n",
       "8                          41.0                  False   \n",
       "103                        15.0                  False   \n",
       "132                        18.0                  False   \n",
       "139                        16.0                  False   \n",
       "\n",
       "     Social Mobility Rank_missing  Percent of classes under 20_missing  \\\n",
       "151                         False                                False   \n",
       "64                          False                                False   \n",
       "25                          False                                False   \n",
       "26                          False                                False   \n",
       "72                          False                                False   \n",
       "..                            ...                                  ...   \n",
       "98                          False                                False   \n",
       "8                           False                                False   \n",
       "103                         False                                False   \n",
       "132                         False                                False   \n",
       "139                         False                                False   \n",
       "\n",
       "     Percent of classes of 50 or more students_missing  \\\n",
       "151                                              False   \n",
       "64                                               False   \n",
       "25                                               False   \n",
       "26                                               False   \n",
       "72                                               False   \n",
       "..                                                 ...   \n",
       "98                                               False   \n",
       "8                                                False   \n",
       "103                                              False   \n",
       "132                                              False   \n",
       "139                                              False   \n",
       "\n",
       "     First year students in top 10% of high school class_missing  \\\n",
       "151                                              False             \n",
       "64                                               False             \n",
       "25                                               False             \n",
       "26                                               False             \n",
       "72                                               False             \n",
       "..                                                 ...             \n",
       "98                                               False             \n",
       "8                                                False             \n",
       "103                                              False             \n",
       "132                                              False             \n",
       "139                                              False             \n",
       "\n",
       "     Average alumni giving rate_missing  Is Public  \n",
       "151                               False          0  \n",
       "64                                False          0  \n",
       "25                                False          0  \n",
       "26                                False          0  \n",
       "72                                False          0  \n",
       "..                                  ...        ...  \n",
       "98                                False          0  \n",
       "8                                 False          0  \n",
       "103                               False          0  \n",
       "132                               False          0  \n",
       "139                               False          0  \n",
       "\n",
       "[167 rows x 21 columns]"
      ]
     },
     "execution_count": 19,
     "metadata": {},
     "output_type": "execute_result"
    }
   ],
   "source": [
    "def bootstrap_sample(data, B):\n",
    "    \"\"\"\n",
    "    Performs bootstrap sampling on data to obtain B samples of size n.\n",
    "\n",
    "    Arguments:\n",
    "        data – Dataset contained as a pandas DataFrame\n",
    "        B – Number of randomly drawn samples\n",
    "\n",
    "    Returns:\n",
    "        samples – List containing B pandas DataFrames of size n each\n",
    "                  corresponding to each sample\n",
    "    \"\"\"\n",
    "    n = data.shape[0]\n",
    "    samples = [data.sample(n=n, replace=True) for _ in range(B)]\n",
    "    return samples\n",
    "\n",
    "# Print out the first DataFrame only\n",
    "bootstrap_sample(cleaned_college_data, 1)[0]"
   ]
  },
  {
   "cell_type": "code",
   "execution_count": 20,
   "id": "0d17d941",
   "metadata": {
    "deletable": false,
    "editable": false
   },
   "outputs": [
    {
     "data": {
      "text/html": [
       "<p><strong><pre style='display: inline;'>q3a</pre></strong> passed! 🙌</p>"
      ],
      "text/plain": [
       "q3a results: All test cases passed!"
      ]
     },
     "execution_count": 20,
     "metadata": {},
     "output_type": "execute_result"
    }
   ],
   "source": [
    "grader.check(\"q3a\")"
   ]
  },
  {
   "cell_type": "markdown",
   "id": "770c545e",
   "metadata": {
    "deletable": false,
    "editable": false
   },
   "source": [
    "<br>\n",
    "\n",
    "---\n",
    "\n",
    "### Question 3b\n",
    "\n",
    "Write a new function `generate_models()` with the following specifications:\n",
    "\n",
    "1. Generate 1000 bootstrapped samples from an inputted `DataFrame` called `original_df`. `bootstrap_sample()` will come in handy.\n",
    "2. For each of the 1000 bootstrapped samples, use `sklearn` to fit a linear regression model (with an intercept term) like we did in Question 2. `Overall Score (0-100)` is the response, and the rest of the columns are features. You should fit 1000 models in total. \n",
    "3. Store each of the 1000 trained models in a list called `models`. Return `models`.\n",
    "\n",
    "**Hints:**\n",
    "* You __should not__ create any validation or testing sets in this subpart; each model should fit to one entire bootstrapped `DataFrame`.\n",
    "* `LinearRegression` is an object type; to store a new model, you must create a new `LinearRegression` instance first!\n",
    "* Do not use `X` and `Y` as variable names while bootstrapping, as this will override the values stored in `q2a`.\n",
    "* When fitting each model, remember that your design matrix should be a 2D array or a `pandas` `DataFrame`, whereas the true labels should be a `Series`.\n",
    "\n",
    "**Note:** This question may take a few seconds to run due to the number of models being fit. "
   ]
  },
  {
   "cell_type": "code",
   "execution_count": 22,
   "id": "b5e1b10b",
   "metadata": {
    "tags": [
     "otter_answer_cell"
    ]
   },
   "outputs": [],
   "source": [
    "np.random.seed(42) # DO NOT REMOVE THIS LINE\n",
    "\n",
    "def generate_models(original_df):\n",
    "    datasets = bootstrap_sample(original_df, 1000)\n",
    "    models = []\n",
    "    \n",
    "    for df in datasets:\n",
    "        # Step 2a: Split into predictors and target\n",
    "        X_boot = df.drop(columns=[\"Overall Score (0-100)\"])\n",
    "        y_boot = df[\"Overall Score (0-100)\"]\n",
    "\n",
    "        # Step 2b: Create a new model instance\n",
    "        model = lm.LinearRegression()\n",
    "\n",
    "        # Step 2c: Fit model to bootstrapped dataset\n",
    "        model.fit(X_boot, y_boot)\n",
    "\n",
    "        # Step 2d: Store model\n",
    "        models.append(model)\n",
    "        \n",
    "    # Datasets take up a lot of memory, so we should remove them!\n",
    "    del datasets\n",
    "    return models\n",
    "\n",
    "\n",
    "full_feature_models = generate_models(cleaned_college_data)"
   ]
  },
  {
   "cell_type": "code",
   "execution_count": 23,
   "id": "da6a311f",
   "metadata": {
    "deletable": false,
    "editable": false
   },
   "outputs": [
    {
     "data": {
      "text/html": [
       "<p><strong><pre style='display: inline;'>q3b</pre></strong> passed! 🌟</p>"
      ],
      "text/plain": [
       "q3b results: All test cases passed!"
      ]
     },
     "execution_count": 23,
     "metadata": {},
     "output_type": "execute_result"
    }
   ],
   "source": [
    "grader.check(\"q3b\")"
   ]
  },
  {
   "cell_type": "markdown",
   "id": "754713cc",
   "metadata": {
    "deletable": false,
    "editable": false
   },
   "source": [
    "<br>\n",
    "\n",
    "---\n",
    "\n",
    "### Question 3c\n",
    "\n",
    "Complete the `confidence_interval` function below so that it generates a $95\\%$ confidence interval for each of our $p+1$ parameters in the original linear model, including the intercept term $\\theta_0$. \n",
    "\n",
    "Note: All of the helper code needed to extract coefficients from a list of trained models has been implemented for you.\n",
    "\n",
    "**Hint**: \n",
    "- For a refresher on confidence intervals, refer to this section in the [Data 8 textbook](https://inferentialthinking.com/chapters/13/3/Confidence_Intervals.html). \n",
    "- Pay close attention to how the arrays used below are formatted. What does each row represent? What does each column represent? To get the $i^{th}$ column from a 2D-array, you can use `2D_array[:, i]`.\n"
   ]
  },
  {
   "cell_type": "code",
   "execution_count": 24,
   "id": "c40b3e47",
   "metadata": {
    "tags": [
     "otter_answer_cell"
    ]
   },
   "outputs": [],
   "source": [
    "def extract_coefs(models, include_intercept = True):\n",
    "    \"\"\"\n",
    "    NOTE: This function has already been implemented. You do not need to modify this!\n",
    "    \n",
    "    Extracts coefficients of all the linear regression models in MODELS and returns\n",
    "    it as a NumPy array with each model's coefficients as one row.\n",
    "    \n",
    "    Arguments:\n",
    "        models - Contains k sklearn LinearRegression models, each with p + 1 coefficients.\n",
    "        include_intercept - Whether to include an intercept in returned coefficients.\n",
    "    \n",
    "    Returns:\n",
    "        coef_array - Coefficients of all k models, each with p + 1 coefficients (if intercept\n",
    "                     enabled, otherwise p). The returned object is k x (p + 1) NumPy array.\n",
    "    \"\"\"\n",
    "    coef_array = np.zeros(shape = (len(models), len(models[0].coef_) + 1))\n",
    "    for i, m in enumerate(models):\n",
    "        coef_array[i, 0] = m.intercept_\n",
    "        coef_array[i, 1:] = m.coef_\n",
    "    if include_intercept:\n",
    "        return coef_array \n",
    "    return coef_array[:, 1:]\n",
    "\n",
    "def confidence_interval(coefs):\n",
    "    \"\"\"\n",
    "    Calculates confidence intervals for each theta_i based on coefficients of \n",
    "    bootstrapped models. Returns output as a list of confidence intervals.\n",
    "    \n",
    "    Arguments:\n",
    "        coefs - Output of extract_coefs, a k x (p + 1) or k x p NumPy array containing\n",
    "                coefficients of bootstrapped models.\n",
    "    \n",
    "    Returns:\n",
    "        cis - Confidence intervals of each parameter theta_i in the form of a \n",
    "              list like this: [(0.5, 0.75), (0.2, 0.4), ...].\n",
    "    \"\"\"\n",
    "    cis = []\n",
    "    \n",
    "    # FILL IN CODE BELOW\n",
    "\n",
    "    for i in range(coefs.shape[1]):  \n",
    "        theta_i_values = coefs[:, i]  \n",
    "        theta_i_lower_ci = np.percentile(theta_i_values, 2.5)\n",
    "        theta_i_upper_ci = np.percentile(theta_i_values, 97.5)\n",
    "        cis.append((theta_i_lower_ci, theta_i_upper_ci))\n",
    "    \n",
    "    return cis\n",
    "\n",
    "\n",
    "# Compute confidence intervals\n",
    "np.random.seed(42) # DO NOT REMOVE THIS LINE\n",
    "full_feature_models_coefs = extract_coefs(full_feature_models)\n",
    "full_feature_cis = confidence_interval(full_feature_models_coefs)"
   ]
  },
  {
   "cell_type": "code",
   "execution_count": 25,
   "id": "7f2716f2",
   "metadata": {
    "deletable": false,
    "editable": false
   },
   "outputs": [
    {
     "data": {
      "text/html": [
       "<p><strong><pre style='display: inline;'>q3c</pre></strong> passed! 🚀</p>"
      ],
      "text/plain": [
       "q3c results: All test cases passed!"
      ]
     },
     "execution_count": 25,
     "metadata": {},
     "output_type": "execute_result"
    }
   ],
   "source": [
    "grader.check(\"q3c\")"
   ]
  },
  {
   "cell_type": "code",
   "execution_count": 27,
   "id": "32af0f64-aea2-4eac-b95c-705409a68b93",
   "metadata": {},
   "outputs": [
    {
     "data": {
      "image/png": "[encoded data removed]",
      "text/plain": [
       "<Figure size 1000x600 with 1 Axes>"
      ]
     },
     "metadata": {},
     "output_type": "display_data"
    }
   ],
   "source": [
    "# Let's assume you have access to the feature names (excluding the response column)\n",
    "feature_names = ['Intercept'] + list(cleaned_college_data.columns.drop(\"Overall Score (0-100)\"))\n",
    "\n",
    "# Unpack the lower and upper bounds\n",
    "lower_bounds = [ci[0] for ci in full_feature_cis]\n",
    "upper_bounds = [ci[1] for ci in full_feature_cis]\n",
    "mid_points = [(low + high) / 2 for low, high in full_feature_cis]\n",
    "\n",
    "# Plotting\n",
    "plt.figure(figsize=(10, 6))\n",
    "plt.errorbar(mid_points, range(len(feature_names)), \n",
    "             xerr=[ [mid - low for mid, low in zip(mid_points, lower_bounds)],\n",
    "                    [high - mid for mid, high in zip(mid_points, upper_bounds)] ],\n",
    "             fmt='o', color='blue', capsize=5)\n",
    "plt.yticks(range(len(feature_names)), feature_names)\n",
    "plt.axvline(0, color='red', linestyle='--')\n",
    "plt.xlabel(\"Coefficient Estimate with 95% CI\")\n",
    "plt.title(\"Bootstrapped 95% Confidence Intervals for Each Feature\")\n",
    "plt.gca().invert_yaxis()\n",
    "plt.tight_layout()\n",
    "plt.show()"
   ]
  },
  {
   "cell_type": "markdown",
   "id": "f472257c",
   "metadata": {},
   "source": [
    "<br>\n",
    "\n",
    "---\n",
    "\n",
    "### Question 3d\n",
    "Using the code you have written above, we'll now compute the confidence intervals for the coefficients of two different linear models: Model A and Model B. \n",
    "\n",
    "- Recall that Model A uses all features, as defined in `full_feature_models`.\n",
    "\n",
    "- Model B uses a subset of features. The code below will help you fit Model B's coefficients and compute confidence intervals for them. Instances of Model B will be contained in `partial_feature_models`:\n",
    "\n",
    "**Note**: Depending on your implementation of `generate_models` and whether you ignore particular columns in that function, you may need to change the input of `generate_models`. You can use the sanity check below to test whether your `partial_feature_models` were built with the correct features."
   ]
  },
  {
   "cell_type": "code",
   "execution_count": 28,
   "id": "2c908ce2-3933-4a79-95d0-9a9ad5a1d37b",
   "metadata": {},
   "outputs": [],
   "source": [
    "model_b_features = [\n",
    "     \"Peer Assessment Score (1-5)\",\n",
    "     \"Acceptance rate\"\n",
    "]\n",
    "partial_feature_models = generate_models(\n",
    "    cleaned_college_data[[\"Overall Score (0-100)\"] + model_b_features]\n",
    ")\n",
    "partial_feature_models_coefs = extract_coefs(partial_feature_models)\n",
    "partial_feature_cis = confidence_interval(partial_feature_models_coefs)"
   ]
  },
  {
   "cell_type": "code",
   "execution_count": 29,
   "id": "f75ab748-c546-4b3c-8069-ffe8b425c8d3",
   "metadata": {},
   "outputs": [
    {
     "name": "stdout",
     "output_type": "stream",
     "text": [
      "Coefficient shape is correct: True\n",
      "Model input feature names are correct: True\n"
     ]
    }
   ],
   "source": [
    "# For a sanity check, the following lines of code should all output True\n",
    "print(\"Coefficient shape is correct:\", partial_feature_models_coefs.shape == (1000, 3))\n",
    "print(\"Model input feature names are correct:\", (partial_feature_models[0].feature_names_in_ == model_b_features).all())"
   ]
  },
  {
   "cell_type": "markdown",
   "id": "c9ec811d-1a97-4f83-92d4-51b9d530c79c",
   "metadata": {},
   "source": [
    "Here's a function that allows us to inspect the confidence interval of each model:"
   ]
  },
  {
   "cell_type": "code",
   "execution_count": 30,
   "id": "90d070c4-3067-4daf-9c34-f7f613a095d1",
   "metadata": {},
   "outputs": [],
   "source": [
    "def print_confidence_intervals(models, cis):\n",
    "    display(Markdown('##### Confidence Intervals:'))\n",
    "    md_list = [\"|parameter|feature name|lower|upper|\",\n",
    "               \"----|----|----|----|\"]\n",
    "    coef_names = np.append(['Intercept'], models[0].feature_names_in_)\n",
    "    md_list += [r\"|$\\theta_{\" + str(i) + \"}\" + fr\"$|{f_name}|{np.round(lci, 3)}|{np.round(uci, 3)}|\" for i, ((lci, uci), f_name) in enumerate(zip(cis, coef_names))]\n",
    "    display(Markdown('\\n'.join(md_list)))"
   ]
  },
  {
   "cell_type": "markdown",
   "id": "eb3ed4f9-75cd-4f08-be75-dcdb3972b531",
   "metadata": {
    "deletable": false,
    "editable": false
   },
   "source": [
    "<!-- BEGIN QUESTION -->\n",
    "\n",
    "#### Question 3d(i)\n",
    "Let us first interpret **Model B**, the linear regression model that use a subset of features from our dataset."
   ]
  },
  {
   "cell_type": "code",
   "execution_count": 31,
   "id": "b7c6af13-738d-4d19-82a6-54c642eff7c0",
   "metadata": {
    "deletable": false,
    "editable": false
   },
   "outputs": [
    {
     "data": {
      "text/markdown": [
       "#### Model B: Subset of Features"
      ],
      "text/plain": [
       "<IPython.core.display.Markdown object>"
      ]
     },
     "metadata": {},
     "output_type": "display_data"
    },
    {
     "data": {
      "text/markdown": [
       "##### Confidence Intervals:"
      ],
      "text/plain": [
       "<IPython.core.display.Markdown object>"
      ]
     },
     "metadata": {},
     "output_type": "display_data"
    },
    {
     "data": {
      "text/markdown": [
       "|parameter|feature name|lower|upper|\n",
       "----|----|----|----|\n",
       "|$\\theta_{0}$|Intercept|-3.604|31.506|\n",
       "|$\\theta_{1}$|Peer Assessment Score (1-5)|13.882|21.341|\n",
       "|$\\theta_{2}$|Acceptance rate|-0.245|-0.061|"
      ],
      "text/plain": [
       "<IPython.core.display.Markdown object>"
      ]
     },
     "metadata": {},
     "output_type": "display_data"
    }
   ],
   "source": [
    "display(Markdown('#### Model B: Subset of Features'))\n",
    "print_confidence_intervals(partial_feature_models, partial_feature_cis)"
   ]
  },
  {
   "cell_type": "markdown",
   "id": "dd4886ad-4356-4ec5-8723-dc6a617492ba",
   "metadata": {
    "deletable": false,
    "editable": false
   },
   "source": [
    "Are $\\theta_1$ and $\\theta_2$ significantly different than 0? How do you know? \n",
    "\n",
    "Does your answer imply that the relationship between `Overall Score (0-100)`, `Peer Assessment Score (1-5)`, and `Acceptance rate` are causal? Do you think the relationships are causal? Explain."
   ]
  },
  {
   "cell_type": "markdown",
   "id": "7bd75286",
   "metadata": {
    "tags": [
     "otter_answer_cell"
    ]
   },
   "source": [
    "Yes, both θ₁ and θ₂ are significantly different from 0. I know this because the 95% confidence intervals for both coefficients do not contain 0. For θ₁ (Peer Assessment Score), the interval is [13.882, 21.341], and for θ₂ (Acceptance Rate), it’s [-0.245, -0.061]. Since neither of these intervals includes 0, we can be reasonably confident that these features have a real relationship with the Overall Score.\n",
    "\n",
    "However, this does not mean the relationships are causal. This is an observational dataset, so there could be other confounding variables affecting the results. For example, more selective schools (lower acceptance rate) may also have more resources or prestige, which could influence both the peer score and the overall score. So while the relationships are statistically significant, we cannot conclude that changing peer score or acceptance rate will directly cause a change in overall score."
   ]
  },
  {
   "cell_type": "markdown",
   "id": "a1ae286b",
   "metadata": {
    "deletable": false,
    "editable": false
   },
   "source": [
    "<!-- END QUESTION -->\n",
    "\n",
    "<!-- BEGIN QUESTION -->\n",
    "\n",
    "#### Question 3d(ii)\n",
    "\n",
    "In what situation(s) would you prefer a more compact model with just key features, like Model B? On the other hand, in what situation(s) would you want to consider many features, like in Model A? Explain your answer to both of these questions."
   ]
  },
  {
   "cell_type": "markdown",
   "id": "9f52ddd5",
   "metadata": {
    "tags": [
     "otter_answer_cell"
    ]
   },
   "source": [
    "In general, I would prefer a more compact model like Model B when simplicity, interpretability, and efficiency are important. For example, if I’m trying to communicate the main drivers of a college’s overall score to a non-technical audience (like administrators or the general public), using just a couple of key features such as Peer Assessment Score and Acceptance Rate makes the model easier to explain and understand. A simpler model is also useful when I have limited data, since using fewer features helps reduce the risk of overfitting.\n",
    "\n",
    "On the other hand, I would choose a model with many features like Model A when prediction accuracy is more important than interpretability, or when I want a more comprehensive understanding of the problem. Including more features can help capture more of the variation in the target variable and reduce the chance of missing important predictors. For instance, if I were developing a model to forecast future college rankings as accurately as possible, I would want to use all the features available—like graduation rates, financial resources, class size, and more—because each one could add useful information and improve model performance.\n",
    "\n",
    "In summary, Model B is ideal for clear communication and quick insights, while Model A is better when the goal is strong predictive power and thorough analysis."
   ]
  },
  {
   "cell_type": "markdown",
   "id": "0d20bd06-2331-4537-8fe6-9bf92cc8cfcc",
   "metadata": {
    "deletable": false,
    "editable": false
   },
   "source": [
    "<!-- END QUESTION -->\n",
    "\n",
    "<br/>\n",
    "\n",
    "<hr style=\"border: 1px solid #fdb515;\" />\n",
    "\n",
    "## ⚖️ Question 4: Performing Bias-Variance Analysis\n",
    "\n",
    "This question will guide you through the concepts of model bias and model variance.\n",
    "\n",
    "Recall that the **model variance** on a particular data point ($\\vec{x_k}$) is the variance of the model predictions for $\\vec{x_k}$ across parallel universes of randomly sampled training datasets:\n",
    "\n",
    "$$\\text{model variance} = \\mathrm{Var}(\\hat{Y}(\\vec{x_k})) = \\mathrm{Var}(\\vec{x_k}^T\\hat{\\theta})$$\n",
    "\n",
    "> Note that $\\hat{Y}(\\vec{x_k})$ is an alternative way to write $\\hat{f}(\\vec{x_k})$ from lecture.\n",
    "\n",
    "To estimate the model variance, we can sample a particular data point $(\\vec{x_k}, y_k)$ and calculate the variance of the predictions for $(\\vec{x_k}, y_k)$ across parallel sampling universes, where each universe has a model fit to a randomly sampled training dataset. \n",
    "\n",
    "- As it turns out, you already have these fitted models stored in `models`!\n",
    "\n",
    "-  Note that the variance is computed across the different models, which have the same shared structure (i.e., the same input features and transformations). However, fitted parameter values will differ across models since the training data differs across models.\n",
    "\n",
    "Recall that **model risk** for a single point is the same as the mean squared error (MSE) of $\\vec{x_k}$ over our parallel universes of fitted models:\n",
    "\n",
    "$$\n",
    "\\text{model risk} = \\mathbb{E}\\left[\\left(y_k - \\hat{Y}(\\vec{x_k}) \\right)^2\\right] \\approx \\frac{1}{\\# \\text{ of bootstrap}}\\sum_{j=1}^{\\# \\text{ of bootstrap}} (y_k - \\hat{Y}_j(\\vec{x_k}))^2 = MSE(\\vec{x_k})\n",
    "$$\n",
    "\n",
    "where the subscript $j$ is used to index the different models. \n",
    "\n",
    "We can also compute the ratio of model variance to model risk:\n",
    "\n",
    "$$\n",
    "\\frac{\\text{model variance}}{\\text{model risk}}=\\frac{\\mathrm{Var}(\\hat{Y}(\\vec{x_k}))}{\\mathbb{E}\\left[\\left(y_k - \\hat{Y}(\\vec{x_k}) \\right)^2\\right]}\n",
    "$$\n",
    "\n",
    "This ratio provides a sense of how much of model risk can be attributed to model variance, relative to squared bias and irreducible error ($\\sigma^2$). You may find it helpful to recall the bias-variance decomposition from lecture:\n",
    "\n",
    "$$\n",
    "\\text{model risk} = \\sigma^2 + (\\text{model bias})^2 + \\text{model variance}\n",
    "$$\n",
    "\n",
    "where $\\sigma^2$ is the observational variance, or \"irreducible error\"."
   ]
  },
  {
   "cell_type": "markdown",
   "id": "4302f9fe",
   "metadata": {
    "deletable": false,
    "editable": false
   },
   "source": [
    "<br>\n",
    "\n",
    "---\n",
    "\n",
    "### Question 4a\n",
    "\n",
    "The function `simulate()` below takes in a single data point `xk`, `yk` and a list of models `models`.\n",
    "\n",
    "- `xk` is a list of feature values for a single data point. `yk` is the scalar outcome.\n",
    "\n",
    "`simulate()` function should return three quantities: the estimated model risk (`model_risk`), the estimated model variance (`model_var`), and the ratio of model variance to model risk (`ratio`).\n",
    "\n",
    "We have left one line blank for you to fill in:\n",
    "\n",
    "```model_risk, model_var, ratio = ...```\n",
    "\n",
    "Fill in the line correctly to complete the function `simulate`:"
   ]
  },
  {
   "cell_type": "code",
   "execution_count": 32,
   "id": "74c888da",
   "metadata": {
    "tags": [
     "otter_answer_cell"
    ]
   },
   "outputs": [],
   "source": [
    "def simulate(xk, yk, models):\n",
    "    mystery_a = [model.predict([xk])[0] for model in models]\n",
    "    mystery_b = np.var(mystery_a)\n",
    "    mystery_c = np.mean((mystery_a - yk) ** 2)\n",
    "    mystery_d = mystery_b / mystery_c\n",
    "    model_risk, model_var, ratio = mystery_c, mystery_b, mystery_d\n",
    "    return model_risk, model_var, ratio"
   ]
  },
  {
   "cell_type": "code",
   "execution_count": 33,
   "id": "04752d1b",
   "metadata": {
    "deletable": false,
    "editable": false
   },
   "outputs": [
    {
     "data": {
      "text/html": [
       "<p><strong><pre style='display: inline;'>q4a</pre></strong> passed! 🚀</p>"
      ],
      "text/plain": [
       "q4a results: All test cases passed!"
      ]
     },
     "execution_count": 33,
     "metadata": {},
     "output_type": "execute_result"
    }
   ],
   "source": [
    "grader.check(\"q4a\")"
   ]
  },
  {
   "cell_type": "markdown",
   "id": "c2474933",
   "metadata": {
    "deletable": false,
    "editable": false
   },
   "source": [
    "<!-- BEGIN QUESTION -->\n",
    "\n",
    "<br>\n",
    "\n",
    "---\n",
    "\n",
    "### Question 4b\n",
    "\n",
    "Using the `simulate` function from above, we can compute the model risk, model variance, and variance-to-risk ratio of **Model B**:"
   ]
  },
  {
   "cell_type": "code",
   "execution_count": 34,
   "id": "550a7146",
   "metadata": {
    "deletable": false,
    "editable": false
   },
   "outputs": [
    {
     "name": "stdout",
     "output_type": "stream",
     "text": [
      "Model B risk:\n",
      "2.492899391169856\n",
      "Model B variance:\n",
      "0.246481679240725\n",
      "Model B ratio:\n",
      "0.0988734965052309\n"
     ]
    }
   ],
   "source": [
    "x_last = X.iloc[X.shape[0] - 100]\n",
    "y_last = Y.iloc[X.shape[0] - 100]\n",
    "\n",
    "(\n",
    "    partial_feature_model_risk,\n",
    "    partial_feature_model_var,\n",
    "    partial_feature_model_ratio\n",
    ") = simulate(x_last[model_b_features], y_last, partial_feature_models)\n",
    "\n",
    "print('Model B risk:')\n",
    "print(partial_feature_model_risk)\n",
    "\n",
    "print('Model B variance:')\n",
    "print(partial_feature_model_var)\n",
    "\n",
    "print('Model B ratio:')\n",
    "print(partial_feature_model_ratio)"
   ]
  },
  {
   "cell_type": "markdown",
   "id": "44fa92f0",
   "metadata": {
    "deletable": false,
    "editable": false
   },
   "source": [
    "Comment on the variance-to-risk ratio for Model B (`partial_feature_ratio`).\n",
    "\n",
    "- Does the model variance appear to be the dominant term in the bias-variance decomposition? If not, what term(s) dominate the bias-variance decomposition?\n",
    "\n",
    "Then, given your conclusion above, describe what operation(s) you might perform to reduce the model risk."
   ]
  },
  {
   "cell_type": "markdown",
   "id": "6ae20dc8",
   "metadata": {
    "tags": [
     "otter_answer_cell"
    ]
   },
   "source": [
    "The variance-to-risk ratio for Model B is around 0.099, meaning only about 9.9% of the model’s total error comes from variance. This tells me that variance is not the main issue — the bigger problem is bias. In other words, the model’s predictions are not fluctuating a lot, but they are consistently off. This likely happens because Model B only uses two features, which isn’t enough to capture the full complexity of what drives a college’s overall score.\n",
    "\n",
    "Since most of the error is due to bias, the best way to improve the model is by reducing that bias. One approach is to include more relevant features to give the model a fuller picture — like we do in Model A. Another option is to use a more flexible model, such as decision trees, random forests, or ridge regression, which can better handle complex or subtle patterns in the data compared to basic linear regression.\n",
    "\n",
    "In this case, using a model that can either see more features or better capture relationships between those features and the outcome would help lower the overall error and improve predictions."
   ]
  },
  {
   "cell_type": "markdown",
   "id": "076c0b07",
   "metadata": {
    "deletable": false,
    "editable": false,
    "nbgrader": {
     "grade": false,
     "grade_id": "finish",
     "locked": true,
     "schema_version": 2,
     "solution": false
    },
    "tags": []
   },
   "source": [
    "<!-- END QUESTION -->\n",
    "\n",
    "<br><br>\n",
    "\n",
    "\n",
    "<hr style=\"border: 5px solid #003262;\" />\n",
    "<hr style=\"border: 1px solid #fdb515;\" />\n",
    "\n",
    "## Congratulations! You have finished Homework 6!\n",
    "\n",
    "Here are some staff pets :) Can you find their names? There are two ways you can find it on JupyterLab.\n",
    "\n",
    "<img src=\"images/mango.jpg\" width=\"200px\"/> <img src=\"images/sage.jpg\" width=\"161px\" /> <img src=\"images/Pishi.jpg\" width=\"200px\" />\n",
    "\n",
    "\n",
    "### Course Content Feedback\n",
    "\n",
    "If you have any feedback about this assignment or about any of our other weekly, weekly assignments, lectures, or discussions, please fill out the [Course Content Feedback Form](https://docs.google.com/forms/d/e/1FAIpQLSenPfvkr0iHmkxD0v4bjEyo1iH2g0znEYe-OEkShrJikFkFfg/viewform?usp=sf_link). Your input is valuable in helping us improve the quality and relevance of our content to better meet your needs and expectations!\n",
    "\n",
    "### Submission Instructions\n",
    "\n",
    "Below, you will see a cell. Running this cell will automatically generate a zip file with your autograded answers. Once you submit this file to the HW 6 Coding assignment on Gradescope, Gradescope will automatically submit a PDF file with your written answers to the HW 6 Written assignment. If you run into any issues when running this cell, feel free to check this [section](https://ds100.org/debugging-guide/autograder_gradescope/autograder_gradescope.html#why-does-grader.exportrun_teststrue-fail-if-all-previous-tests-passed) in the Data 100 Debugging Guide.\n",
    "\n",
    "**Important**: Please check that your **plots/graphs and written responses** were generated and submitted correctly to the HW 6 Written Assignment.\n",
    "\n",
    "**You are responsible for ensuring your submission follows our requirements and that the PDF for HW 6 written answers was generated/submitted correctly. We will not be granting regrade requests nor extensions to submissions that don't follow instructions.** If you encounter any difficulties with submission, please don't hesitate to reach out to staff prior to the deadline. "
   ]
  },
  {
   "cell_type": "markdown",
   "id": "716c86f2",
   "metadata": {
    "deletable": false,
    "editable": false
   },
   "source": [
    "## Submission\n",
    "\n",
    "Make sure you have run all cells in your notebook in order before running the cell below, so that all images/graphs appear in the output. The cell below will generate a zip file for you to submit. **Please save before exporting!**"
   ]
  },
  {
   "cell_type": "code",
   "execution_count": 35,
   "id": "1bcb8358",
   "metadata": {
    "deletable": false,
    "editable": false
   },
   "outputs": [
    {
     "name": "stdout",
     "output_type": "stream",
     "text": [
      "Running your submission against local test cases...\n",
      "\n",
      "\n",
      "Your submission received the following results when run against available test cases:\n",
      "\n",
      "    q1a results: All test cases passed!\n",
      "\n",
      "    q1b results: All test cases passed!\n",
      "\n",
      "    q2a results: All test cases passed!\n",
      "\n",
      "    q3a results: All test cases passed!\n",
      "\n",
      "    q3b results: All test cases passed!\n",
      "\n",
      "    q3c results: All test cases passed!\n",
      "\n",
      "    q4a results: All test cases passed!\n"
     ]
    },
    {
     "data": {
      "text/html": [
       "\n",
       "                    <p>\n",
       "                        Your submission has been exported. Click\n",
       "                        <a href=\"hw06_2025_04_10T23_20_47_098419.zip\" download=\"hw06_2025_04_10T23_20_47_098419.zip\" target=\"_blank\">here</a> to download\n",
       "                        the zip file.\n",
       "                    </p>\n",
       "                "
      ],
      "text/plain": [
       "<IPython.core.display.HTML object>"
      ]
     },
     "metadata": {},
     "output_type": "display_data"
    }
   ],
   "source": [
    "# Save your notebook first, then run this cell to export your submission.\n",
    "grader.export(run_tests=True)"
   ]
  },
  {
   "cell_type": "markdown",
   "id": "1d676572",
   "metadata": {},
   "source": [
    " "
   ]
  },
  {
   "cell_type": "code",
   "execution_count": null,
   "id": "7df1b1b8-1b70-4c9c-a93d-d9aa476e8e16",
   "metadata": {},
   "outputs": [],
   "source": []
  }
 ],
 "metadata": {
  "kernelspec": {
   "display_name": "Python 3 (ipykernel)",
   "language": "python",
   "name": "python3"
  },
  "language_info": {
   "codemirror_mode": {
    "name": "ipython",
    "version": 3
   },
   "file_extension": ".py",
   "mimetype": "text/x-python",
   "name": "python",
   "nbconvert_exporter": "python",
   "pygments_lexer": "ipython3",
   "version": "3.11.11"
  },
  "otter": {
   "OK_FORMAT": true,
   "require_no_pdf_confirmation": true,
   "tests": {
    "q1a": {
     "name": "q1a",
     "points": 2,
     "suites": [
      {
       "cases": [
        {
         "code": ">>> cleaned_college_data.shape == (167, 22)\nTrue",
         "hidden": false,
         "locked": false
        },
        {
         "code": ">>> 'Pell gradrate_missing' in cleaned_college_data.columns\nTrue",
         "hidden": false,
         "locked": false
        }
       ],
       "scored": true,
       "setup": "",
       "teardown": "",
       "type": "doctest"
      }
     ]
    },
    "q1b": {
     "name": "q1b",
     "points": 3,
     "suites": [
      {
       "cases": [
        {
         "code": ">>> bool(cleaned_college_data.dtypes.iloc[1:].apply(lambda t: pd.api.types.is_numeric_dtype(t)).all())\nTrue",
         "hidden": false,
         "locked": false
        },
        {
         "code": ">>> cleaned_college_data.shape == (167, 22)\nTrue",
         "hidden": false,
         "locked": false
        }
       ],
       "scored": true,
       "setup": "",
       "teardown": "",
       "type": "doctest"
      }
     ]
    },
    "q2a": {
     "name": "q2a",
     "points": 3,
     "suites": [
      {
       "cases": [
        {
         "code": ">>> bool(1.47 <= train_rmse_cpc <= 1.48)\nTrue",
         "hidden": false,
         "locked": false
        },
        {
         "code": ">>> bool(2.24 <= test_rmse_cpc <= 2.25)\nTrue",
         "hidden": false,
         "locked": false
        }
       ],
       "scored": true,
       "setup": "",
       "teardown": "",
       "type": "doctest"
      }
     ]
    },
    "q3a": {
     "name": "q3a",
     "points": 2,
     "suites": [
      {
       "cases": [
        {
         "code": ">>> bool(all([len(df_i) == len(cleaned_college_data) for df_i in bootstrap_sample(cleaned_college_data, 1)]))\nTrue",
         "hidden": false,
         "locked": false
        },
        {
         "code": ">>> bool(len(bootstrap_sample(cleaned_college_data, 3)) == 3)\nTrue",
         "hidden": false,
         "locked": false
        }
       ],
       "scored": true,
       "setup": "",
       "teardown": "",
       "type": "doctest"
      }
     ]
    },
    "q3b": {
     "name": "q3b",
     "points": 2,
     "suites": [
      {
       "cases": [
        {
         "code": ">>> bool(len(full_feature_models) == 1000)\nTrue",
         "hidden": false,
         "locked": false
        },
        {
         "code": ">>> bool(X.equals(cleaned_college_data.iloc[:, 1:]) and Y.equals(cleaned_college_data.iloc[:, 0]))\nTrue",
         "hidden": false,
         "locked": false
        },
        {
         "code": ">>> bool(all([isinstance(model, lm.LinearRegression) for model in full_feature_models]))\nTrue",
         "hidden": false,
         "locked": false
        }
       ],
       "scored": true,
       "setup": "",
       "teardown": "",
       "type": "doctest"
      }
     ]
    },
    "q3c": {
     "name": "q3c",
     "points": 2,
     "suites": [
      {
       "cases": [
        {
         "code": ">>> bool(len(full_feature_cis) == 21 and all((len(ci) == 2 for ci in full_feature_cis)))\nTrue",
         "hidden": false,
         "locked": false
        }
       ],
       "scored": true,
       "setup": "",
       "teardown": "",
       "type": "doctest"
      }
     ]
    },
    "q4a": {
     "name": "q4a",
     "points": 2,
     "suites": [
      {
       "cases": [
        {
         "code": ">>> x_test_ = X.iloc[-1]\n>>> y_test_ = Y.iloc[-1]\n>>> test_4a_model_risk, test_4a_model_var, test_4a_model_ratio = simulate(x_test_, y_test_, full_feature_models)\n>>> bool(test_4a_model_risk <= 0.5)\nTrue",
         "hidden": false,
         "locked": false
        },
        {
         "code": ">>> x_test_ = X.iloc[-1]\n>>> y_test_ = Y.iloc[-1]\n>>> test_4a_model_risk, test_4a_model_var, test_4a_model_ratio = simulate(x_test_, y_test_, full_feature_models)\n>>> bool(test_4a_model_var <= 0.5)\nTrue",
         "hidden": false,
         "locked": false
        },
        {
         "code": ">>> x_test_ = X.iloc[-1]\n>>> y_test_ = Y.iloc[-1]\n>>> test_4a_model_risk, test_4a_model_var, test_4a_model_ratio = simulate(x_test_, y_test_, full_feature_models)\n>>> bool(test_4a_model_ratio >= 0.7)\nTrue",
         "hidden": false,
         "locked": false
        }
       ],
       "scored": true,
       "setup": "",
       "teardown": "",
       "type": "doctest"
      }
     ]
    }
   }
  }
 },
 "nbformat": 4,
 "nbformat_minor": 5
}
